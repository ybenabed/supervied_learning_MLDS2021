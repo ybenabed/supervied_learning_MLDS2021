{
  "nbformat": 4,
  "nbformat_minor": 0,
  "metadata": {
    "colab": {
      "name": "bank_client_classification.ipynb",
      "provenance": [],
      "collapsed_sections": [
        "U0E9jzmpDfaO",
        "V9KlDcMLDirL",
        "eFuYv0m5ih66",
        "P0qEhilpifIr",
        "L5ukoATTikt0",
        "SJpB_y2FWmTX",
        "PeDz2wtZWnC5"
      ],
      "include_colab_link": true
    },
    "kernelspec": {
      "name": "python3",
      "display_name": "Python 3"
    },
    "language_info": {
      "name": "python"
    }
  },
  "cells": [
    {
      "cell_type": "markdown",
      "metadata": {
        "id": "view-in-github",
        "colab_type": "text"
      },
      "source": [
        "<a href=\"https://colab.research.google.com/github/ybenabed/supervied_learning_MLDS2021/blob/main/bank_client_classification.ipynb\" target=\"_parent\"><img src=\"https://colab.research.google.com/assets/colab-badge.svg\" alt=\"Open In Colab\"/></a>"
      ]
    },
    {
      "cell_type": "code",
      "source": [
        "%%capture\n",
        "pip install imbalanced-learn"
      ],
      "metadata": {
        "id": "gWeH1AZ01csf"
      },
      "execution_count": 1,
      "outputs": []
    },
    {
      "cell_type": "markdown",
      "metadata": {
        "id": "U0E9jzmpDfaO"
      },
      "source": [
        "## Chagement de donnees"
      ]
    },
    {
      "cell_type": "code",
      "metadata": {
        "id": "t6HSjdHJ8SL-"
      },
      "source": [
        "import pandas as pd\n",
        "import matplotlib.pyplot as plt\n",
        "import numpy as np"
      ],
      "execution_count": 2,
      "outputs": []
    },
    {
      "cell_type": "code",
      "metadata": {
        "id": "n4rKcA7A8o2O"
      },
      "source": [
        "bank_df = pd.read_csv(\"https://raw.githubusercontent.com/jbrownlee/Datasets/master/german.csv\", names=[\"status_cce\",\n",
        "\"duree_mois\",\n",
        "\"hist_credit\",\n",
        "\"obj\",\n",
        "\"montant_credit\",\n",
        "\"compte_epargne\",\n",
        "\"emplois_depuis\",\n",
        "\"taux_vers_revenu\",\n",
        "\"status_sexe\",\n",
        "\"autres_debits\",\n",
        "\"residence_depuis\",\n",
        "\"prop\",\n",
        "\"age\",\n",
        "\"plans_vers\",\n",
        "\"log\",\n",
        "\"nbr_credits\",\n",
        "\"travail\",\n",
        "\"nbr_per_charge\",\n",
        "\"tel\",\n",
        "\"trav_etranger\",\"label\"],\n",
        "index_col=False)"
      ],
      "execution_count": 3,
      "outputs": []
    },
    {
      "cell_type": "code",
      "metadata": {
        "colab": {
          "base_uri": "https://localhost:8080/",
          "height": 0
        },
        "id": "UkaPC0px8syG",
        "outputId": "12d87bfd-ac4b-4b93-e083-49f8f7996266"
      },
      "source": [
        "bank_df.head()"
      ],
      "execution_count": 4,
      "outputs": [
        {
          "output_type": "execute_result",
          "data": {
            "text/html": [
              "\n",
              "  <div id=\"df-80851ad9-9edd-4d85-b779-bafd8d4d7567\">\n",
              "    <div class=\"colab-df-container\">\n",
              "      <div>\n",
              "<style scoped>\n",
              "    .dataframe tbody tr th:only-of-type {\n",
              "        vertical-align: middle;\n",
              "    }\n",
              "\n",
              "    .dataframe tbody tr th {\n",
              "        vertical-align: top;\n",
              "    }\n",
              "\n",
              "    .dataframe thead th {\n",
              "        text-align: right;\n",
              "    }\n",
              "</style>\n",
              "<table border=\"1\" class=\"dataframe\">\n",
              "  <thead>\n",
              "    <tr style=\"text-align: right;\">\n",
              "      <th></th>\n",
              "      <th>status_cce</th>\n",
              "      <th>duree_mois</th>\n",
              "      <th>hist_credit</th>\n",
              "      <th>obj</th>\n",
              "      <th>montant_credit</th>\n",
              "      <th>compte_epargne</th>\n",
              "      <th>emplois_depuis</th>\n",
              "      <th>taux_vers_revenu</th>\n",
              "      <th>status_sexe</th>\n",
              "      <th>autres_debits</th>\n",
              "      <th>residence_depuis</th>\n",
              "      <th>prop</th>\n",
              "      <th>age</th>\n",
              "      <th>plans_vers</th>\n",
              "      <th>log</th>\n",
              "      <th>nbr_credits</th>\n",
              "      <th>travail</th>\n",
              "      <th>nbr_per_charge</th>\n",
              "      <th>tel</th>\n",
              "      <th>trav_etranger</th>\n",
              "      <th>label</th>\n",
              "    </tr>\n",
              "  </thead>\n",
              "  <tbody>\n",
              "    <tr>\n",
              "      <th>0</th>\n",
              "      <td>A11</td>\n",
              "      <td>6</td>\n",
              "      <td>A34</td>\n",
              "      <td>A43</td>\n",
              "      <td>1169</td>\n",
              "      <td>A65</td>\n",
              "      <td>A75</td>\n",
              "      <td>4</td>\n",
              "      <td>A93</td>\n",
              "      <td>A101</td>\n",
              "      <td>4</td>\n",
              "      <td>A121</td>\n",
              "      <td>67</td>\n",
              "      <td>A143</td>\n",
              "      <td>A152</td>\n",
              "      <td>2</td>\n",
              "      <td>A173</td>\n",
              "      <td>1</td>\n",
              "      <td>A192</td>\n",
              "      <td>A201</td>\n",
              "      <td>1</td>\n",
              "    </tr>\n",
              "    <tr>\n",
              "      <th>1</th>\n",
              "      <td>A12</td>\n",
              "      <td>48</td>\n",
              "      <td>A32</td>\n",
              "      <td>A43</td>\n",
              "      <td>5951</td>\n",
              "      <td>A61</td>\n",
              "      <td>A73</td>\n",
              "      <td>2</td>\n",
              "      <td>A92</td>\n",
              "      <td>A101</td>\n",
              "      <td>2</td>\n",
              "      <td>A121</td>\n",
              "      <td>22</td>\n",
              "      <td>A143</td>\n",
              "      <td>A152</td>\n",
              "      <td>1</td>\n",
              "      <td>A173</td>\n",
              "      <td>1</td>\n",
              "      <td>A191</td>\n",
              "      <td>A201</td>\n",
              "      <td>2</td>\n",
              "    </tr>\n",
              "    <tr>\n",
              "      <th>2</th>\n",
              "      <td>A14</td>\n",
              "      <td>12</td>\n",
              "      <td>A34</td>\n",
              "      <td>A46</td>\n",
              "      <td>2096</td>\n",
              "      <td>A61</td>\n",
              "      <td>A74</td>\n",
              "      <td>2</td>\n",
              "      <td>A93</td>\n",
              "      <td>A101</td>\n",
              "      <td>3</td>\n",
              "      <td>A121</td>\n",
              "      <td>49</td>\n",
              "      <td>A143</td>\n",
              "      <td>A152</td>\n",
              "      <td>1</td>\n",
              "      <td>A172</td>\n",
              "      <td>2</td>\n",
              "      <td>A191</td>\n",
              "      <td>A201</td>\n",
              "      <td>1</td>\n",
              "    </tr>\n",
              "    <tr>\n",
              "      <th>3</th>\n",
              "      <td>A11</td>\n",
              "      <td>42</td>\n",
              "      <td>A32</td>\n",
              "      <td>A42</td>\n",
              "      <td>7882</td>\n",
              "      <td>A61</td>\n",
              "      <td>A74</td>\n",
              "      <td>2</td>\n",
              "      <td>A93</td>\n",
              "      <td>A103</td>\n",
              "      <td>4</td>\n",
              "      <td>A122</td>\n",
              "      <td>45</td>\n",
              "      <td>A143</td>\n",
              "      <td>A153</td>\n",
              "      <td>1</td>\n",
              "      <td>A173</td>\n",
              "      <td>2</td>\n",
              "      <td>A191</td>\n",
              "      <td>A201</td>\n",
              "      <td>1</td>\n",
              "    </tr>\n",
              "    <tr>\n",
              "      <th>4</th>\n",
              "      <td>A11</td>\n",
              "      <td>24</td>\n",
              "      <td>A33</td>\n",
              "      <td>A40</td>\n",
              "      <td>4870</td>\n",
              "      <td>A61</td>\n",
              "      <td>A73</td>\n",
              "      <td>3</td>\n",
              "      <td>A93</td>\n",
              "      <td>A101</td>\n",
              "      <td>4</td>\n",
              "      <td>A124</td>\n",
              "      <td>53</td>\n",
              "      <td>A143</td>\n",
              "      <td>A153</td>\n",
              "      <td>2</td>\n",
              "      <td>A173</td>\n",
              "      <td>2</td>\n",
              "      <td>A191</td>\n",
              "      <td>A201</td>\n",
              "      <td>2</td>\n",
              "    </tr>\n",
              "  </tbody>\n",
              "</table>\n",
              "</div>\n",
              "      <button class=\"colab-df-convert\" onclick=\"convertToInteractive('df-80851ad9-9edd-4d85-b779-bafd8d4d7567')\"\n",
              "              title=\"Convert this dataframe to an interactive table.\"\n",
              "              style=\"display:none;\">\n",
              "        \n",
              "  <svg xmlns=\"http://www.w3.org/2000/svg\" height=\"24px\"viewBox=\"0 0 24 24\"\n",
              "       width=\"24px\">\n",
              "    <path d=\"M0 0h24v24H0V0z\" fill=\"none\"/>\n",
              "    <path d=\"M18.56 5.44l.94 2.06.94-2.06 2.06-.94-2.06-.94-.94-2.06-.94 2.06-2.06.94zm-11 1L8.5 8.5l.94-2.06 2.06-.94-2.06-.94L8.5 2.5l-.94 2.06-2.06.94zm10 10l.94 2.06.94-2.06 2.06-.94-2.06-.94-.94-2.06-.94 2.06-2.06.94z\"/><path d=\"M17.41 7.96l-1.37-1.37c-.4-.4-.92-.59-1.43-.59-.52 0-1.04.2-1.43.59L10.3 9.45l-7.72 7.72c-.78.78-.78 2.05 0 2.83L4 21.41c.39.39.9.59 1.41.59.51 0 1.02-.2 1.41-.59l7.78-7.78 2.81-2.81c.8-.78.8-2.07 0-2.86zM5.41 20L4 18.59l7.72-7.72 1.47 1.35L5.41 20z\"/>\n",
              "  </svg>\n",
              "      </button>\n",
              "      \n",
              "  <style>\n",
              "    .colab-df-container {\n",
              "      display:flex;\n",
              "      flex-wrap:wrap;\n",
              "      gap: 12px;\n",
              "    }\n",
              "\n",
              "    .colab-df-convert {\n",
              "      background-color: #E8F0FE;\n",
              "      border: none;\n",
              "      border-radius: 50%;\n",
              "      cursor: pointer;\n",
              "      display: none;\n",
              "      fill: #1967D2;\n",
              "      height: 32px;\n",
              "      padding: 0 0 0 0;\n",
              "      width: 32px;\n",
              "    }\n",
              "\n",
              "    .colab-df-convert:hover {\n",
              "      background-color: #E2EBFA;\n",
              "      box-shadow: 0px 1px 2px rgba(60, 64, 67, 0.3), 0px 1px 3px 1px rgba(60, 64, 67, 0.15);\n",
              "      fill: #174EA6;\n",
              "    }\n",
              "\n",
              "    [theme=dark] .colab-df-convert {\n",
              "      background-color: #3B4455;\n",
              "      fill: #D2E3FC;\n",
              "    }\n",
              "\n",
              "    [theme=dark] .colab-df-convert:hover {\n",
              "      background-color: #434B5C;\n",
              "      box-shadow: 0px 1px 3px 1px rgba(0, 0, 0, 0.15);\n",
              "      filter: drop-shadow(0px 1px 2px rgba(0, 0, 0, 0.3));\n",
              "      fill: #FFFFFF;\n",
              "    }\n",
              "  </style>\n",
              "\n",
              "      <script>\n",
              "        const buttonEl =\n",
              "          document.querySelector('#df-80851ad9-9edd-4d85-b779-bafd8d4d7567 button.colab-df-convert');\n",
              "        buttonEl.style.display =\n",
              "          google.colab.kernel.accessAllowed ? 'block' : 'none';\n",
              "\n",
              "        async function convertToInteractive(key) {\n",
              "          const element = document.querySelector('#df-80851ad9-9edd-4d85-b779-bafd8d4d7567');\n",
              "          const dataTable =\n",
              "            await google.colab.kernel.invokeFunction('convertToInteractive',\n",
              "                                                     [key], {});\n",
              "          if (!dataTable) return;\n",
              "\n",
              "          const docLinkHtml = 'Like what you see? Visit the ' +\n",
              "            '<a target=\"_blank\" href=https://colab.research.google.com/notebooks/data_table.ipynb>data table notebook</a>'\n",
              "            + ' to learn more about interactive tables.';\n",
              "          element.innerHTML = '';\n",
              "          dataTable['output_type'] = 'display_data';\n",
              "          await google.colab.output.renderOutput(dataTable, element);\n",
              "          const docLink = document.createElement('div');\n",
              "          docLink.innerHTML = docLinkHtml;\n",
              "          element.appendChild(docLink);\n",
              "        }\n",
              "      </script>\n",
              "    </div>\n",
              "  </div>\n",
              "  "
            ],
            "text/plain": [
              "  status_cce  duree_mois hist_credit  ...   tel  trav_etranger label\n",
              "0        A11           6         A34  ...  A192           A201     1\n",
              "1        A12          48         A32  ...  A191           A201     2\n",
              "2        A14          12         A34  ...  A191           A201     1\n",
              "3        A11          42         A32  ...  A191           A201     1\n",
              "4        A11          24         A33  ...  A191           A201     2\n",
              "\n",
              "[5 rows x 21 columns]"
            ]
          },
          "metadata": {},
          "execution_count": 4
        }
      ]
    },
    {
      "cell_type": "code",
      "metadata": {
        "colab": {
          "base_uri": "https://localhost:8080/"
        },
        "id": "1bcSVTa48t8n",
        "outputId": "a80027d2-eccd-482f-d4d7-d3f875521817"
      },
      "source": [
        "bank_df.shape"
      ],
      "execution_count": 5,
      "outputs": [
        {
          "output_type": "execute_result",
          "data": {
            "text/plain": [
              "(1000, 21)"
            ]
          },
          "metadata": {},
          "execution_count": 5
        }
      ]
    },
    {
      "cell_type": "markdown",
      "source": [
        "Cet ensemble de données comprend 1000 exemples et 20 variables, avec une variable supplémentaire \"label\" indiquant la classe correspondante à chaque individu.\n",
        "\n",
        "En visualisant le nombre de valeurs nulles qui existent dans chacune des collones, on remarque que ce jeux de données ne contient aucune valeur nulle qui peut affecter l'apprentissage."
      ],
      "metadata": {
        "id": "VsWKi8Dcv9sW"
      }
    },
    {
      "cell_type": "code",
      "metadata": {
        "colab": {
          "base_uri": "https://localhost:8080/"
        },
        "id": "Kb0SM1XtIfmC",
        "outputId": "0f26f51a-37fa-4b22-c90f-9eefc91a8cc2"
      },
      "source": [
        "bank_df.isnull().sum()"
      ],
      "execution_count": 6,
      "outputs": [
        {
          "output_type": "execute_result",
          "data": {
            "text/plain": [
              "status_cce          0\n",
              "duree_mois          0\n",
              "hist_credit         0\n",
              "obj                 0\n",
              "montant_credit      0\n",
              "compte_epargne      0\n",
              "emplois_depuis      0\n",
              "taux_vers_revenu    0\n",
              "status_sexe         0\n",
              "autres_debits       0\n",
              "residence_depuis    0\n",
              "prop                0\n",
              "age                 0\n",
              "plans_vers          0\n",
              "log                 0\n",
              "nbr_credits         0\n",
              "travail             0\n",
              "nbr_per_charge      0\n",
              "tel                 0\n",
              "trav_etranger       0\n",
              "label               0\n",
              "dtype: int64"
            ]
          },
          "metadata": {},
          "execution_count": 6
        }
      ]
    },
    {
      "cell_type": "markdown",
      "metadata": {
        "id": "V9KlDcMLDirL"
      },
      "source": [
        "## Analyse Exploratoire"
      ]
    },
    {
      "cell_type": "code",
      "metadata": {
        "colab": {
          "base_uri": "https://localhost:8080/"
        },
        "id": "Cyn_ufG5qpPW",
        "outputId": "ae8d9e73-97ae-4c99-d014-ed7b900f9a42"
      },
      "source": [
        "bank_df.info()"
      ],
      "execution_count": 7,
      "outputs": [
        {
          "output_type": "stream",
          "name": "stdout",
          "text": [
            "<class 'pandas.core.frame.DataFrame'>\n",
            "RangeIndex: 1000 entries, 0 to 999\n",
            "Data columns (total 21 columns):\n",
            " #   Column            Non-Null Count  Dtype \n",
            "---  ------            --------------  ----- \n",
            " 0   status_cce        1000 non-null   object\n",
            " 1   duree_mois        1000 non-null   int64 \n",
            " 2   hist_credit       1000 non-null   object\n",
            " 3   obj               1000 non-null   object\n",
            " 4   montant_credit    1000 non-null   int64 \n",
            " 5   compte_epargne    1000 non-null   object\n",
            " 6   emplois_depuis    1000 non-null   object\n",
            " 7   taux_vers_revenu  1000 non-null   int64 \n",
            " 8   status_sexe       1000 non-null   object\n",
            " 9   autres_debits     1000 non-null   object\n",
            " 10  residence_depuis  1000 non-null   int64 \n",
            " 11  prop              1000 non-null   object\n",
            " 12  age               1000 non-null   int64 \n",
            " 13  plans_vers        1000 non-null   object\n",
            " 14  log               1000 non-null   object\n",
            " 15  nbr_credits       1000 non-null   int64 \n",
            " 16  travail           1000 non-null   object\n",
            " 17  nbr_per_charge    1000 non-null   int64 \n",
            " 18  tel               1000 non-null   object\n",
            " 19  trav_etranger     1000 non-null   object\n",
            " 20  label             1000 non-null   int64 \n",
            "dtypes: int64(8), object(13)\n",
            "memory usage: 164.2+ KB\n"
          ]
        }
      ]
    },
    {
      "cell_type": "markdown",
      "source": [
        "### Analyse de quelques varaibles numerique particulieres"
      ],
      "metadata": {
        "id": "lwBnDvgCauP1"
      }
    },
    {
      "cell_type": "markdown",
      "source": [
        "#### Taux vers revenu"
      ],
      "metadata": {
        "id": "oF8cKsBKa6XR"
      }
    },
    {
      "cell_type": "code",
      "source": [
        "bank_df['taux_vers_revenu'].unique()"
      ],
      "metadata": {
        "colab": {
          "base_uri": "https://localhost:8080/"
        },
        "id": "d58TVSniZNvn",
        "outputId": "56565e77-dab9-46ce-b9a5-b2b435c7c95e"
      },
      "execution_count": 8,
      "outputs": [
        {
          "output_type": "execute_result",
          "data": {
            "text/plain": [
              "array([4, 2, 3, 1])"
            ]
          },
          "metadata": {},
          "execution_count": 8
        }
      ]
    },
    {
      "cell_type": "markdown",
      "source": [
        "La variable taux vers revenu: Taux de versement en pourcentage du revenu disponible. Elle ne contient que 4 valeurs distinctes pour tous les individus. On la considère comme une variable qualitative."
      ],
      "metadata": {
        "id": "n1mOmis-ZRMG"
      }
    },
    {
      "cell_type": "markdown",
      "source": [
        "#### Duree Mois"
      ],
      "metadata": {
        "id": "qgq0TPq6a-QN"
      }
    },
    {
      "cell_type": "code",
      "source": [
        "bank_df[\"duree_mois\"].value_counts()"
      ],
      "metadata": {
        "colab": {
          "base_uri": "https://localhost:8080/"
        },
        "id": "sTZTVjE4Zd3o",
        "outputId": "587ec193-d55e-4c0e-bb47-9a9496d471cd"
      },
      "execution_count": 9,
      "outputs": [
        {
          "output_type": "execute_result",
          "data": {
            "text/plain": [
              "24    184\n",
              "12    179\n",
              "18    113\n",
              "36     83\n",
              "6      75\n",
              "15     64\n",
              "9      49\n",
              "48     48\n",
              "30     40\n",
              "21     30\n",
              "10     28\n",
              "60     13\n",
              "27     13\n",
              "42     11\n",
              "11      9\n",
              "20      8\n",
              "8       7\n",
              "4       6\n",
              "45      5\n",
              "7       5\n",
              "39      5\n",
              "14      4\n",
              "13      4\n",
              "33      3\n",
              "28      3\n",
              "54      2\n",
              "16      2\n",
              "22      2\n",
              "47      1\n",
              "5       1\n",
              "26      1\n",
              "72      1\n",
              "40      1\n",
              "Name: duree_mois, dtype: int64"
            ]
          },
          "metadata": {},
          "execution_count": 9
        }
      ]
    },
    {
      "cell_type": "code",
      "source": [
        "bank_df[\"duree_mois\"].describe()"
      ],
      "metadata": {
        "colab": {
          "base_uri": "https://localhost:8080/"
        },
        "id": "CBQebPmhZuv3",
        "outputId": "0a055829-cec5-4679-c86e-c09096b3f386"
      },
      "execution_count": 10,
      "outputs": [
        {
          "output_type": "execute_result",
          "data": {
            "text/plain": [
              "count    1000.000000\n",
              "mean       20.903000\n",
              "std        12.058814\n",
              "min         4.000000\n",
              "25%        12.000000\n",
              "50%        18.000000\n",
              "75%        24.000000\n",
              "max        72.000000\n",
              "Name: duree_mois, dtype: float64"
            ]
          },
          "metadata": {},
          "execution_count": 10
        }
      ]
    },
    {
      "cell_type": "markdown",
      "source": [
        "On peut transformer la variable duree_mois en une variable categorique en utiltisant des intervalles de coupures, les quartiles par exemple."
      ],
      "metadata": {
        "id": "PmuK1x8cZhVm"
      }
    },
    {
      "cell_type": "markdown",
      "source": [
        "#### Residence depuis"
      ],
      "metadata": {
        "id": "qZNvBIiTbAK9"
      }
    },
    {
      "cell_type": "code",
      "source": [
        "bank_df[\"residence_depuis\"].describe()"
      ],
      "metadata": {
        "colab": {
          "base_uri": "https://localhost:8080/"
        },
        "id": "0W8AVGYHZthl",
        "outputId": "335b91ba-28de-409b-b75b-58b7c76bb248"
      },
      "execution_count": 11,
      "outputs": [
        {
          "output_type": "execute_result",
          "data": {
            "text/plain": [
              "count    1000.000000\n",
              "mean        2.845000\n",
              "std         1.103718\n",
              "min         1.000000\n",
              "25%         2.000000\n",
              "50%         3.000000\n",
              "75%         4.000000\n",
              "max         4.000000\n",
              "Name: residence_depuis, dtype: float64"
            ]
          },
          "metadata": {},
          "execution_count": 11
        }
      ]
    },
    {
      "cell_type": "code",
      "source": [
        "bank_df[\"residence_depuis\"].value_counts()"
      ],
      "metadata": {
        "colab": {
          "base_uri": "https://localhost:8080/"
        },
        "id": "eZRapIsTbQdl",
        "outputId": "c14a32f3-50de-4888-f2d2-cdbc3df894e5"
      },
      "execution_count": 12,
      "outputs": [
        {
          "output_type": "execute_result",
          "data": {
            "text/plain": [
              "4    413\n",
              "2    308\n",
              "3    149\n",
              "1    130\n",
              "Name: residence_depuis, dtype: int64"
            ]
          },
          "metadata": {},
          "execution_count": 12
        }
      ]
    },
    {
      "cell_type": "markdown",
      "source": [
        "La variable residence_depuis ne contient que 4 valeurs distinctes pour tous les individus. On la considère une variable qualitative."
      ],
      "metadata": {
        "id": "dXqdvxIXbWie"
      }
    },
    {
      "cell_type": "markdown",
      "source": [
        "#### Age"
      ],
      "metadata": {
        "id": "B7sx5VKlbnCd"
      }
    },
    {
      "cell_type": "code",
      "source": [
        "bank_df[\"age\"].describe()"
      ],
      "metadata": {
        "colab": {
          "base_uri": "https://localhost:8080/"
        },
        "id": "wp68Kz0dbmW-",
        "outputId": "039a2c31-70a7-4a2f-9a9e-6e009ab63087"
      },
      "execution_count": 13,
      "outputs": [
        {
          "output_type": "execute_result",
          "data": {
            "text/plain": [
              "count    1000.000000\n",
              "mean       35.546000\n",
              "std        11.375469\n",
              "min        19.000000\n",
              "25%        27.000000\n",
              "50%        33.000000\n",
              "75%        42.000000\n",
              "max        75.000000\n",
              "Name: age, dtype: float64"
            ]
          },
          "metadata": {},
          "execution_count": 13
        }
      ]
    },
    {
      "cell_type": "code",
      "source": [
        "bank_df[\"age\"].unique()"
      ],
      "metadata": {
        "colab": {
          "base_uri": "https://localhost:8080/"
        },
        "id": "CBuRthhabxac",
        "outputId": "e280481a-f14e-4b1a-e7cf-331961ae9eb8"
      },
      "execution_count": 14,
      "outputs": [
        {
          "output_type": "execute_result",
          "data": {
            "text/plain": [
              "array([67, 22, 49, 45, 53, 35, 61, 28, 25, 24, 60, 32, 44, 31, 48, 26, 36,\n",
              "       39, 42, 34, 63, 27, 30, 57, 33, 37, 58, 23, 29, 52, 50, 46, 51, 41,\n",
              "       40, 66, 47, 56, 54, 20, 21, 38, 70, 65, 74, 68, 43, 55, 64, 75, 19,\n",
              "       62, 59])"
            ]
          },
          "metadata": {},
          "execution_count": 14
        }
      ]
    },
    {
      "cell_type": "markdown",
      "source": [
        "#### Nombre de credit"
      ],
      "metadata": {
        "id": "5f3ye1TxcChW"
      }
    },
    {
      "cell_type": "code",
      "source": [
        "bank_df[\"nbr_credits\"].unique()"
      ],
      "metadata": {
        "colab": {
          "base_uri": "https://localhost:8080/"
        },
        "id": "f82O1f7PcE3k",
        "outputId": "c1c35476-aa74-4bfb-f86e-afe8b1385b97"
      },
      "execution_count": 15,
      "outputs": [
        {
          "output_type": "execute_result",
          "data": {
            "text/plain": [
              "array([2, 1, 3, 4])"
            ]
          },
          "metadata": {},
          "execution_count": 15
        }
      ]
    },
    {
      "cell_type": "code",
      "source": [
        "bank_df[\"nbr_credits\"].value_counts()"
      ],
      "metadata": {
        "colab": {
          "base_uri": "https://localhost:8080/"
        },
        "id": "mp6MqAjccG-V",
        "outputId": "0109374c-e3cf-4a0d-e59b-eb4fe42f063f"
      },
      "execution_count": 16,
      "outputs": [
        {
          "output_type": "execute_result",
          "data": {
            "text/plain": [
              "1    633\n",
              "2    333\n",
              "3     28\n",
              "4      6\n",
              "Name: nbr_credits, dtype: int64"
            ]
          },
          "metadata": {},
          "execution_count": 16
        }
      ]
    },
    {
      "cell_type": "markdown",
      "source": [
        "La variable nbr_credits: \"Nombre de credits\" ne contient que 4 valeurs distinctes pour tous les individus. On la considère une variable qualitative."
      ],
      "metadata": {
        "id": "a2VdajBBcKx0"
      }
    },
    {
      "cell_type": "markdown",
      "source": [
        "#### Nombre de personnes en charge"
      ],
      "metadata": {
        "id": "3DgiSCK_cQpj"
      }
    },
    {
      "cell_type": "code",
      "source": [
        "bank_df[\"nbr_per_charge\"].unique()"
      ],
      "metadata": {
        "colab": {
          "base_uri": "https://localhost:8080/"
        },
        "id": "ivqs42IXcVNc",
        "outputId": "fd6306ae-40b3-4edb-f995-10e93ed9e2b2"
      },
      "execution_count": 17,
      "outputs": [
        {
          "output_type": "execute_result",
          "data": {
            "text/plain": [
              "array([1, 2])"
            ]
          },
          "metadata": {},
          "execution_count": 17
        }
      ]
    },
    {
      "cell_type": "code",
      "source": [
        "bank_df[\"nbr_per_charge\"].value_counts()"
      ],
      "metadata": {
        "colab": {
          "base_uri": "https://localhost:8080/"
        },
        "id": "SzJHghA8cYL0",
        "outputId": "f5087bc8-8b0a-4ec9-8a3c-e0a46e6da5a5"
      },
      "execution_count": 18,
      "outputs": [
        {
          "output_type": "execute_result",
          "data": {
            "text/plain": [
              "1    845\n",
              "2    155\n",
              "Name: nbr_per_charge, dtype: int64"
            ]
          },
          "metadata": {},
          "execution_count": 18
        }
      ]
    },
    {
      "cell_type": "markdown",
      "source": [
        "La variable nbr_per_charge: \"Nombre de personnes\" ne contient que 2 valeurs distinctes pour tous les individus. On la considère une variable qualitative."
      ],
      "metadata": {
        "id": "gjpiJ4EQccME"
      }
    },
    {
      "cell_type": "markdown",
      "source": [
        "#### Description sur les variables quantatives"
      ],
      "metadata": {
        "id": "XIAtsVeRz5PJ"
      }
    },
    {
      "cell_type": "code",
      "source": [
        "bank_numerical_variable = ['duree_mois', 'montant_credit', 'age', 'nbr_credits']\n",
        "bank_df[bank_numerical_variable].describe()"
      ],
      "metadata": {
        "colab": {
          "base_uri": "https://localhost:8080/",
          "height": 300
        },
        "id": "IBWkiHRhYs_Z",
        "outputId": "f4d4fec9-d247-47af-b16a-513ec5d0d928"
      },
      "execution_count": 19,
      "outputs": [
        {
          "output_type": "execute_result",
          "data": {
            "text/html": [
              "\n",
              "  <div id=\"df-037c58a2-563c-4926-8cad-e0521acc8d81\">\n",
              "    <div class=\"colab-df-container\">\n",
              "      <div>\n",
              "<style scoped>\n",
              "    .dataframe tbody tr th:only-of-type {\n",
              "        vertical-align: middle;\n",
              "    }\n",
              "\n",
              "    .dataframe tbody tr th {\n",
              "        vertical-align: top;\n",
              "    }\n",
              "\n",
              "    .dataframe thead th {\n",
              "        text-align: right;\n",
              "    }\n",
              "</style>\n",
              "<table border=\"1\" class=\"dataframe\">\n",
              "  <thead>\n",
              "    <tr style=\"text-align: right;\">\n",
              "      <th></th>\n",
              "      <th>duree_mois</th>\n",
              "      <th>montant_credit</th>\n",
              "      <th>age</th>\n",
              "      <th>nbr_credits</th>\n",
              "    </tr>\n",
              "  </thead>\n",
              "  <tbody>\n",
              "    <tr>\n",
              "      <th>count</th>\n",
              "      <td>1000.000000</td>\n",
              "      <td>1000.000000</td>\n",
              "      <td>1000.000000</td>\n",
              "      <td>1000.000000</td>\n",
              "    </tr>\n",
              "    <tr>\n",
              "      <th>mean</th>\n",
              "      <td>20.903000</td>\n",
              "      <td>3271.258000</td>\n",
              "      <td>35.546000</td>\n",
              "      <td>1.407000</td>\n",
              "    </tr>\n",
              "    <tr>\n",
              "      <th>std</th>\n",
              "      <td>12.058814</td>\n",
              "      <td>2822.736876</td>\n",
              "      <td>11.375469</td>\n",
              "      <td>0.577654</td>\n",
              "    </tr>\n",
              "    <tr>\n",
              "      <th>min</th>\n",
              "      <td>4.000000</td>\n",
              "      <td>250.000000</td>\n",
              "      <td>19.000000</td>\n",
              "      <td>1.000000</td>\n",
              "    </tr>\n",
              "    <tr>\n",
              "      <th>25%</th>\n",
              "      <td>12.000000</td>\n",
              "      <td>1365.500000</td>\n",
              "      <td>27.000000</td>\n",
              "      <td>1.000000</td>\n",
              "    </tr>\n",
              "    <tr>\n",
              "      <th>50%</th>\n",
              "      <td>18.000000</td>\n",
              "      <td>2319.500000</td>\n",
              "      <td>33.000000</td>\n",
              "      <td>1.000000</td>\n",
              "    </tr>\n",
              "    <tr>\n",
              "      <th>75%</th>\n",
              "      <td>24.000000</td>\n",
              "      <td>3972.250000</td>\n",
              "      <td>42.000000</td>\n",
              "      <td>2.000000</td>\n",
              "    </tr>\n",
              "    <tr>\n",
              "      <th>max</th>\n",
              "      <td>72.000000</td>\n",
              "      <td>18424.000000</td>\n",
              "      <td>75.000000</td>\n",
              "      <td>4.000000</td>\n",
              "    </tr>\n",
              "  </tbody>\n",
              "</table>\n",
              "</div>\n",
              "      <button class=\"colab-df-convert\" onclick=\"convertToInteractive('df-037c58a2-563c-4926-8cad-e0521acc8d81')\"\n",
              "              title=\"Convert this dataframe to an interactive table.\"\n",
              "              style=\"display:none;\">\n",
              "        \n",
              "  <svg xmlns=\"http://www.w3.org/2000/svg\" height=\"24px\"viewBox=\"0 0 24 24\"\n",
              "       width=\"24px\">\n",
              "    <path d=\"M0 0h24v24H0V0z\" fill=\"none\"/>\n",
              "    <path d=\"M18.56 5.44l.94 2.06.94-2.06 2.06-.94-2.06-.94-.94-2.06-.94 2.06-2.06.94zm-11 1L8.5 8.5l.94-2.06 2.06-.94-2.06-.94L8.5 2.5l-.94 2.06-2.06.94zm10 10l.94 2.06.94-2.06 2.06-.94-2.06-.94-.94-2.06-.94 2.06-2.06.94z\"/><path d=\"M17.41 7.96l-1.37-1.37c-.4-.4-.92-.59-1.43-.59-.52 0-1.04.2-1.43.59L10.3 9.45l-7.72 7.72c-.78.78-.78 2.05 0 2.83L4 21.41c.39.39.9.59 1.41.59.51 0 1.02-.2 1.41-.59l7.78-7.78 2.81-2.81c.8-.78.8-2.07 0-2.86zM5.41 20L4 18.59l7.72-7.72 1.47 1.35L5.41 20z\"/>\n",
              "  </svg>\n",
              "      </button>\n",
              "      \n",
              "  <style>\n",
              "    .colab-df-container {\n",
              "      display:flex;\n",
              "      flex-wrap:wrap;\n",
              "      gap: 12px;\n",
              "    }\n",
              "\n",
              "    .colab-df-convert {\n",
              "      background-color: #E8F0FE;\n",
              "      border: none;\n",
              "      border-radius: 50%;\n",
              "      cursor: pointer;\n",
              "      display: none;\n",
              "      fill: #1967D2;\n",
              "      height: 32px;\n",
              "      padding: 0 0 0 0;\n",
              "      width: 32px;\n",
              "    }\n",
              "\n",
              "    .colab-df-convert:hover {\n",
              "      background-color: #E2EBFA;\n",
              "      box-shadow: 0px 1px 2px rgba(60, 64, 67, 0.3), 0px 1px 3px 1px rgba(60, 64, 67, 0.15);\n",
              "      fill: #174EA6;\n",
              "    }\n",
              "\n",
              "    [theme=dark] .colab-df-convert {\n",
              "      background-color: #3B4455;\n",
              "      fill: #D2E3FC;\n",
              "    }\n",
              "\n",
              "    [theme=dark] .colab-df-convert:hover {\n",
              "      background-color: #434B5C;\n",
              "      box-shadow: 0px 1px 3px 1px rgba(0, 0, 0, 0.15);\n",
              "      filter: drop-shadow(0px 1px 2px rgba(0, 0, 0, 0.3));\n",
              "      fill: #FFFFFF;\n",
              "    }\n",
              "  </style>\n",
              "\n",
              "      <script>\n",
              "        const buttonEl =\n",
              "          document.querySelector('#df-037c58a2-563c-4926-8cad-e0521acc8d81 button.colab-df-convert');\n",
              "        buttonEl.style.display =\n",
              "          google.colab.kernel.accessAllowed ? 'block' : 'none';\n",
              "\n",
              "        async function convertToInteractive(key) {\n",
              "          const element = document.querySelector('#df-037c58a2-563c-4926-8cad-e0521acc8d81');\n",
              "          const dataTable =\n",
              "            await google.colab.kernel.invokeFunction('convertToInteractive',\n",
              "                                                     [key], {});\n",
              "          if (!dataTable) return;\n",
              "\n",
              "          const docLinkHtml = 'Like what you see? Visit the ' +\n",
              "            '<a target=\"_blank\" href=https://colab.research.google.com/notebooks/data_table.ipynb>data table notebook</a>'\n",
              "            + ' to learn more about interactive tables.';\n",
              "          element.innerHTML = '';\n",
              "          dataTable['output_type'] = 'display_data';\n",
              "          await google.colab.output.renderOutput(dataTable, element);\n",
              "          const docLink = document.createElement('div');\n",
              "          docLink.innerHTML = docLinkHtml;\n",
              "          element.appendChild(docLink);\n",
              "        }\n",
              "      </script>\n",
              "    </div>\n",
              "  </div>\n",
              "  "
            ],
            "text/plain": [
              "        duree_mois  montant_credit          age  nbr_credits\n",
              "count  1000.000000     1000.000000  1000.000000  1000.000000\n",
              "mean     20.903000     3271.258000    35.546000     1.407000\n",
              "std      12.058814     2822.736876    11.375469     0.577654\n",
              "min       4.000000      250.000000    19.000000     1.000000\n",
              "25%      12.000000     1365.500000    27.000000     1.000000\n",
              "50%      18.000000     2319.500000    33.000000     1.000000\n",
              "75%      24.000000     3972.250000    42.000000     2.000000\n",
              "max      72.000000    18424.000000    75.000000     4.000000"
            ]
          },
          "metadata": {},
          "execution_count": 19
        }
      ]
    },
    {
      "cell_type": "markdown",
      "metadata": {
        "id": "TQF06io_mN6Y"
      },
      "source": [
        "### Variables Qualitative"
      ]
    },
    {
      "cell_type": "markdown",
      "source": [
        "Ajouter les variables jugées qualitatives à l'ensemble de variables qualitatives."
      ],
      "metadata": {
        "id": "fGBFN6nd1XTc"
      }
    },
    {
      "cell_type": "code",
      "source": [
        "bank_int_as_categ = [\"taux_vers_revenu\", \"residence_depuis\", \"nbr_per_charge\"]"
      ],
      "metadata": {
        "id": "31tRpPw6c_YT"
      },
      "execution_count": 20,
      "outputs": []
    },
    {
      "cell_type": "code",
      "source": [
        "bank_int_as_categ"
      ],
      "metadata": {
        "colab": {
          "base_uri": "https://localhost:8080/"
        },
        "id": "M3u_HZSldMeM",
        "outputId": "8911d36b-23ee-4678-ebf1-21ace4b3daa3"
      },
      "execution_count": 21,
      "outputs": [
        {
          "output_type": "execute_result",
          "data": {
            "text/plain": [
              "['taux_vers_revenu', 'residence_depuis', 'nbr_per_charge']"
            ]
          },
          "metadata": {},
          "execution_count": 21
        }
      ]
    },
    {
      "cell_type": "code",
      "source": [
        "bank_categorical = bank_df.select_dtypes(include=['object']).columns.to_list()\n",
        "bank_categorical.extend(bank_int_as_categ)\n",
        "bank_numerical = list(set(bank_df.select_dtypes(include=['int']).columns.to_list()) - set(bank_categorical))\n",
        "bank_numerical.remove('label')"
      ],
      "metadata": {
        "id": "1bAFwtqkci2U"
      },
      "execution_count": 22,
      "outputs": []
    },
    {
      "cell_type": "code",
      "source": [
        "len(bank_categorical)"
      ],
      "metadata": {
        "colab": {
          "base_uri": "https://localhost:8080/"
        },
        "id": "pNRy9Ib_dKRD",
        "outputId": "667846cc-d9f1-408a-8447-ab8ee60dd9c6"
      },
      "execution_count": 23,
      "outputs": [
        {
          "output_type": "execute_result",
          "data": {
            "text/plain": [
              "16"
            ]
          },
          "metadata": {},
          "execution_count": 23
        }
      ]
    },
    {
      "cell_type": "code",
      "metadata": {
        "colab": {
          "base_uri": "https://localhost:8080/",
          "height": 1000
        },
        "id": "IINlMhnWhiDc",
        "outputId": "136f9a04-1f0c-4bec-8cc0-10c3349e96d2"
      },
      "source": [
        "fig, axes = plt.subplots(nrows=6, ncols=3, figsize=(25, 30))\n",
        "for xcol, ax in zip(bank_categorical, [x for v in axes for x in v]):\n",
        "    bank_df.groupby([xcol, 'label']).size().unstack(\"label\").plot.bar(ax=ax,stacked=True)"
      ],
      "execution_count": 24,
      "outputs": [
        {
          "output_type": "display_data",
          "data": {
            "image/png": "[encoded data removed]",
            "text/plain": [
              "<Figure size 1800x2160 with 18 Axes>"
            ]
          },
          "metadata": {
            "needs_background": "light"
          }
        }
      ]
    },
    {
      "cell_type": "markdown",
      "metadata": {
        "id": "nmjP6v70lQkx"
      },
      "source": [
        "### Variables Quantitaive"
      ]
    },
    {
      "cell_type": "code",
      "metadata": {
        "colab": {
          "base_uri": "https://localhost:8080/",
          "height": 1000
        },
        "id": "oLzaWGCckuO6",
        "outputId": "08469cc5-8eb2-483b-ee8e-b6d0aafc9c8b"
      },
      "source": [
        "print(bank_numerical)\n",
        "fig, axes = plt.subplots(nrows=2, ncols=2, figsize=(18, 20))\n",
        "for xcol, ax in zip(bank_numerical, [x for v in axes for x in v]):\n",
        "    # bank_df.groupby([xcol, 'label']).size().unstack(\"label\").plot.bar(ax=ax,stacked=True)\n",
        "    bank_df.boxplot(ax=ax, column=[xcol])"
      ],
      "execution_count": 25,
      "outputs": [
        {
          "output_type": "stream",
          "name": "stdout",
          "text": [
            "['duree_mois', 'age', 'nbr_credits', 'montant_credit']\n"
          ]
        },
        {
          "output_type": "display_data",
          "data": {
            "image/png": "[encoded data removed]",
            "text/plain": [
              "<Figure size 1296x1440 with 4 Axes>"
            ]
          },
          "metadata": {
            "needs_background": "light"
          }
        }
      ]
    },
    {
      "cell_type": "code",
      "metadata": {
        "colab": {
          "base_uri": "https://localhost:8080/",
          "height": 327
        },
        "id": "HYm8eaqHNZhm",
        "outputId": "45d21e02-71d2-41da-80cd-49b71fcd4d0a"
      },
      "source": [
        "bins = [0,12,24,36,75]\n",
        "bank_df1 = bank_df[[\"duree_mois\", \"label\"]].copy()\n",
        "bank_df1[\"duree_mois\"] = pd.cut(bank_df['duree_mois'], bins)\n",
        "bank_df1.groupby(['duree_mois', 'label']).size().unstack(\"label\").plot.bar(stacked=True)"
      ],
      "execution_count": 26,
      "outputs": [
        {
          "output_type": "execute_result",
          "data": {
            "text/plain": [
              "<matplotlib.axes._subplots.AxesSubplot at 0x7f23dfc98cd0>"
            ]
          },
          "metadata": {},
          "execution_count": 26
        },
        {
          "output_type": "display_data",
          "data": {
            "image/png": "[encoded data removed]",
            "text/plain": [
              "<Figure size 432x288 with 1 Axes>"
            ]
          },
          "metadata": {
            "needs_background": "light"
          }
        }
      ]
    },
    {
      "cell_type": "code",
      "metadata": {
        "colab": {
          "base_uri": "https://localhost:8080/",
          "height": 364
        },
        "id": "u6rDFt-hpnsm",
        "outputId": "f85c85eb-50a1-447b-bd0a-44a6c9677d4d"
      },
      "source": [
        "bins = [0,2000,4000,6000,10000, 20000]\n",
        "bank_df1 = bank_df[[\"montant_credit\", \"label\"]].copy()\n",
        "bank_df1[\"montant_credit\"] = pd.cut(bank_df['montant_credit'], bins)\n",
        "bank_df1.groupby(['montant_credit', 'label']).size().unstack(\"label\").plot.bar(stacked=True)"
      ],
      "execution_count": 27,
      "outputs": [
        {
          "output_type": "execute_result",
          "data": {
            "text/plain": [
              "<matplotlib.axes._subplots.AxesSubplot at 0x7f23dfd42650>"
            ]
          },
          "metadata": {},
          "execution_count": 27
        },
        {
          "output_type": "display_data",
          "data": {
            "image/png": "[encoded data removed]",
            "text/plain": [
              "<Figure size 432x288 with 1 Axes>"
            ]
          },
          "metadata": {
            "needs_background": "light"
          }
        }
      ]
    },
    {
      "cell_type": "markdown",
      "source": [
        "### Réprtition des classes"
      ],
      "metadata": {
        "id": "cM_mdTsi3Q22"
      }
    },
    {
      "cell_type": "code",
      "source": [
        "print(bank_df['label'].value_counts())\n",
        "bank_df['label'].value_counts().plot.pie()"
      ],
      "metadata": {
        "colab": {
          "base_uri": "https://localhost:8080/",
          "height": 317
        },
        "id": "Io2wtqqX3dTO",
        "outputId": "6cf5dd1a-133b-45f0-a835-ee85751b4adc"
      },
      "execution_count": 28,
      "outputs": [
        {
          "output_type": "stream",
          "name": "stdout",
          "text": [
            "1    700\n",
            "2    300\n",
            "Name: label, dtype: int64\n"
          ]
        },
        {
          "output_type": "execute_result",
          "data": {
            "text/plain": [
              "<matplotlib.axes._subplots.AxesSubplot at 0x7f23dfcdf750>"
            ]
          },
          "metadata": {},
          "execution_count": 28
        },
        {
          "output_type": "display_data",
          "data": {
            "image/png": "[encoded data removed]",
            "text/plain": [
              "<Figure size 432x288 with 1 Axes>"
            ]
          },
          "metadata": {}
        }
      ]
    },
    {
      "cell_type": "markdown",
      "source": [
        "Les individus appartenant à classe 1 représentent 70% de la population. L'autre portion d'individus (30%) est dédiée à la classe 2. "
      ],
      "metadata": {
        "id": "n8WC4dqP37jk"
      }
    },
    {
      "cell_type": "markdown",
      "source": [
        "## Data Preprocessing"
      ],
      "metadata": {
        "id": "uQERKIaBeznS"
      }
    },
    {
      "cell_type": "code",
      "source": [
        "from sklearn.preprocessing import OneHotEncoder"
      ],
      "metadata": {
        "id": "F2Md2kDue1gk"
      },
      "execution_count": 29,
      "outputs": []
    },
    {
      "cell_type": "code",
      "source": [
        "bank_df1 = bank_df.copy()\n",
        "for column in bank_df.select_dtypes(include=['object']).columns.to_list():\n",
        "  bank_df1[column] = pd.factorize(bank_df[column])[0]"
      ],
      "metadata": {
        "id": "8owf5JJ4nNPM"
      },
      "execution_count": 30,
      "outputs": []
    },
    {
      "cell_type": "code",
      "source": [
        "bank_df1"
      ],
      "metadata": {
        "id": "5GMRV3KEqBdV",
        "colab": {
          "base_uri": "https://localhost:8080/",
          "height": 488
        },
        "outputId": "200914ea-f29b-4e20-8b45-22ed379b6498"
      },
      "execution_count": 31,
      "outputs": [
        {
          "output_type": "execute_result",
          "data": {
            "text/html": [
              "\n",
              "  <div id=\"df-a6f44682-7269-47dc-8bee-30d3f97d77d3\">\n",
              "    <div class=\"colab-df-container\">\n",
              "      <div>\n",
              "<style scoped>\n",
              "    .dataframe tbody tr th:only-of-type {\n",
              "        vertical-align: middle;\n",
              "    }\n",
              "\n",
              "    .dataframe tbody tr th {\n",
              "        vertical-align: top;\n",
              "    }\n",
              "\n",
              "    .dataframe thead th {\n",
              "        text-align: right;\n",
              "    }\n",
              "</style>\n",
              "<table border=\"1\" class=\"dataframe\">\n",
              "  <thead>\n",
              "    <tr style=\"text-align: right;\">\n",
              "      <th></th>\n",
              "      <th>status_cce</th>\n",
              "      <th>duree_mois</th>\n",
              "      <th>hist_credit</th>\n",
              "      <th>obj</th>\n",
              "      <th>montant_credit</th>\n",
              "      <th>compte_epargne</th>\n",
              "      <th>emplois_depuis</th>\n",
              "      <th>taux_vers_revenu</th>\n",
              "      <th>status_sexe</th>\n",
              "      <th>autres_debits</th>\n",
              "      <th>residence_depuis</th>\n",
              "      <th>prop</th>\n",
              "      <th>age</th>\n",
              "      <th>plans_vers</th>\n",
              "      <th>log</th>\n",
              "      <th>nbr_credits</th>\n",
              "      <th>travail</th>\n",
              "      <th>nbr_per_charge</th>\n",
              "      <th>tel</th>\n",
              "      <th>trav_etranger</th>\n",
              "      <th>label</th>\n",
              "    </tr>\n",
              "  </thead>\n",
              "  <tbody>\n",
              "    <tr>\n",
              "      <th>0</th>\n",
              "      <td>0</td>\n",
              "      <td>6</td>\n",
              "      <td>0</td>\n",
              "      <td>0</td>\n",
              "      <td>1169</td>\n",
              "      <td>0</td>\n",
              "      <td>0</td>\n",
              "      <td>4</td>\n",
              "      <td>0</td>\n",
              "      <td>0</td>\n",
              "      <td>4</td>\n",
              "      <td>0</td>\n",
              "      <td>67</td>\n",
              "      <td>0</td>\n",
              "      <td>0</td>\n",
              "      <td>2</td>\n",
              "      <td>0</td>\n",
              "      <td>1</td>\n",
              "      <td>0</td>\n",
              "      <td>0</td>\n",
              "      <td>1</td>\n",
              "    </tr>\n",
              "    <tr>\n",
              "      <th>1</th>\n",
              "      <td>1</td>\n",
              "      <td>48</td>\n",
              "      <td>1</td>\n",
              "      <td>0</td>\n",
              "      <td>5951</td>\n",
              "      <td>1</td>\n",
              "      <td>1</td>\n",
              "      <td>2</td>\n",
              "      <td>1</td>\n",
              "      <td>0</td>\n",
              "      <td>2</td>\n",
              "      <td>0</td>\n",
              "      <td>22</td>\n",
              "      <td>0</td>\n",
              "      <td>0</td>\n",
              "      <td>1</td>\n",
              "      <td>0</td>\n",
              "      <td>1</td>\n",
              "      <td>1</td>\n",
              "      <td>0</td>\n",
              "      <td>2</td>\n",
              "    </tr>\n",
              "    <tr>\n",
              "      <th>2</th>\n",
              "      <td>2</td>\n",
              "      <td>12</td>\n",
              "      <td>0</td>\n",
              "      <td>1</td>\n",
              "      <td>2096</td>\n",
              "      <td>1</td>\n",
              "      <td>2</td>\n",
              "      <td>2</td>\n",
              "      <td>0</td>\n",
              "      <td>0</td>\n",
              "      <td>3</td>\n",
              "      <td>0</td>\n",
              "      <td>49</td>\n",
              "      <td>0</td>\n",
              "      <td>0</td>\n",
              "      <td>1</td>\n",
              "      <td>1</td>\n",
              "      <td>2</td>\n",
              "      <td>1</td>\n",
              "      <td>0</td>\n",
              "      <td>1</td>\n",
              "    </tr>\n",
              "    <tr>\n",
              "      <th>3</th>\n",
              "      <td>0</td>\n",
              "      <td>42</td>\n",
              "      <td>1</td>\n",
              "      <td>2</td>\n",
              "      <td>7882</td>\n",
              "      <td>1</td>\n",
              "      <td>2</td>\n",
              "      <td>2</td>\n",
              "      <td>0</td>\n",
              "      <td>1</td>\n",
              "      <td>4</td>\n",
              "      <td>1</td>\n",
              "      <td>45</td>\n",
              "      <td>0</td>\n",
              "      <td>1</td>\n",
              "      <td>1</td>\n",
              "      <td>0</td>\n",
              "      <td>2</td>\n",
              "      <td>1</td>\n",
              "      <td>0</td>\n",
              "      <td>1</td>\n",
              "    </tr>\n",
              "    <tr>\n",
              "      <th>4</th>\n",
              "      <td>0</td>\n",
              "      <td>24</td>\n",
              "      <td>2</td>\n",
              "      <td>3</td>\n",
              "      <td>4870</td>\n",
              "      <td>1</td>\n",
              "      <td>1</td>\n",
              "      <td>3</td>\n",
              "      <td>0</td>\n",
              "      <td>0</td>\n",
              "      <td>4</td>\n",
              "      <td>2</td>\n",
              "      <td>53</td>\n",
              "      <td>0</td>\n",
              "      <td>1</td>\n",
              "      <td>2</td>\n",
              "      <td>0</td>\n",
              "      <td>2</td>\n",
              "      <td>1</td>\n",
              "      <td>0</td>\n",
              "      <td>2</td>\n",
              "    </tr>\n",
              "    <tr>\n",
              "      <th>...</th>\n",
              "      <td>...</td>\n",
              "      <td>...</td>\n",
              "      <td>...</td>\n",
              "      <td>...</td>\n",
              "      <td>...</td>\n",
              "      <td>...</td>\n",
              "      <td>...</td>\n",
              "      <td>...</td>\n",
              "      <td>...</td>\n",
              "      <td>...</td>\n",
              "      <td>...</td>\n",
              "      <td>...</td>\n",
              "      <td>...</td>\n",
              "      <td>...</td>\n",
              "      <td>...</td>\n",
              "      <td>...</td>\n",
              "      <td>...</td>\n",
              "      <td>...</td>\n",
              "      <td>...</td>\n",
              "      <td>...</td>\n",
              "      <td>...</td>\n",
              "    </tr>\n",
              "    <tr>\n",
              "      <th>995</th>\n",
              "      <td>2</td>\n",
              "      <td>12</td>\n",
              "      <td>1</td>\n",
              "      <td>2</td>\n",
              "      <td>1736</td>\n",
              "      <td>1</td>\n",
              "      <td>2</td>\n",
              "      <td>3</td>\n",
              "      <td>1</td>\n",
              "      <td>0</td>\n",
              "      <td>4</td>\n",
              "      <td>0</td>\n",
              "      <td>31</td>\n",
              "      <td>0</td>\n",
              "      <td>0</td>\n",
              "      <td>1</td>\n",
              "      <td>1</td>\n",
              "      <td>1</td>\n",
              "      <td>1</td>\n",
              "      <td>0</td>\n",
              "      <td>1</td>\n",
              "    </tr>\n",
              "    <tr>\n",
              "      <th>996</th>\n",
              "      <td>0</td>\n",
              "      <td>30</td>\n",
              "      <td>1</td>\n",
              "      <td>4</td>\n",
              "      <td>3857</td>\n",
              "      <td>1</td>\n",
              "      <td>1</td>\n",
              "      <td>4</td>\n",
              "      <td>2</td>\n",
              "      <td>0</td>\n",
              "      <td>4</td>\n",
              "      <td>1</td>\n",
              "      <td>40</td>\n",
              "      <td>0</td>\n",
              "      <td>0</td>\n",
              "      <td>1</td>\n",
              "      <td>2</td>\n",
              "      <td>1</td>\n",
              "      <td>0</td>\n",
              "      <td>0</td>\n",
              "      <td>1</td>\n",
              "    </tr>\n",
              "    <tr>\n",
              "      <th>997</th>\n",
              "      <td>2</td>\n",
              "      <td>12</td>\n",
              "      <td>1</td>\n",
              "      <td>0</td>\n",
              "      <td>804</td>\n",
              "      <td>1</td>\n",
              "      <td>0</td>\n",
              "      <td>4</td>\n",
              "      <td>0</td>\n",
              "      <td>0</td>\n",
              "      <td>4</td>\n",
              "      <td>3</td>\n",
              "      <td>38</td>\n",
              "      <td>0</td>\n",
              "      <td>0</td>\n",
              "      <td>1</td>\n",
              "      <td>0</td>\n",
              "      <td>1</td>\n",
              "      <td>1</td>\n",
              "      <td>0</td>\n",
              "      <td>1</td>\n",
              "    </tr>\n",
              "    <tr>\n",
              "      <th>998</th>\n",
              "      <td>0</td>\n",
              "      <td>45</td>\n",
              "      <td>1</td>\n",
              "      <td>0</td>\n",
              "      <td>1845</td>\n",
              "      <td>1</td>\n",
              "      <td>1</td>\n",
              "      <td>4</td>\n",
              "      <td>0</td>\n",
              "      <td>0</td>\n",
              "      <td>4</td>\n",
              "      <td>2</td>\n",
              "      <td>23</td>\n",
              "      <td>0</td>\n",
              "      <td>1</td>\n",
              "      <td>1</td>\n",
              "      <td>0</td>\n",
              "      <td>1</td>\n",
              "      <td>0</td>\n",
              "      <td>0</td>\n",
              "      <td>2</td>\n",
              "    </tr>\n",
              "    <tr>\n",
              "      <th>999</th>\n",
              "      <td>1</td>\n",
              "      <td>45</td>\n",
              "      <td>0</td>\n",
              "      <td>4</td>\n",
              "      <td>4576</td>\n",
              "      <td>4</td>\n",
              "      <td>3</td>\n",
              "      <td>3</td>\n",
              "      <td>0</td>\n",
              "      <td>0</td>\n",
              "      <td>4</td>\n",
              "      <td>3</td>\n",
              "      <td>27</td>\n",
              "      <td>0</td>\n",
              "      <td>0</td>\n",
              "      <td>1</td>\n",
              "      <td>0</td>\n",
              "      <td>1</td>\n",
              "      <td>1</td>\n",
              "      <td>0</td>\n",
              "      <td>1</td>\n",
              "    </tr>\n",
              "  </tbody>\n",
              "</table>\n",
              "<p>1000 rows × 21 columns</p>\n",
              "</div>\n",
              "      <button class=\"colab-df-convert\" onclick=\"convertToInteractive('df-a6f44682-7269-47dc-8bee-30d3f97d77d3')\"\n",
              "              title=\"Convert this dataframe to an interactive table.\"\n",
              "              style=\"display:none;\">\n",
              "        \n",
              "  <svg xmlns=\"http://www.w3.org/2000/svg\" height=\"24px\"viewBox=\"0 0 24 24\"\n",
              "       width=\"24px\">\n",
              "    <path d=\"M0 0h24v24H0V0z\" fill=\"none\"/>\n",
              "    <path d=\"M18.56 5.44l.94 2.06.94-2.06 2.06-.94-2.06-.94-.94-2.06-.94 2.06-2.06.94zm-11 1L8.5 8.5l.94-2.06 2.06-.94-2.06-.94L8.5 2.5l-.94 2.06-2.06.94zm10 10l.94 2.06.94-2.06 2.06-.94-2.06-.94-.94-2.06-.94 2.06-2.06.94z\"/><path d=\"M17.41 7.96l-1.37-1.37c-.4-.4-.92-.59-1.43-.59-.52 0-1.04.2-1.43.59L10.3 9.45l-7.72 7.72c-.78.78-.78 2.05 0 2.83L4 21.41c.39.39.9.59 1.41.59.51 0 1.02-.2 1.41-.59l7.78-7.78 2.81-2.81c.8-.78.8-2.07 0-2.86zM5.41 20L4 18.59l7.72-7.72 1.47 1.35L5.41 20z\"/>\n",
              "  </svg>\n",
              "      </button>\n",
              "      \n",
              "  <style>\n",
              "    .colab-df-container {\n",
              "      display:flex;\n",
              "      flex-wrap:wrap;\n",
              "      gap: 12px;\n",
              "    }\n",
              "\n",
              "    .colab-df-convert {\n",
              "      background-color: #E8F0FE;\n",
              "      border: none;\n",
              "      border-radius: 50%;\n",
              "      cursor: pointer;\n",
              "      display: none;\n",
              "      fill: #1967D2;\n",
              "      height: 32px;\n",
              "      padding: 0 0 0 0;\n",
              "      width: 32px;\n",
              "    }\n",
              "\n",
              "    .colab-df-convert:hover {\n",
              "      background-color: #E2EBFA;\n",
              "      box-shadow: 0px 1px 2px rgba(60, 64, 67, 0.3), 0px 1px 3px 1px rgba(60, 64, 67, 0.15);\n",
              "      fill: #174EA6;\n",
              "    }\n",
              "\n",
              "    [theme=dark] .colab-df-convert {\n",
              "      background-color: #3B4455;\n",
              "      fill: #D2E3FC;\n",
              "    }\n",
              "\n",
              "    [theme=dark] .colab-df-convert:hover {\n",
              "      background-color: #434B5C;\n",
              "      box-shadow: 0px 1px 3px 1px rgba(0, 0, 0, 0.15);\n",
              "      filter: drop-shadow(0px 1px 2px rgba(0, 0, 0, 0.3));\n",
              "      fill: #FFFFFF;\n",
              "    }\n",
              "  </style>\n",
              "\n",
              "      <script>\n",
              "        const buttonEl =\n",
              "          document.querySelector('#df-a6f44682-7269-47dc-8bee-30d3f97d77d3 button.colab-df-convert');\n",
              "        buttonEl.style.display =\n",
              "          google.colab.kernel.accessAllowed ? 'block' : 'none';\n",
              "\n",
              "        async function convertToInteractive(key) {\n",
              "          const element = document.querySelector('#df-a6f44682-7269-47dc-8bee-30d3f97d77d3');\n",
              "          const dataTable =\n",
              "            await google.colab.kernel.invokeFunction('convertToInteractive',\n",
              "                                                     [key], {});\n",
              "          if (!dataTable) return;\n",
              "\n",
              "          const docLinkHtml = 'Like what you see? Visit the ' +\n",
              "            '<a target=\"_blank\" href=https://colab.research.google.com/notebooks/data_table.ipynb>data table notebook</a>'\n",
              "            + ' to learn more about interactive tables.';\n",
              "          element.innerHTML = '';\n",
              "          dataTable['output_type'] = 'display_data';\n",
              "          await google.colab.output.renderOutput(dataTable, element);\n",
              "          const docLink = document.createElement('div');\n",
              "          docLink.innerHTML = docLinkHtml;\n",
              "          element.appendChild(docLink);\n",
              "        }\n",
              "      </script>\n",
              "    </div>\n",
              "  </div>\n",
              "  "
            ],
            "text/plain": [
              "     status_cce  duree_mois  hist_credit  ...  tel  trav_etranger  label\n",
              "0             0           6            0  ...    0              0      1\n",
              "1             1          48            1  ...    1              0      2\n",
              "2             2          12            0  ...    1              0      1\n",
              "3             0          42            1  ...    1              0      1\n",
              "4             0          24            2  ...    1              0      2\n",
              "..          ...         ...          ...  ...  ...            ...    ...\n",
              "995           2          12            1  ...    1              0      1\n",
              "996           0          30            1  ...    0              0      1\n",
              "997           2          12            1  ...    1              0      1\n",
              "998           0          45            1  ...    0              0      2\n",
              "999           1          45            0  ...    1              0      1\n",
              "\n",
              "[1000 rows x 21 columns]"
            ]
          },
          "metadata": {},
          "execution_count": 31
        }
      ]
    },
    {
      "cell_type": "code",
      "source": [
        "bank_df1.to_numpy()"
      ],
      "metadata": {
        "colab": {
          "base_uri": "https://localhost:8080/"
        },
        "id": "_HYIIBCuiyfq",
        "outputId": "2391e766-7df5-4f2a-e110-a1dd6e1776cd"
      },
      "execution_count": 32,
      "outputs": [
        {
          "output_type": "execute_result",
          "data": {
            "text/plain": [
              "array([[ 0,  6,  0, ...,  0,  0,  1],\n",
              "       [ 1, 48,  1, ...,  1,  0,  2],\n",
              "       [ 2, 12,  0, ...,  1,  0,  1],\n",
              "       ...,\n",
              "       [ 2, 12,  1, ...,  1,  0,  1],\n",
              "       [ 0, 45,  1, ...,  0,  0,  2],\n",
              "       [ 1, 45,  0, ...,  1,  0,  1]])"
            ]
          },
          "metadata": {},
          "execution_count": 32
        }
      ]
    },
    {
      "cell_type": "code",
      "source": [
        "bank_X_numerical = bank_df1[bank_numerical].to_numpy()\n",
        "bank_X_numerical"
      ],
      "metadata": {
        "colab": {
          "base_uri": "https://localhost:8080/"
        },
        "id": "HndZjRJhiNTS",
        "outputId": "8d5ffe9d-02fb-4ef0-ffbd-af3be04e4cbd"
      },
      "execution_count": 33,
      "outputs": [
        {
          "output_type": "execute_result",
          "data": {
            "text/plain": [
              "array([[   6,   67,    2, 1169],\n",
              "       [  48,   22,    1, 5951],\n",
              "       [  12,   49,    1, 2096],\n",
              "       ...,\n",
              "       [  12,   38,    1,  804],\n",
              "       [  45,   23,    1, 1845],\n",
              "       [  45,   27,    1, 4576]])"
            ]
          },
          "metadata": {},
          "execution_count": 33
        }
      ]
    },
    {
      "cell_type": "code",
      "source": [
        "bank_X_categorical = bank_df1[bank_categorical].to_numpy()\n",
        "bank_X_categorical"
      ],
      "metadata": {
        "colab": {
          "base_uri": "https://localhost:8080/"
        },
        "id": "VQp-UdzCqoEw",
        "outputId": "b6ac1b90-1aae-46c4-df3b-32835e90320b"
      },
      "execution_count": 34,
      "outputs": [
        {
          "output_type": "execute_result",
          "data": {
            "text/plain": [
              "array([[0, 0, 0, ..., 4, 4, 1],\n",
              "       [1, 1, 0, ..., 2, 2, 1],\n",
              "       [2, 0, 1, ..., 2, 3, 2],\n",
              "       ...,\n",
              "       [2, 1, 0, ..., 4, 4, 1],\n",
              "       [0, 1, 0, ..., 4, 4, 1],\n",
              "       [1, 0, 4, ..., 3, 4, 1]])"
            ]
          },
          "metadata": {},
          "execution_count": 34
        }
      ]
    },
    {
      "cell_type": "code",
      "source": [
        "bank_X = bank_df1.loc[:, bank_df1.columns != 'label'].to_numpy()\n",
        "bank_Y = bank_df1['label'].to_numpy()"
      ],
      "metadata": {
        "id": "RYRmvME5qulj"
      },
      "execution_count": 35,
      "outputs": []
    },
    {
      "cell_type": "markdown",
      "source": [
        "Jusqu'à ce point on a bank_X, la matrice qui contient tous les individus et variables. bank_X_numerical contenant que les variables numériques. Ainsi que bank_X_categorical qui contient les variables catégorielles."
      ],
      "metadata": {
        "id": "67hKhpgsALU2"
      }
    },
    {
      "cell_type": "markdown",
      "source": [
        "### Balancer les données"
      ],
      "metadata": {
        "id": "8ka6su2kTcSD"
      }
    },
    {
      "cell_type": "markdown",
      "source": [
        "Comme constaté précédemment, les données de ce jeu de données ne sont pas équilibrées, et qu'il y avait une classe majoritaire avec 70% des individus. On a pensé à balancer nos données avec les trois familles de méthodes de balancement de données. \n",
        "Over Balancing avec SMOTE, Under Balancing avec Cluster Centroids, et la combinaison des deux avec SMOTEENN"
      ],
      "metadata": {
        "id": "pmAPF4ha65QO"
      }
    },
    {
      "cell_type": "code",
      "source": [
        "from imblearn.over_sampling import SMOTE\n",
        "from imblearn.under_sampling import ClusterCentroids\n",
        "from imblearn.combine import SMOTEENN"
      ],
      "metadata": {
        "id": "M0f8j7wbTdr0"
      },
      "execution_count": 36,
      "outputs": []
    },
    {
      "cell_type": "markdown",
      "source": [
        "Les opérations de balancement vont être placées après chaque classification pour éviter les conflits des noms de variables"
      ],
      "metadata": {
        "id": "FOATgJOSEj0o"
      }
    },
    {
      "cell_type": "markdown",
      "source": [
        "## Classification"
      ],
      "metadata": {
        "id": "qs-moOkMXXpa"
      }
    },
    {
      "cell_type": "code",
      "source": [
        "from sklearn.discriminant_analysis import LinearDiscriminantAnalysis\n",
        "from sklearn.linear_model import LogisticRegression\n",
        "from sklearn.tree import DecisionTreeClassifier\n",
        "from sklearn.ensemble import RandomForestClassifier\n",
        "from sklearn.neighbors import KNeighborsClassifier\n",
        "from sklearn.naive_bayes import GaussianNB\n",
        "from sklearn.preprocessing import StandardScaler\n",
        "from sklearn.model_selection import cross_val_score\n",
        "from sklearn.model_selection import RepeatedStratifiedKFold, KFold\n",
        "from sklearn.model_selection import train_test_split"
      ],
      "metadata": {
        "id": "qxKtGOJGmJjO"
      },
      "execution_count": 37,
      "outputs": []
    },
    {
      "cell_type": "markdown",
      "source": [
        "Les méthodes de classification qu'on va utiliser sont: \n",
        "- La regression logistique.\n",
        "- Arbre de classification et de regression (CART).\n",
        "- Forets Aléatoires.\n",
        "- Classifieur de Naives Bayes.\n",
        "- K Nearest Neighbors.\n",
        "\n",
        "On essaiera de classifier les individus selon chacun des 3 jeux de données (Toutes les variables, Variables numériques, Variables catégorielles.) avec ses variants de balancement."
      ],
      "metadata": {
        "id": "1ZXveSe-Anud"
      }
    },
    {
      "cell_type": "markdown",
      "source": [
        "### Numerical Data"
      ],
      "metadata": {
        "id": "-GTxW-MdPPbf"
      }
    },
    {
      "cell_type": "markdown",
      "source": [
        "#### Balancer les données"
      ],
      "metadata": {
        "id": "P0qEhilpifIr"
      }
    },
    {
      "cell_type": "code",
      "source": [
        "smoteImbOver = SMOTE()\n",
        "bank_X_numerical_smote, bank_Y_smote = smoteImbOver.fit_resample(bank_X_numerical, bank_Y)\n",
        "bank_X_numerical_smote.shape, bank_Y_smote.shape"
      ],
      "metadata": {
        "colab": {
          "base_uri": "https://localhost:8080/"
        },
        "id": "qcA0_zuAThz_",
        "outputId": "fefae985-44ab-4173-9520-5a8c5087f146"
      },
      "execution_count": 61,
      "outputs": [
        {
          "output_type": "execute_result",
          "data": {
            "text/plain": [
              "((1400, 4), (1400,))"
            ]
          },
          "metadata": {},
          "execution_count": 61
        }
      ]
    },
    {
      "cell_type": "code",
      "source": [
        "ccImbUnder = ClusterCentroids(random_state=42)\n",
        "bank_X_numerical_cc, bank_Y_cc = ccImbUnder.fit_resample(bank_X_numerical, bank_Y)\n",
        "bank_X_numerical_cc.shape, bank_Y_cc.shape"
      ],
      "metadata": {
        "colab": {
          "base_uri": "https://localhost:8080/"
        },
        "id": "qGBYx3a8Tj7Z",
        "outputId": "65eb67df-cc50-41e1-ab1d-40535daa5593"
      },
      "execution_count": 62,
      "outputs": [
        {
          "output_type": "execute_result",
          "data": {
            "text/plain": [
              "((600, 4), (600,))"
            ]
          },
          "metadata": {},
          "execution_count": 62
        }
      ]
    },
    {
      "cell_type": "code",
      "source": [
        "smoteImbCombine = SMOTEENN()\n",
        "bank_X_numerical_smoteenn, bank_Y_smoteenn = smoteImbCombine.fit_resample(bank_X_numerical, bank_Y)\n",
        "bank_X_numerical_smoteenn.shape, bank_Y_smoteenn.shape"
      ],
      "metadata": {
        "colab": {
          "base_uri": "https://localhost:8080/"
        },
        "id": "kQ0SccoBTeOu",
        "outputId": "6dc3d40c-99ac-4717-888a-f54f086e69be"
      },
      "execution_count": 63,
      "outputs": [
        {
          "output_type": "execute_result",
          "data": {
            "text/plain": [
              "((517, 4), (517,))"
            ]
          },
          "metadata": {},
          "execution_count": 63
        }
      ]
    },
    {
      "cell_type": "markdown",
      "source": [
        "#### Classifier"
      ],
      "metadata": {
        "id": "2Tc1gFY6E2-j"
      }
    },
    {
      "cell_type": "markdown",
      "source": [
        "Diviser les données en ensemble d'entraînement et de test."
      ],
      "metadata": {
        "id": "rN8u_VwtLcd3"
      }
    },
    {
      "cell_type": "code",
      "source": [
        "bank_X_numerical_train, bank_X_numerical_test, bank_Y_train, bank_Y_test = train_test_split(bank_X_numerical, bank_Y, test_size=0.15)\n",
        "bank_X_numerical_smote_train, bank_X_numerical_smote_test, bank_Y_smote_train, bank_Y_smote_test = train_test_split(bank_X_numerical_smote, bank_Y_smote, test_size=0.15)\n",
        "bank_X_numerical_cc_train, bank_X_numerical_cc_test, bank_Y_cc_train, bank_Y_cc_test = train_test_split(bank_X_numerical_cc, bank_Y_cc, test_size=0.15)\n",
        "bank_X_numerical_smoteenn_train, bank_X_numerical_smoteenn_test, bank_Y_smoteenn_train, bank_Y_smoteenn_test = train_test_split(bank_X_numerical_smoteenn, bank_Y_smoteenn, test_size=0.15)"
      ],
      "metadata": {
        "id": "8XUyz0-ALhxB"
      },
      "execution_count": 64,
      "outputs": []
    },
    {
      "cell_type": "code",
      "source": [
        "%%capture\n",
        "methods = {}\n",
        "methods['LR'] = {'model': LogisticRegression(), 'results': {}}\n",
        "methods['LDA'] = {'model': LinearDiscriminantAnalysis(), 'results': {}}\n",
        "methods['KNN'] = {'model': KNeighborsClassifier(), 'results': {}}\n",
        "methods['CART'] = {'model': DecisionTreeClassifier(), 'results': {}}\n",
        "methods['RF'] = {'model': RandomForestClassifier(), 'results': {}}\n",
        "methods['NB'] = {'model': GaussianNB(), 'results': {}}\n",
        "for name, method in methods.items():\n",
        "  model = method['model']\n",
        "  kfold = KFold(n_splits=10)\n",
        "  model.fit(bank_X_numerical_train, bank_Y_train)\n",
        "  cv_results_original_train = cross_val_score(model, bank_X_numerical_train, bank_Y_train, cv=kfold, scoring='accuracy')\n",
        "  cv_results_original_test = cross_val_score(model, bank_X_numerical_test, bank_Y_test, cv=kfold, scoring='accuracy')\n",
        "\n",
        "  model.fit(bank_X_numerical_smote_train, bank_Y_smote_train)\n",
        "  cv_results_smote_train = cross_val_score(model, bank_X_numerical_smote_train, bank_Y_smote_train, cv=kfold, scoring='accuracy')\n",
        "  cv_results_smote_test = cross_val_score(model, bank_X_numerical_smote_test, bank_Y_smote_test, cv=kfold, scoring='accuracy')\n",
        "\n",
        "  model.fit(bank_X_numerical_cc_train, bank_Y_cc_train)\n",
        "  cv_results_cc_train = cross_val_score(model, bank_X_numerical_cc_train, bank_Y_cc_train, cv=kfold, scoring='accuracy')\n",
        "  cv_results_cc_test = cross_val_score(model, bank_X_numerical_cc_test, bank_Y_cc_test, cv=kfold, scoring='accuracy')\n",
        "\n",
        "  model.fit(bank_X_numerical_smoteenn_train, bank_Y_smoteenn_train)\n",
        "  cv_results_smoteenn_train = cross_val_score(model, bank_X_numerical_smoteenn_train, bank_Y_smoteenn_train, cv=kfold, scoring='accuracy')\n",
        "  cv_results_smoteenn_test = cross_val_score(model, bank_X_numerical_smoteenn_test, bank_Y_smoteenn_test, cv=kfold, scoring='accuracy')\n",
        "\n",
        "  method['results']['original'] = {'train': {'mean': cv_results_original_train.mean(), 'max': cv_results_original_train.max(), 'std': cv_results_original_train.std()}, 'test': {'mean': cv_results_original_test.mean(), 'max': cv_results_original_test.max(), 'std': cv_results_original_test.std()}}\n",
        "  method['results']['smote'] = {'train': {'mean': cv_results_smote_train.mean(), 'max': cv_results_smote_train.max(), 'std': cv_results_smote_train.std()}, 'test': {'mean': cv_results_smote_test.mean(), 'max': cv_results_smote_test.max(), 'std': cv_results_smote_test.std()}}\n",
        "  method['results']['cc'] = {'train': {'mean': cv_results_cc_train.mean(), 'max': cv_results_cc_train.max(), 'std': cv_results_cc_train.std()}, 'test': {'mean': cv_results_cc_test.mean(), 'max': cv_results_cc_test.max(), 'std': cv_results_cc_test.std()}}\n",
        "  method['results']['smoteenn'] = {'train': {'mean': cv_results_smoteenn_train.mean(), 'max': cv_results_smoteenn_train.max(), 'std': cv_results_smoteenn_train.std()}, 'test': {'mean': cv_results_smoteenn_test.mean(), 'max': cv_results_smoteenn_test.max(), 'std': cv_results_smoteenn_test.std()}}"
      ],
      "metadata": {
        "id": "RWKHF7KkPPbg"
      },
      "execution_count": 65,
      "outputs": []
    },
    {
      "cell_type": "code",
      "source": [
        "numerical_data_results = pd.DataFrame.from_dict({(i,j,k): methods[i]['results'][j][k] \n",
        "                  for i in methods.keys()\n",
        "                  for j in methods[i]['results'].keys()\n",
        "                  for k in methods[i]['results'][j].keys()},\n",
        "              orient='index')\n",
        "\n",
        "numerical_data_results"
      ],
      "metadata": {
        "id": "51JgIQTXUBCJ",
        "colab": {
          "base_uri": "https://localhost:8080/",
          "height": 1000
        },
        "outputId": "063953a7-fa34-47b9-f261-1b21e220bfb0"
      },
      "execution_count": 66,
      "outputs": [
        {
          "output_type": "execute_result",
          "data": {
            "text/html": [
              "\n",
              "  <div id=\"df-e948941a-b18e-41a4-8b30-ac5848beacbb\">\n",
              "    <div class=\"colab-df-container\">\n",
              "      <div>\n",
              "<style scoped>\n",
              "    .dataframe tbody tr th:only-of-type {\n",
              "        vertical-align: middle;\n",
              "    }\n",
              "\n",
              "    .dataframe tbody tr th {\n",
              "        vertical-align: top;\n",
              "    }\n",
              "\n",
              "    .dataframe thead th {\n",
              "        text-align: right;\n",
              "    }\n",
              "</style>\n",
              "<table border=\"1\" class=\"dataframe\">\n",
              "  <thead>\n",
              "    <tr style=\"text-align: right;\">\n",
              "      <th></th>\n",
              "      <th></th>\n",
              "      <th></th>\n",
              "      <th>mean</th>\n",
              "      <th>max</th>\n",
              "      <th>std</th>\n",
              "    </tr>\n",
              "  </thead>\n",
              "  <tbody>\n",
              "    <tr>\n",
              "      <th rowspan=\"8\" valign=\"top\">LR</th>\n",
              "      <th rowspan=\"2\" valign=\"top\">original</th>\n",
              "      <th>train</th>\n",
              "      <td>0.692941</td>\n",
              "      <td>0.752941</td>\n",
              "      <td>0.048635</td>\n",
              "    </tr>\n",
              "    <tr>\n",
              "      <th>test</th>\n",
              "      <td>0.766667</td>\n",
              "      <td>0.933333</td>\n",
              "      <td>0.123828</td>\n",
              "    </tr>\n",
              "    <tr>\n",
              "      <th rowspan=\"2\" valign=\"top\">smote</th>\n",
              "      <th>train</th>\n",
              "      <td>0.607563</td>\n",
              "      <td>0.663866</td>\n",
              "      <td>0.039424</td>\n",
              "    </tr>\n",
              "    <tr>\n",
              "      <th>test</th>\n",
              "      <td>0.628571</td>\n",
              "      <td>0.761905</td>\n",
              "      <td>0.066667</td>\n",
              "    </tr>\n",
              "    <tr>\n",
              "      <th rowspan=\"2\" valign=\"top\">cc</th>\n",
              "      <th>train</th>\n",
              "      <td>0.547059</td>\n",
              "      <td>0.705882</td>\n",
              "      <td>0.059117</td>\n",
              "    </tr>\n",
              "    <tr>\n",
              "      <th>test</th>\n",
              "      <td>0.633333</td>\n",
              "      <td>0.777778</td>\n",
              "      <td>0.071146</td>\n",
              "    </tr>\n",
              "    <tr>\n",
              "      <th rowspan=\"2\" valign=\"top\">smoteenn</th>\n",
              "      <th>train</th>\n",
              "      <td>0.683298</td>\n",
              "      <td>0.772727</td>\n",
              "      <td>0.047552</td>\n",
              "    </tr>\n",
              "    <tr>\n",
              "      <th>test</th>\n",
              "      <td>0.621429</td>\n",
              "      <td>0.875000</td>\n",
              "      <td>0.246506</td>\n",
              "    </tr>\n",
              "    <tr>\n",
              "      <th rowspan=\"8\" valign=\"top\">LDA</th>\n",
              "      <th rowspan=\"2\" valign=\"top\">original</th>\n",
              "      <th>train</th>\n",
              "      <td>0.690588</td>\n",
              "      <td>0.764706</td>\n",
              "      <td>0.052363</td>\n",
              "    </tr>\n",
              "    <tr>\n",
              "      <th>test</th>\n",
              "      <td>0.766667</td>\n",
              "      <td>0.933333</td>\n",
              "      <td>0.123828</td>\n",
              "    </tr>\n",
              "    <tr>\n",
              "      <th rowspan=\"2\" valign=\"top\">smote</th>\n",
              "      <th>train</th>\n",
              "      <td>0.615126</td>\n",
              "      <td>0.672269</td>\n",
              "      <td>0.038655</td>\n",
              "    </tr>\n",
              "    <tr>\n",
              "      <th>test</th>\n",
              "      <td>0.614286</td>\n",
              "      <td>0.714286</td>\n",
              "      <td>0.065465</td>\n",
              "    </tr>\n",
              "    <tr>\n",
              "      <th rowspan=\"2\" valign=\"top\">cc</th>\n",
              "      <th>train</th>\n",
              "      <td>0.556863</td>\n",
              "      <td>0.686275</td>\n",
              "      <td>0.064557</td>\n",
              "    </tr>\n",
              "    <tr>\n",
              "      <th>test</th>\n",
              "      <td>0.622222</td>\n",
              "      <td>0.777778</td>\n",
              "      <td>0.088889</td>\n",
              "    </tr>\n",
              "    <tr>\n",
              "      <th rowspan=\"2\" valign=\"top\">smoteenn</th>\n",
              "      <th>train</th>\n",
              "      <td>0.706131</td>\n",
              "      <td>0.772727</td>\n",
              "      <td>0.044907</td>\n",
              "    </tr>\n",
              "    <tr>\n",
              "      <th>test</th>\n",
              "      <td>0.632143</td>\n",
              "      <td>0.875000</td>\n",
              "      <td>0.193353</td>\n",
              "    </tr>\n",
              "    <tr>\n",
              "      <th rowspan=\"8\" valign=\"top\">KNN</th>\n",
              "      <th rowspan=\"2\" valign=\"top\">original</th>\n",
              "      <th>train</th>\n",
              "      <td>0.615294</td>\n",
              "      <td>0.694118</td>\n",
              "      <td>0.040086</td>\n",
              "    </tr>\n",
              "    <tr>\n",
              "      <th>test</th>\n",
              "      <td>0.726667</td>\n",
              "      <td>0.933333</td>\n",
              "      <td>0.131487</td>\n",
              "    </tr>\n",
              "    <tr>\n",
              "      <th rowspan=\"2\" valign=\"top\">smote</th>\n",
              "      <th>train</th>\n",
              "      <td>0.657983</td>\n",
              "      <td>0.722689</td>\n",
              "      <td>0.043835</td>\n",
              "    </tr>\n",
              "    <tr>\n",
              "      <th>test</th>\n",
              "      <td>0.566667</td>\n",
              "      <td>0.714286</td>\n",
              "      <td>0.103126</td>\n",
              "    </tr>\n",
              "    <tr>\n",
              "      <th rowspan=\"2\" valign=\"top\">cc</th>\n",
              "      <th>train</th>\n",
              "      <td>0.533333</td>\n",
              "      <td>0.686275</td>\n",
              "      <td>0.083558</td>\n",
              "    </tr>\n",
              "    <tr>\n",
              "      <th>test</th>\n",
              "      <td>0.555556</td>\n",
              "      <td>0.777778</td>\n",
              "      <td>0.121716</td>\n",
              "    </tr>\n",
              "    <tr>\n",
              "      <th rowspan=\"2\" valign=\"top\">smoteenn</th>\n",
              "      <th>train</th>\n",
              "      <td>0.856448</td>\n",
              "      <td>0.909091</td>\n",
              "      <td>0.033978</td>\n",
              "    </tr>\n",
              "    <tr>\n",
              "      <th>test</th>\n",
              "      <td>0.550000</td>\n",
              "      <td>0.750000</td>\n",
              "      <td>0.131417</td>\n",
              "    </tr>\n",
              "    <tr>\n",
              "      <th rowspan=\"8\" valign=\"top\">CART</th>\n",
              "      <th rowspan=\"2\" valign=\"top\">original</th>\n",
              "      <th>train</th>\n",
              "      <td>0.656471</td>\n",
              "      <td>0.741176</td>\n",
              "      <td>0.065249</td>\n",
              "    </tr>\n",
              "    <tr>\n",
              "      <th>test</th>\n",
              "      <td>0.740000</td>\n",
              "      <td>0.866667</td>\n",
              "      <td>0.081377</td>\n",
              "    </tr>\n",
              "    <tr>\n",
              "      <th rowspan=\"2\" valign=\"top\">smote</th>\n",
              "      <th>train</th>\n",
              "      <td>0.689916</td>\n",
              "      <td>0.798319</td>\n",
              "      <td>0.045324</td>\n",
              "    </tr>\n",
              "    <tr>\n",
              "      <th>test</th>\n",
              "      <td>0.633333</td>\n",
              "      <td>0.809524</td>\n",
              "      <td>0.120562</td>\n",
              "    </tr>\n",
              "    <tr>\n",
              "      <th rowspan=\"2\" valign=\"top\">cc</th>\n",
              "      <th>train</th>\n",
              "      <td>0.700000</td>\n",
              "      <td>0.745098</td>\n",
              "      <td>0.035130</td>\n",
              "    </tr>\n",
              "    <tr>\n",
              "      <th>test</th>\n",
              "      <td>0.566667</td>\n",
              "      <td>0.777778</td>\n",
              "      <td>0.160631</td>\n",
              "    </tr>\n",
              "    <tr>\n",
              "      <th rowspan=\"2\" valign=\"top\">smoteenn</th>\n",
              "      <th>train</th>\n",
              "      <td>0.856448</td>\n",
              "      <td>0.931818</td>\n",
              "      <td>0.040879</td>\n",
              "    </tr>\n",
              "    <tr>\n",
              "      <th>test</th>\n",
              "      <td>0.705357</td>\n",
              "      <td>0.875000</td>\n",
              "      <td>0.150520</td>\n",
              "    </tr>\n",
              "    <tr>\n",
              "      <th rowspan=\"8\" valign=\"top\">RF</th>\n",
              "      <th rowspan=\"2\" valign=\"top\">original</th>\n",
              "      <th>train</th>\n",
              "      <td>0.674118</td>\n",
              "      <td>0.752941</td>\n",
              "      <td>0.044035</td>\n",
              "    </tr>\n",
              "    <tr>\n",
              "      <th>test</th>\n",
              "      <td>0.720000</td>\n",
              "      <td>0.933333</td>\n",
              "      <td>0.122202</td>\n",
              "    </tr>\n",
              "    <tr>\n",
              "      <th rowspan=\"2\" valign=\"top\">smote</th>\n",
              "      <th>train</th>\n",
              "      <td>0.724370</td>\n",
              "      <td>0.764706</td>\n",
              "      <td>0.032285</td>\n",
              "    </tr>\n",
              "    <tr>\n",
              "      <th>test</th>\n",
              "      <td>0.661905</td>\n",
              "      <td>0.857143</td>\n",
              "      <td>0.103126</td>\n",
              "    </tr>\n",
              "    <tr>\n",
              "      <th rowspan=\"2\" valign=\"top\">cc</th>\n",
              "      <th>train</th>\n",
              "      <td>0.717647</td>\n",
              "      <td>0.803922</td>\n",
              "      <td>0.059603</td>\n",
              "    </tr>\n",
              "    <tr>\n",
              "      <th>test</th>\n",
              "      <td>0.655556</td>\n",
              "      <td>0.888889</td>\n",
              "      <td>0.126198</td>\n",
              "    </tr>\n",
              "    <tr>\n",
              "      <th rowspan=\"2\" valign=\"top\">smoteenn</th>\n",
              "      <th>train</th>\n",
              "      <td>0.879334</td>\n",
              "      <td>0.954545</td>\n",
              "      <td>0.047600</td>\n",
              "    </tr>\n",
              "    <tr>\n",
              "      <th>test</th>\n",
              "      <td>0.605357</td>\n",
              "      <td>0.875000</td>\n",
              "      <td>0.139114</td>\n",
              "    </tr>\n",
              "    <tr>\n",
              "      <th rowspan=\"8\" valign=\"top\">NB</th>\n",
              "      <th rowspan=\"2\" valign=\"top\">original</th>\n",
              "      <th>train</th>\n",
              "      <td>0.703529</td>\n",
              "      <td>0.788235</td>\n",
              "      <td>0.058066</td>\n",
              "    </tr>\n",
              "    <tr>\n",
              "      <th>test</th>\n",
              "      <td>0.740000</td>\n",
              "      <td>0.933333</td>\n",
              "      <td>0.150407</td>\n",
              "    </tr>\n",
              "    <tr>\n",
              "      <th rowspan=\"2\" valign=\"top\">smote</th>\n",
              "      <th>train</th>\n",
              "      <td>0.596639</td>\n",
              "      <td>0.663866</td>\n",
              "      <td>0.036046</td>\n",
              "    </tr>\n",
              "    <tr>\n",
              "      <th>test</th>\n",
              "      <td>0.561905</td>\n",
              "      <td>0.666667</td>\n",
              "      <td>0.069985</td>\n",
              "    </tr>\n",
              "    <tr>\n",
              "      <th rowspan=\"2\" valign=\"top\">cc</th>\n",
              "      <th>train</th>\n",
              "      <td>0.562745</td>\n",
              "      <td>0.647059</td>\n",
              "      <td>0.063264</td>\n",
              "    </tr>\n",
              "    <tr>\n",
              "      <th>test</th>\n",
              "      <td>0.644444</td>\n",
              "      <td>0.777778</td>\n",
              "      <td>0.083148</td>\n",
              "    </tr>\n",
              "    <tr>\n",
              "      <th rowspan=\"2\" valign=\"top\">smoteenn</th>\n",
              "      <th>train</th>\n",
              "      <td>0.626374</td>\n",
              "      <td>0.681818</td>\n",
              "      <td>0.040025</td>\n",
              "    </tr>\n",
              "    <tr>\n",
              "      <th>test</th>\n",
              "      <td>0.628571</td>\n",
              "      <td>0.875000</td>\n",
              "      <td>0.196396</td>\n",
              "    </tr>\n",
              "  </tbody>\n",
              "</table>\n",
              "</div>\n",
              "      <button class=\"colab-df-convert\" onclick=\"convertToInteractive('df-e948941a-b18e-41a4-8b30-ac5848beacbb')\"\n",
              "              title=\"Convert this dataframe to an interactive table.\"\n",
              "              style=\"display:none;\">\n",
              "        \n",
              "  <svg xmlns=\"http://www.w3.org/2000/svg\" height=\"24px\"viewBox=\"0 0 24 24\"\n",
              "       width=\"24px\">\n",
              "    <path d=\"M0 0h24v24H0V0z\" fill=\"none\"/>\n",
              "    <path d=\"M18.56 5.44l.94 2.06.94-2.06 2.06-.94-2.06-.94-.94-2.06-.94 2.06-2.06.94zm-11 1L8.5 8.5l.94-2.06 2.06-.94-2.06-.94L8.5 2.5l-.94 2.06-2.06.94zm10 10l.94 2.06.94-2.06 2.06-.94-2.06-.94-.94-2.06-.94 2.06-2.06.94z\"/><path d=\"M17.41 7.96l-1.37-1.37c-.4-.4-.92-.59-1.43-.59-.52 0-1.04.2-1.43.59L10.3 9.45l-7.72 7.72c-.78.78-.78 2.05 0 2.83L4 21.41c.39.39.9.59 1.41.59.51 0 1.02-.2 1.41-.59l7.78-7.78 2.81-2.81c.8-.78.8-2.07 0-2.86zM5.41 20L4 18.59l7.72-7.72 1.47 1.35L5.41 20z\"/>\n",
              "  </svg>\n",
              "      </button>\n",
              "      \n",
              "  <style>\n",
              "    .colab-df-container {\n",
              "      display:flex;\n",
              "      flex-wrap:wrap;\n",
              "      gap: 12px;\n",
              "    }\n",
              "\n",
              "    .colab-df-convert {\n",
              "      background-color: #E8F0FE;\n",
              "      border: none;\n",
              "      border-radius: 50%;\n",
              "      cursor: pointer;\n",
              "      display: none;\n",
              "      fill: #1967D2;\n",
              "      height: 32px;\n",
              "      padding: 0 0 0 0;\n",
              "      width: 32px;\n",
              "    }\n",
              "\n",
              "    .colab-df-convert:hover {\n",
              "      background-color: #E2EBFA;\n",
              "      box-shadow: 0px 1px 2px rgba(60, 64, 67, 0.3), 0px 1px 3px 1px rgba(60, 64, 67, 0.15);\n",
              "      fill: #174EA6;\n",
              "    }\n",
              "\n",
              "    [theme=dark] .colab-df-convert {\n",
              "      background-color: #3B4455;\n",
              "      fill: #D2E3FC;\n",
              "    }\n",
              "\n",
              "    [theme=dark] .colab-df-convert:hover {\n",
              "      background-color: #434B5C;\n",
              "      box-shadow: 0px 1px 3px 1px rgba(0, 0, 0, 0.15);\n",
              "      filter: drop-shadow(0px 1px 2px rgba(0, 0, 0, 0.3));\n",
              "      fill: #FFFFFF;\n",
              "    }\n",
              "  </style>\n",
              "\n",
              "      <script>\n",
              "        const buttonEl =\n",
              "          document.querySelector('#df-e948941a-b18e-41a4-8b30-ac5848beacbb button.colab-df-convert');\n",
              "        buttonEl.style.display =\n",
              "          google.colab.kernel.accessAllowed ? 'block' : 'none';\n",
              "\n",
              "        async function convertToInteractive(key) {\n",
              "          const element = document.querySelector('#df-e948941a-b18e-41a4-8b30-ac5848beacbb');\n",
              "          const dataTable =\n",
              "            await google.colab.kernel.invokeFunction('convertToInteractive',\n",
              "                                                     [key], {});\n",
              "          if (!dataTable) return;\n",
              "\n",
              "          const docLinkHtml = 'Like what you see? Visit the ' +\n",
              "            '<a target=\"_blank\" href=https://colab.research.google.com/notebooks/data_table.ipynb>data table notebook</a>'\n",
              "            + ' to learn more about interactive tables.';\n",
              "          element.innerHTML = '';\n",
              "          dataTable['output_type'] = 'display_data';\n",
              "          await google.colab.output.renderOutput(dataTable, element);\n",
              "          const docLink = document.createElement('div');\n",
              "          docLink.innerHTML = docLinkHtml;\n",
              "          element.appendChild(docLink);\n",
              "        }\n",
              "      </script>\n",
              "    </div>\n",
              "  </div>\n",
              "  "
            ],
            "text/plain": [
              "                         mean       max       std\n",
              "LR   original train  0.692941  0.752941  0.048635\n",
              "              test   0.766667  0.933333  0.123828\n",
              "     smote    train  0.607563  0.663866  0.039424\n",
              "              test   0.628571  0.761905  0.066667\n",
              "     cc       train  0.547059  0.705882  0.059117\n",
              "              test   0.633333  0.777778  0.071146\n",
              "     smoteenn train  0.683298  0.772727  0.047552\n",
              "              test   0.621429  0.875000  0.246506\n",
              "LDA  original train  0.690588  0.764706  0.052363\n",
              "              test   0.766667  0.933333  0.123828\n",
              "     smote    train  0.615126  0.672269  0.038655\n",
              "              test   0.614286  0.714286  0.065465\n",
              "     cc       train  0.556863  0.686275  0.064557\n",
              "              test   0.622222  0.777778  0.088889\n",
              "     smoteenn train  0.706131  0.772727  0.044907\n",
              "              test   0.632143  0.875000  0.193353\n",
              "KNN  original train  0.615294  0.694118  0.040086\n",
              "              test   0.726667  0.933333  0.131487\n",
              "     smote    train  0.657983  0.722689  0.043835\n",
              "              test   0.566667  0.714286  0.103126\n",
              "     cc       train  0.533333  0.686275  0.083558\n",
              "              test   0.555556  0.777778  0.121716\n",
              "     smoteenn train  0.856448  0.909091  0.033978\n",
              "              test   0.550000  0.750000  0.131417\n",
              "CART original train  0.656471  0.741176  0.065249\n",
              "              test   0.740000  0.866667  0.081377\n",
              "     smote    train  0.689916  0.798319  0.045324\n",
              "              test   0.633333  0.809524  0.120562\n",
              "     cc       train  0.700000  0.745098  0.035130\n",
              "              test   0.566667  0.777778  0.160631\n",
              "     smoteenn train  0.856448  0.931818  0.040879\n",
              "              test   0.705357  0.875000  0.150520\n",
              "RF   original train  0.674118  0.752941  0.044035\n",
              "              test   0.720000  0.933333  0.122202\n",
              "     smote    train  0.724370  0.764706  0.032285\n",
              "              test   0.661905  0.857143  0.103126\n",
              "     cc       train  0.717647  0.803922  0.059603\n",
              "              test   0.655556  0.888889  0.126198\n",
              "     smoteenn train  0.879334  0.954545  0.047600\n",
              "              test   0.605357  0.875000  0.139114\n",
              "NB   original train  0.703529  0.788235  0.058066\n",
              "              test   0.740000  0.933333  0.150407\n",
              "     smote    train  0.596639  0.663866  0.036046\n",
              "              test   0.561905  0.666667  0.069985\n",
              "     cc       train  0.562745  0.647059  0.063264\n",
              "              test   0.644444  0.777778  0.083148\n",
              "     smoteenn train  0.626374  0.681818  0.040025\n",
              "              test   0.628571  0.875000  0.196396"
            ]
          },
          "metadata": {},
          "execution_count": 66
        }
      ]
    },
    {
      "cell_type": "markdown",
      "source": [
        "Sur les données numériques, on a pu arriver à de bonne performances en terme de la métrique d'Accuracy, en constatant que les deux balancements de données (Clusters Centroid et SMOTE) n'ont pas aidé à améliorer les performances, et parfois il a même conduit à des dégradation en performances.\n",
        "\n",
        "Ceci peut se justifier par le fait que l'inéquilibre n'est pas très significatif (70% face à 30%). Ainsi, le nombre d'individus étant pas très grand, certaines méthdoes de balancement de données font réduire encre plus ce nombre d'individus ce qui ramène à des jeux de données moins riches en termes de données.\n",
        "\n",
        "Le classifieur Naives Bayes étant l'un des meilleurs algorithme pour ce jeu de données, vu qu'il propose des séparation qui peuvent être quadratiques et donc plus adéquate aux différentes formes de données. Et c'est la raison pour laquelle la LDA n'a pas bien perofrmé vu la non-égalité entre les volumes et les formes des deux classes.\n",
        "\n",
        "L'analyse linéaire discriminante étant une méthode qui n'est pas dédiée aux données catégorielles, n'a pas donnée de bons résultats à ce niveau/\n",
        "\n",
        "La méthode de CART a données les meilleures résultats avec les données originales et surtout avec les données balancées avec la combinaison du Over and Under Balancing. Arrivant à une moyenne d'accuracy de 87% et 89% respectivement sur les données de test et des peaks à 100% d'accuracy.\n",
        "\n",
        "\n",
        "On va récupérer le modèle entraîné avec la méthdoe CART et essayer de voir quelles sont les varaibles qui mennent à la classification à chaque niveau."
      ],
      "metadata": {
        "id": "ZxqXsUOlBmnX"
      }
    },
    {
      "cell_type": "code",
      "source": [
        "cart_model = methods['CART']['model']\n",
        "cart_model.feature_importances_, cart_model.tree_.feature[0], cart_model.tree_.impurity[0], cart_model.tree_.threshold[0], cart_model.tree_.children_right[0], cart_model.tree_.children_left[0]"
      ],
      "metadata": {
        "colab": {
          "base_uri": "https://localhost:8080/"
        },
        "id": "zRmnCVq6cQAI",
        "outputId": "7ebbefa8-0c11-40cb-bfca-032694c352cc"
      },
      "execution_count": 88,
      "outputs": [
        {
          "output_type": "execute_result",
          "data": {
            "text/plain": [
              "(array([0.1333726 , 0.16532027, 0.02275502, 0.67855212]),\n",
              " 3,\n",
              " 0.4956387731487487,\n",
              " 6151.0,\n",
              " 126,\n",
              " 1)"
            ]
          },
          "metadata": {},
          "execution_count": 88
        }
      ]
    },
    {
      "cell_type": "markdown",
      "source": [
        "***Rappelons que les noms de colonnes des données numériques sont dans l'ordre suivant: ['duree_mois', 'age', 'nbr_credits', 'montant_credit']\n",
        "***.\n",
        "\n",
        "On voit bien que la variables d'indice 3 est la plus importantes dans le noeud racine ayant une impurté de 0.49, c'est à dire que c'est elle qui va définir le split. Les individus qui ont des valeurs inférieures à 6151 vont allez au fils gauche (fils d'indice 1) et les autres vont aller à droite (fils d'indice 126"
      ],
      "metadata": {
        "id": "SVoYVfuJdy8L"
      }
    },
    {
      "cell_type": "code",
      "source": [
        "cart_model.tree_.feature[1], cart_model.tree_.impurity[1], cart_model.tree_.threshold[1], cart_model.tree_.children_right[1], cart_model.tree_.children_left[1]"
      ],
      "metadata": {
        "colab": {
          "base_uri": "https://localhost:8080/"
        },
        "id": "HebuLs5Kddvh",
        "outputId": "800b2973-4544-407d-905b-659a41dfadd3"
      },
      "execution_count": 90,
      "outputs": [
        {
          "output_type": "execute_result",
          "data": {
            "text/plain": [
              "(0, 0.4981934366508406, 12.5, 53, 2)"
            ]
          },
          "metadata": {},
          "execution_count": 90
        }
      ]
    },
    {
      "cell_type": "markdown",
      "source": [
        "De même ici, on peut voir que la variable d'indice 0 (la durée en mois) contrinue dans la prise de décision à ce niveau là, tel que les individus avec une valeur inférieure à 12.5 vont aller à gauche vers le fils d'indice 2, et les autres à droite vers le fils d'indice 53. L'impureté de ce noeuds est toujours à 0.49"
      ],
      "metadata": {
        "id": "GV-1aXGcg1Ft"
      }
    },
    {
      "cell_type": "markdown",
      "source": [
        "### Cateogircal Data"
      ],
      "metadata": {
        "id": "SJpB_y2FWmTX"
      }
    },
    {
      "cell_type": "markdown",
      "source": [
        "#### Balancer les données"
      ],
      "metadata": {
        "id": "L5ukoATTikt0"
      }
    },
    {
      "cell_type": "code",
      "source": [
        "smoteImbOver = SMOTE()\n",
        "bank_X_categorical_smote, bank_Y_smote = smoteImbOver.fit_resample(bank_X_categorical, bank_Y)\n",
        "bank_X_categorical_smote.shape, bank_Y_smote.shape"
      ],
      "metadata": {
        "colab": {
          "base_uri": "https://localhost:8080/"
        },
        "outputId": "e22d6daf-0cde-456e-d6fd-e817eee74c80",
        "id": "LQGf5aaGipoe"
      },
      "execution_count": 48,
      "outputs": [
        {
          "output_type": "execute_result",
          "data": {
            "text/plain": [
              "((1400, 16), (1400,))"
            ]
          },
          "metadata": {},
          "execution_count": 48
        }
      ]
    },
    {
      "cell_type": "code",
      "source": [
        "ccImbUnder = ClusterCentroids(random_state=42)\n",
        "bank_X_categorical_cc, bank_Y_cc = ccImbUnder.fit_resample(bank_X_categorical, bank_Y)\n",
        "bank_X_categorical_cc.shape, bank_Y_cc.shape"
      ],
      "metadata": {
        "colab": {
          "base_uri": "https://localhost:8080/"
        },
        "outputId": "2143f1d7-b597-49b1-e656-2f433f7c586a",
        "id": "le3Q1RGCipog"
      },
      "execution_count": 49,
      "outputs": [
        {
          "output_type": "execute_result",
          "data": {
            "text/plain": [
              "((600, 16), (600,))"
            ]
          },
          "metadata": {},
          "execution_count": 49
        }
      ]
    },
    {
      "cell_type": "code",
      "source": [
        "smoteImbCombine = SMOTEENN()\n",
        "bank_X_categorical_smoteenn, bank_Y_smoteenn = smoteImbCombine.fit_resample(bank_X_categorical, bank_Y)\n",
        "bank_X_categorical_smoteenn.shape, bank_Y_smoteenn.shape"
      ],
      "metadata": {
        "colab": {
          "base_uri": "https://localhost:8080/"
        },
        "outputId": "cdaeceb4-28d3-4aff-c403-77db83fb82e4",
        "id": "f75WUytOipoh"
      },
      "execution_count": 50,
      "outputs": [
        {
          "output_type": "execute_result",
          "data": {
            "text/plain": [
              "((738, 16), (738,))"
            ]
          },
          "metadata": {},
          "execution_count": 50
        }
      ]
    },
    {
      "cell_type": "markdown",
      "source": [
        "#### Classifier"
      ],
      "metadata": {
        "id": "jjkxJTomE7RE"
      }
    },
    {
      "cell_type": "code",
      "source": [
        "bank_X_categorical_train, bank_X_categorical_test, bank_Y_train, bank_Y_test = train_test_split(bank_X_categorical, bank_Y, test_size=0.15)\n",
        "bank_X_categorical_smote_train, bank_X_categorical_smote_test, bank_Y_smote_train, bank_Y_smote_test = train_test_split(bank_X_categorical_smote, bank_Y_smote, test_size=0.15)\n",
        "bank_X_categorical_cc_train, bank_X_categorical_cc_test, bank_Y_cc_train, bank_Y_cc_test = train_test_split(bank_X_categorical_cc, bank_Y_cc, test_size=0.15)\n",
        "bank_X_categorical_smoteenn_train, bank_X_categorical_smoteenn_test, bank_Y_smoteenn_train, bank_Y_smoteenn_test = train_test_split(bank_X_categorical_smoteenn, bank_Y_smoteenn, test_size=0.15)"
      ],
      "metadata": {
        "id": "bcmMCd_rWYD6"
      },
      "execution_count": 51,
      "outputs": []
    },
    {
      "cell_type": "code",
      "source": [
        "%%capture\n",
        "methods = {}\n",
        "methods['LR'] = {'model': LogisticRegression(), 'results': {}}\n",
        "methods['LDA'] = {'model': LinearDiscriminantAnalysis(), 'results': {}}\n",
        "methods['KNN'] = {'model': KNeighborsClassifier(), 'results': {}}\n",
        "methods['CART'] = {'model': DecisionTreeClassifier(), 'results': {}}\n",
        "methods['RF'] = {'model': RandomForestClassifier(), 'results': {}}\n",
        "methods['NB'] = {'model': GaussianNB(), 'results': {}}\n",
        "for name, method in methods.items():\n",
        "  model = method['model']\n",
        "  kfold = KFold(n_splits=10)\n",
        "  model.fit(bank_X_categorical_train, bank_Y_train)\n",
        "  cv_results_original_train = cross_val_score(model, bank_X_categorical_train, bank_Y_train, cv=kfold, scoring='accuracy')\n",
        "  cv_results_original_test = cross_val_score(model, bank_X_categorical_test, bank_Y_test, cv=kfold, scoring='accuracy')\n",
        "\n",
        "  model.fit(bank_X_categorical_smote_train, bank_Y_smote_train)\n",
        "  cv_results_smote_train = cross_val_score(model, bank_X_categorical_smote_train, bank_Y_smote_train, cv=kfold, scoring='accuracy')\n",
        "  cv_results_smote_test = cross_val_score(model, bank_X_categorical_smote_test, bank_Y_smote_test, cv=kfold, scoring='accuracy')\n",
        "\n",
        "  model.fit(bank_X_categorical_cc_train, bank_Y_cc_train)\n",
        "  cv_results_cc_train = cross_val_score(model, bank_X_categorical_cc_train, bank_Y_cc_train, cv=kfold, scoring='accuracy')\n",
        "  cv_results_cc_test = cross_val_score(model, bank_X_categorical_cc_test, bank_Y_cc_test, cv=kfold, scoring='accuracy')\n",
        "\n",
        "  model.fit(bank_X_categorical_smoteenn_train, bank_Y_smoteenn_train)\n",
        "  cv_results_smoteenn_train = cross_val_score(model, bank_X_categorical_smoteenn_train, bank_Y_smoteenn_train, cv=kfold, scoring='accuracy')\n",
        "  cv_results_smoteenn_test = cross_val_score(model, bank_X_categorical_smoteenn_test, bank_Y_smoteenn_test, cv=kfold, scoring='accuracy')\n",
        "\n",
        "  method['results']['original'] = {'train': {'mean': cv_results_original_train.mean(), 'max': cv_results_original_train.max(), 'std': cv_results_original_train.std()}, 'test': {'mean': cv_results_original_test.mean(), 'max': cv_results_original_test.max(), 'std': cv_results_original_test.std()}}\n",
        "  method['results']['smote'] = {'train': {'mean': cv_results_smote_train.mean(), 'max': cv_results_smote_train.max(), 'std': cv_results_smote_train.std()}, 'test': {'mean': cv_results_smote_test.mean(), 'max': cv_results_smote_test.max(), 'std': cv_results_smote_test.std()}}\n",
        "  method['results']['cc'] = {'train': {'mean': cv_results_cc_train.mean(), 'max': cv_results_cc_train.max(), 'std': cv_results_cc_train.std()}, 'test': {'mean': cv_results_cc_test.mean(), 'max': cv_results_cc_test.max(), 'std': cv_results_cc_test.std()}}\n",
        "  method['results']['smoteenn'] = {'train': {'mean': cv_results_smoteenn_train.mean(), 'max': cv_results_smoteenn_train.max(), 'std': cv_results_smoteenn_train.std()}, 'test': {'mean': cv_results_smoteenn_test.mean(), 'max': cv_results_smoteenn_test.max(), 'std': cv_results_smoteenn_test.std()}}"
      ],
      "metadata": {
        "id": "n08J1wF7WmTh"
      },
      "execution_count": 52,
      "outputs": []
    },
    {
      "cell_type": "code",
      "source": [
        "categorical_data_results = pd.DataFrame.from_dict({(i,j,k): methods[i]['results'][j][k] \n",
        "                  for i in methods.keys()\n",
        "                  for j in methods[i]['results'].keys()\n",
        "                  for k in methods[i]['results'][j].keys()},\n",
        "              orient='index')\n",
        "\n",
        "categorical_data_results"
      ],
      "metadata": {
        "id": "-dTlERkjWmTh",
        "colab": {
          "base_uri": "https://localhost:8080/",
          "height": 1000
        },
        "outputId": "c9580cb2-06a4-4f23-8006-4d9c3f1e0d58"
      },
      "execution_count": 53,
      "outputs": [
        {
          "output_type": "execute_result",
          "data": {
            "text/html": [
              "\n",
              "  <div id=\"df-86fd1aa6-ce3b-470c-b0f9-a1fa4b3e3487\">\n",
              "    <div class=\"colab-df-container\">\n",
              "      <div>\n",
              "<style scoped>\n",
              "    .dataframe tbody tr th:only-of-type {\n",
              "        vertical-align: middle;\n",
              "    }\n",
              "\n",
              "    .dataframe tbody tr th {\n",
              "        vertical-align: top;\n",
              "    }\n",
              "\n",
              "    .dataframe thead th {\n",
              "        text-align: right;\n",
              "    }\n",
              "</style>\n",
              "<table border=\"1\" class=\"dataframe\">\n",
              "  <thead>\n",
              "    <tr style=\"text-align: right;\">\n",
              "      <th></th>\n",
              "      <th></th>\n",
              "      <th></th>\n",
              "      <th>mean</th>\n",
              "      <th>max</th>\n",
              "      <th>std</th>\n",
              "    </tr>\n",
              "  </thead>\n",
              "  <tbody>\n",
              "    <tr>\n",
              "      <th rowspan=\"8\" valign=\"top\">LR</th>\n",
              "      <th rowspan=\"2\" valign=\"top\">original</th>\n",
              "      <th>train</th>\n",
              "      <td>0.735294</td>\n",
              "      <td>0.823529</td>\n",
              "      <td>0.041511</td>\n",
              "    </tr>\n",
              "    <tr>\n",
              "      <th>test</th>\n",
              "      <td>0.700000</td>\n",
              "      <td>0.866667</td>\n",
              "      <td>0.130809</td>\n",
              "    </tr>\n",
              "    <tr>\n",
              "      <th rowspan=\"2\" valign=\"top\">smote</th>\n",
              "      <th>train</th>\n",
              "      <td>0.718487</td>\n",
              "      <td>0.781513</td>\n",
              "      <td>0.034699</td>\n",
              "    </tr>\n",
              "    <tr>\n",
              "      <th>test</th>\n",
              "      <td>0.642857</td>\n",
              "      <td>0.857143</td>\n",
              "      <td>0.109109</td>\n",
              "    </tr>\n",
              "    <tr>\n",
              "      <th rowspan=\"2\" valign=\"top\">cc</th>\n",
              "      <th>train</th>\n",
              "      <td>0.656863</td>\n",
              "      <td>0.803922</td>\n",
              "      <td>0.063989</td>\n",
              "    </tr>\n",
              "    <tr>\n",
              "      <th>test</th>\n",
              "      <td>0.644444</td>\n",
              "      <td>0.777778</td>\n",
              "      <td>0.108866</td>\n",
              "    </tr>\n",
              "    <tr>\n",
              "      <th rowspan=\"2\" valign=\"top\">smoteenn</th>\n",
              "      <th>train</th>\n",
              "      <td>0.857988</td>\n",
              "      <td>0.936508</td>\n",
              "      <td>0.050633</td>\n",
              "    </tr>\n",
              "    <tr>\n",
              "      <th>test</th>\n",
              "      <td>0.801515</td>\n",
              "      <td>0.909091</td>\n",
              "      <td>0.079729</td>\n",
              "    </tr>\n",
              "    <tr>\n",
              "      <th rowspan=\"8\" valign=\"top\">LDA</th>\n",
              "      <th rowspan=\"2\" valign=\"top\">original</th>\n",
              "      <th>train</th>\n",
              "      <td>0.735294</td>\n",
              "      <td>0.823529</td>\n",
              "      <td>0.041843</td>\n",
              "    </tr>\n",
              "    <tr>\n",
              "      <th>test</th>\n",
              "      <td>0.706667</td>\n",
              "      <td>0.933333</td>\n",
              "      <td>0.137275</td>\n",
              "    </tr>\n",
              "    <tr>\n",
              "      <th rowspan=\"2\" valign=\"top\">smote</th>\n",
              "      <th>train</th>\n",
              "      <td>0.715126</td>\n",
              "      <td>0.781513</td>\n",
              "      <td>0.033917</td>\n",
              "    </tr>\n",
              "    <tr>\n",
              "      <th>test</th>\n",
              "      <td>0.638095</td>\n",
              "      <td>0.857143</td>\n",
              "      <td>0.111066</td>\n",
              "    </tr>\n",
              "    <tr>\n",
              "      <th rowspan=\"2\" valign=\"top\">cc</th>\n",
              "      <th>train</th>\n",
              "      <td>0.662745</td>\n",
              "      <td>0.803922</td>\n",
              "      <td>0.060626</td>\n",
              "    </tr>\n",
              "    <tr>\n",
              "      <th>test</th>\n",
              "      <td>0.622222</td>\n",
              "      <td>0.777778</td>\n",
              "      <td>0.113312</td>\n",
              "    </tr>\n",
              "    <tr>\n",
              "      <th rowspan=\"2\" valign=\"top\">smoteenn</th>\n",
              "      <th>train</th>\n",
              "      <td>0.870814</td>\n",
              "      <td>0.936508</td>\n",
              "      <td>0.038573</td>\n",
              "    </tr>\n",
              "    <tr>\n",
              "      <th>test</th>\n",
              "      <td>0.801515</td>\n",
              "      <td>1.000000</td>\n",
              "      <td>0.156648</td>\n",
              "    </tr>\n",
              "    <tr>\n",
              "      <th rowspan=\"8\" valign=\"top\">KNN</th>\n",
              "      <th rowspan=\"2\" valign=\"top\">original</th>\n",
              "      <th>train</th>\n",
              "      <td>0.700000</td>\n",
              "      <td>0.764706</td>\n",
              "      <td>0.035392</td>\n",
              "    </tr>\n",
              "    <tr>\n",
              "      <th>test</th>\n",
              "      <td>0.773333</td>\n",
              "      <td>0.933333</td>\n",
              "      <td>0.104137</td>\n",
              "    </tr>\n",
              "    <tr>\n",
              "      <th rowspan=\"2\" valign=\"top\">smote</th>\n",
              "      <th>train</th>\n",
              "      <td>0.755462</td>\n",
              "      <td>0.815126</td>\n",
              "      <td>0.042758</td>\n",
              "    </tr>\n",
              "    <tr>\n",
              "      <th>test</th>\n",
              "      <td>0.638095</td>\n",
              "      <td>0.761905</td>\n",
              "      <td>0.077372</td>\n",
              "    </tr>\n",
              "    <tr>\n",
              "      <th rowspan=\"2\" valign=\"top\">cc</th>\n",
              "      <th>train</th>\n",
              "      <td>0.562745</td>\n",
              "      <td>0.666667</td>\n",
              "      <td>0.054797</td>\n",
              "    </tr>\n",
              "    <tr>\n",
              "      <th>test</th>\n",
              "      <td>0.600000</td>\n",
              "      <td>0.777778</td>\n",
              "      <td>0.150718</td>\n",
              "    </tr>\n",
              "    <tr>\n",
              "      <th rowspan=\"2\" valign=\"top\">smoteenn</th>\n",
              "      <th>train</th>\n",
              "      <td>0.912417</td>\n",
              "      <td>0.968254</td>\n",
              "      <td>0.048113</td>\n",
              "    </tr>\n",
              "    <tr>\n",
              "      <th>test</th>\n",
              "      <td>0.729545</td>\n",
              "      <td>0.909091</td>\n",
              "      <td>0.099819</td>\n",
              "    </tr>\n",
              "    <tr>\n",
              "      <th rowspan=\"8\" valign=\"top\">CART</th>\n",
              "      <th rowspan=\"2\" valign=\"top\">original</th>\n",
              "      <th>train</th>\n",
              "      <td>0.661176</td>\n",
              "      <td>0.705882</td>\n",
              "      <td>0.031480</td>\n",
              "    </tr>\n",
              "    <tr>\n",
              "      <th>test</th>\n",
              "      <td>0.646667</td>\n",
              "      <td>0.800000</td>\n",
              "      <td>0.103494</td>\n",
              "    </tr>\n",
              "    <tr>\n",
              "      <th rowspan=\"2\" valign=\"top\">smote</th>\n",
              "      <th>train</th>\n",
              "      <td>0.746218</td>\n",
              "      <td>0.798319</td>\n",
              "      <td>0.035214</td>\n",
              "    </tr>\n",
              "    <tr>\n",
              "      <th>test</th>\n",
              "      <td>0.647619</td>\n",
              "      <td>0.809524</td>\n",
              "      <td>0.093314</td>\n",
              "    </tr>\n",
              "    <tr>\n",
              "      <th rowspan=\"2\" valign=\"top\">cc</th>\n",
              "      <th>train</th>\n",
              "      <td>0.694118</td>\n",
              "      <td>0.823529</td>\n",
              "      <td>0.073471</td>\n",
              "    </tr>\n",
              "    <tr>\n",
              "      <th>test</th>\n",
              "      <td>0.566667</td>\n",
              "      <td>0.777778</td>\n",
              "      <td>0.188889</td>\n",
              "    </tr>\n",
              "    <tr>\n",
              "      <th rowspan=\"2\" valign=\"top\">smoteenn</th>\n",
              "      <th>train</th>\n",
              "      <td>0.877138</td>\n",
              "      <td>0.920635</td>\n",
              "      <td>0.029556</td>\n",
              "    </tr>\n",
              "    <tr>\n",
              "      <th>test</th>\n",
              "      <td>0.703030</td>\n",
              "      <td>0.909091</td>\n",
              "      <td>0.098473</td>\n",
              "    </tr>\n",
              "    <tr>\n",
              "      <th rowspan=\"8\" valign=\"top\">RF</th>\n",
              "      <th rowspan=\"2\" valign=\"top\">original</th>\n",
              "      <th>train</th>\n",
              "      <td>0.725882</td>\n",
              "      <td>0.776471</td>\n",
              "      <td>0.042107</td>\n",
              "    </tr>\n",
              "    <tr>\n",
              "      <th>test</th>\n",
              "      <td>0.700000</td>\n",
              "      <td>0.866667</td>\n",
              "      <td>0.127366</td>\n",
              "    </tr>\n",
              "    <tr>\n",
              "      <th rowspan=\"2\" valign=\"top\">smote</th>\n",
              "      <th>train</th>\n",
              "      <td>0.809244</td>\n",
              "      <td>0.857143</td>\n",
              "      <td>0.043673</td>\n",
              "    </tr>\n",
              "    <tr>\n",
              "      <th>test</th>\n",
              "      <td>0.671429</td>\n",
              "      <td>0.809524</td>\n",
              "      <td>0.103126</td>\n",
              "    </tr>\n",
              "    <tr>\n",
              "      <th rowspan=\"2\" valign=\"top\">cc</th>\n",
              "      <th>train</th>\n",
              "      <td>0.752941</td>\n",
              "      <td>0.843137</td>\n",
              "      <td>0.050526</td>\n",
              "    </tr>\n",
              "    <tr>\n",
              "      <th>test</th>\n",
              "      <td>0.677778</td>\n",
              "      <td>0.888889</td>\n",
              "      <td>0.152753</td>\n",
              "    </tr>\n",
              "    <tr>\n",
              "      <th rowspan=\"2\" valign=\"top\">smoteenn</th>\n",
              "      <th>train</th>\n",
              "      <td>0.917076</td>\n",
              "      <td>0.968254</td>\n",
              "      <td>0.031580</td>\n",
              "    </tr>\n",
              "    <tr>\n",
              "      <th>test</th>\n",
              "      <td>0.764394</td>\n",
              "      <td>0.916667</td>\n",
              "      <td>0.117385</td>\n",
              "    </tr>\n",
              "    <tr>\n",
              "      <th rowspan=\"8\" valign=\"top\">NB</th>\n",
              "      <th rowspan=\"2\" valign=\"top\">original</th>\n",
              "      <th>train</th>\n",
              "      <td>0.710588</td>\n",
              "      <td>0.776471</td>\n",
              "      <td>0.041827</td>\n",
              "    </tr>\n",
              "    <tr>\n",
              "      <th>test</th>\n",
              "      <td>0.266667</td>\n",
              "      <td>0.466667</td>\n",
              "      <td>0.122927</td>\n",
              "    </tr>\n",
              "    <tr>\n",
              "      <th rowspan=\"2\" valign=\"top\">smote</th>\n",
              "      <th>train</th>\n",
              "      <td>0.696639</td>\n",
              "      <td>0.781513</td>\n",
              "      <td>0.043899</td>\n",
              "    </tr>\n",
              "    <tr>\n",
              "      <th>test</th>\n",
              "      <td>0.542857</td>\n",
              "      <td>0.714286</td>\n",
              "      <td>0.122706</td>\n",
              "    </tr>\n",
              "    <tr>\n",
              "      <th rowspan=\"2\" valign=\"top\">cc</th>\n",
              "      <th>train</th>\n",
              "      <td>0.649020</td>\n",
              "      <td>0.784314</td>\n",
              "      <td>0.082934</td>\n",
              "    </tr>\n",
              "    <tr>\n",
              "      <th>test</th>\n",
              "      <td>0.522222</td>\n",
              "      <td>0.888889</td>\n",
              "      <td>0.172491</td>\n",
              "    </tr>\n",
              "    <tr>\n",
              "      <th rowspan=\"2\" valign=\"top\">smoteenn</th>\n",
              "      <th>train</th>\n",
              "      <td>0.661905</td>\n",
              "      <td>0.714286</td>\n",
              "      <td>0.034548</td>\n",
              "    </tr>\n",
              "    <tr>\n",
              "      <th>test</th>\n",
              "      <td>0.675000</td>\n",
              "      <td>0.909091</td>\n",
              "      <td>0.117678</td>\n",
              "    </tr>\n",
              "  </tbody>\n",
              "</table>\n",
              "</div>\n",
              "      <button class=\"colab-df-convert\" onclick=\"convertToInteractive('df-86fd1aa6-ce3b-470c-b0f9-a1fa4b3e3487')\"\n",
              "              title=\"Convert this dataframe to an interactive table.\"\n",
              "              style=\"display:none;\">\n",
              "        \n",
              "  <svg xmlns=\"http://www.w3.org/2000/svg\" height=\"24px\"viewBox=\"0 0 24 24\"\n",
              "       width=\"24px\">\n",
              "    <path d=\"M0 0h24v24H0V0z\" fill=\"none\"/>\n",
              "    <path d=\"M18.56 5.44l.94 2.06.94-2.06 2.06-.94-2.06-.94-.94-2.06-.94 2.06-2.06.94zm-11 1L8.5 8.5l.94-2.06 2.06-.94-2.06-.94L8.5 2.5l-.94 2.06-2.06.94zm10 10l.94 2.06.94-2.06 2.06-.94-2.06-.94-.94-2.06-.94 2.06-2.06.94z\"/><path d=\"M17.41 7.96l-1.37-1.37c-.4-.4-.92-.59-1.43-.59-.52 0-1.04.2-1.43.59L10.3 9.45l-7.72 7.72c-.78.78-.78 2.05 0 2.83L4 21.41c.39.39.9.59 1.41.59.51 0 1.02-.2 1.41-.59l7.78-7.78 2.81-2.81c.8-.78.8-2.07 0-2.86zM5.41 20L4 18.59l7.72-7.72 1.47 1.35L5.41 20z\"/>\n",
              "  </svg>\n",
              "      </button>\n",
              "      \n",
              "  <style>\n",
              "    .colab-df-container {\n",
              "      display:flex;\n",
              "      flex-wrap:wrap;\n",
              "      gap: 12px;\n",
              "    }\n",
              "\n",
              "    .colab-df-convert {\n",
              "      background-color: #E8F0FE;\n",
              "      border: none;\n",
              "      border-radius: 50%;\n",
              "      cursor: pointer;\n",
              "      display: none;\n",
              "      fill: #1967D2;\n",
              "      height: 32px;\n",
              "      padding: 0 0 0 0;\n",
              "      width: 32px;\n",
              "    }\n",
              "\n",
              "    .colab-df-convert:hover {\n",
              "      background-color: #E2EBFA;\n",
              "      box-shadow: 0px 1px 2px rgba(60, 64, 67, 0.3), 0px 1px 3px 1px rgba(60, 64, 67, 0.15);\n",
              "      fill: #174EA6;\n",
              "    }\n",
              "\n",
              "    [theme=dark] .colab-df-convert {\n",
              "      background-color: #3B4455;\n",
              "      fill: #D2E3FC;\n",
              "    }\n",
              "\n",
              "    [theme=dark] .colab-df-convert:hover {\n",
              "      background-color: #434B5C;\n",
              "      box-shadow: 0px 1px 3px 1px rgba(0, 0, 0, 0.15);\n",
              "      filter: drop-shadow(0px 1px 2px rgba(0, 0, 0, 0.3));\n",
              "      fill: #FFFFFF;\n",
              "    }\n",
              "  </style>\n",
              "\n",
              "      <script>\n",
              "        const buttonEl =\n",
              "          document.querySelector('#df-86fd1aa6-ce3b-470c-b0f9-a1fa4b3e3487 button.colab-df-convert');\n",
              "        buttonEl.style.display =\n",
              "          google.colab.kernel.accessAllowed ? 'block' : 'none';\n",
              "\n",
              "        async function convertToInteractive(key) {\n",
              "          const element = document.querySelector('#df-86fd1aa6-ce3b-470c-b0f9-a1fa4b3e3487');\n",
              "          const dataTable =\n",
              "            await google.colab.kernel.invokeFunction('convertToInteractive',\n",
              "                                                     [key], {});\n",
              "          if (!dataTable) return;\n",
              "\n",
              "          const docLinkHtml = 'Like what you see? Visit the ' +\n",
              "            '<a target=\"_blank\" href=https://colab.research.google.com/notebooks/data_table.ipynb>data table notebook</a>'\n",
              "            + ' to learn more about interactive tables.';\n",
              "          element.innerHTML = '';\n",
              "          dataTable['output_type'] = 'display_data';\n",
              "          await google.colab.output.renderOutput(dataTable, element);\n",
              "          const docLink = document.createElement('div');\n",
              "          docLink.innerHTML = docLinkHtml;\n",
              "          element.appendChild(docLink);\n",
              "        }\n",
              "      </script>\n",
              "    </div>\n",
              "  </div>\n",
              "  "
            ],
            "text/plain": [
              "                         mean       max       std\n",
              "LR   original train  0.735294  0.823529  0.041511\n",
              "              test   0.700000  0.866667  0.130809\n",
              "     smote    train  0.718487  0.781513  0.034699\n",
              "              test   0.642857  0.857143  0.109109\n",
              "     cc       train  0.656863  0.803922  0.063989\n",
              "              test   0.644444  0.777778  0.108866\n",
              "     smoteenn train  0.857988  0.936508  0.050633\n",
              "              test   0.801515  0.909091  0.079729\n",
              "LDA  original train  0.735294  0.823529  0.041843\n",
              "              test   0.706667  0.933333  0.137275\n",
              "     smote    train  0.715126  0.781513  0.033917\n",
              "              test   0.638095  0.857143  0.111066\n",
              "     cc       train  0.662745  0.803922  0.060626\n",
              "              test   0.622222  0.777778  0.113312\n",
              "     smoteenn train  0.870814  0.936508  0.038573\n",
              "              test   0.801515  1.000000  0.156648\n",
              "KNN  original train  0.700000  0.764706  0.035392\n",
              "              test   0.773333  0.933333  0.104137\n",
              "     smote    train  0.755462  0.815126  0.042758\n",
              "              test   0.638095  0.761905  0.077372\n",
              "     cc       train  0.562745  0.666667  0.054797\n",
              "              test   0.600000  0.777778  0.150718\n",
              "     smoteenn train  0.912417  0.968254  0.048113\n",
              "              test   0.729545  0.909091  0.099819\n",
              "CART original train  0.661176  0.705882  0.031480\n",
              "              test   0.646667  0.800000  0.103494\n",
              "     smote    train  0.746218  0.798319  0.035214\n",
              "              test   0.647619  0.809524  0.093314\n",
              "     cc       train  0.694118  0.823529  0.073471\n",
              "              test   0.566667  0.777778  0.188889\n",
              "     smoteenn train  0.877138  0.920635  0.029556\n",
              "              test   0.703030  0.909091  0.098473\n",
              "RF   original train  0.725882  0.776471  0.042107\n",
              "              test   0.700000  0.866667  0.127366\n",
              "     smote    train  0.809244  0.857143  0.043673\n",
              "              test   0.671429  0.809524  0.103126\n",
              "     cc       train  0.752941  0.843137  0.050526\n",
              "              test   0.677778  0.888889  0.152753\n",
              "     smoteenn train  0.917076  0.968254  0.031580\n",
              "              test   0.764394  0.916667  0.117385\n",
              "NB   original train  0.710588  0.776471  0.041827\n",
              "              test   0.266667  0.466667  0.122927\n",
              "     smote    train  0.696639  0.781513  0.043899\n",
              "              test   0.542857  0.714286  0.122706\n",
              "     cc       train  0.649020  0.784314  0.082934\n",
              "              test   0.522222  0.888889  0.172491\n",
              "     smoteenn train  0.661905  0.714286  0.034548\n",
              "              test   0.675000  0.909091  0.117678"
            ]
          },
          "metadata": {},
          "execution_count": 53
        }
      ]
    },
    {
      "cell_type": "markdown",
      "source": [
        "Sur les données catégorielles, on peut constater des améliorations sur les résultats retournés par les différentes méthodes arrivant à de bonnes performances en terme de la métrique d'Accuracy. On ressent d'une manière un peu plus évident que les méthodes de balancement des données ont pu avoir un impact positif sur nos métriques. Il y a pas eu des dégradations en performances comme dans le cas de numérique.\n",
        "\n",
        "Le classifieur Naives Bayes donant également de bonnes performances algorithme pour ce jeu de données, vu qu'il propose des séparation qui peuvent être quadratiques et donc plus adéquate aux différentes formes de données. Et c'est la raison pour laquelle la LDA n'a pas bien perofrmé vu la non-égalité entre les volumes et les formes des deux classes. \n",
        "\n",
        "On constate également la supériorité de la méthode de KNN surtout avec les balanacement de données avec SMOTE.\n",
        "\n",
        "La méthode de CART n'a pas donnée des résultats aussi bonnes qu'avec les variables numériques. Ceci peut se justifier par le nombre imporant de variables catégorielles qu'il y en a par comparées aux variables numériques\n",
        "\n",
        "\n",
        "Une limite qui a pu être dépassée avec la méthode de Random Forest qui est là pour palier à ces problèmes en combinant plusieurs arbre à la fois et ne sélectionner qu'un groupe réduit de variables pour décider les coupures."
      ],
      "metadata": {
        "id": "XcxRQPhYhcWW"
      }
    },
    {
      "cell_type": "markdown",
      "source": [
        "### All Data"
      ],
      "metadata": {
        "id": "PeDz2wtZWnC5"
      }
    },
    {
      "cell_type": "markdown",
      "source": [
        "#### Balancer les données"
      ],
      "metadata": {
        "id": "2IS0lXFqFFph"
      }
    },
    {
      "cell_type": "code",
      "source": [
        "smoteImbOver = SMOTE()\n",
        "bank_X_smote, bank_Y_smote = smoteImbOver.fit_resample(bank_X, bank_Y)\n",
        "bank_X_smote.shape, bank_Y_smote.shape"
      ],
      "metadata": {
        "colab": {
          "base_uri": "https://localhost:8080/"
        },
        "outputId": "2258d2c5-ab53-4f53-c9c7-c7adc34a2c81",
        "id": "moKIa0ztl2-2"
      },
      "execution_count": 54,
      "outputs": [
        {
          "output_type": "execute_result",
          "data": {
            "text/plain": [
              "((1400, 20), (1400,))"
            ]
          },
          "metadata": {},
          "execution_count": 54
        }
      ]
    },
    {
      "cell_type": "code",
      "source": [
        "ccImbUnder = ClusterCentroids(random_state=42)\n",
        "bank_X_cc, bank_Y_cc = ccImbUnder.fit_resample(bank_X, bank_Y)\n",
        "bank_X_cc.shape, bank_Y_cc.shape"
      ],
      "metadata": {
        "colab": {
          "base_uri": "https://localhost:8080/"
        },
        "outputId": "a882b122-ab94-4e9d-d76e-604910a9d590",
        "id": "ULceNfQql2_C"
      },
      "execution_count": 55,
      "outputs": [
        {
          "output_type": "execute_result",
          "data": {
            "text/plain": [
              "((600, 20), (600,))"
            ]
          },
          "metadata": {},
          "execution_count": 55
        }
      ]
    },
    {
      "cell_type": "code",
      "source": [
        "smoteImbCombine = SMOTEENN()\n",
        "bank_X_smoteenn, bank_Y_smoteenn = smoteImbCombine.fit_resample(bank_X, bank_Y)\n",
        "bank_X_smoteenn.shape, bank_Y_smoteenn.shape"
      ],
      "metadata": {
        "colab": {
          "base_uri": "https://localhost:8080/"
        },
        "outputId": "fc3e949d-d35c-4801-d56f-cf6b2763b0cf",
        "id": "4c7F7FWRl2_C"
      },
      "execution_count": 56,
      "outputs": [
        {
          "output_type": "execute_result",
          "data": {
            "text/plain": [
              "((485, 20), (485,))"
            ]
          },
          "metadata": {},
          "execution_count": 56
        }
      ]
    },
    {
      "cell_type": "markdown",
      "source": [
        "#### Classifier"
      ],
      "metadata": {
        "id": "pAYmn7qcFDB7"
      }
    },
    {
      "cell_type": "code",
      "source": [
        "bank_X_train, bank_X_test, bank_Y_train, bank_Y_test = train_test_split(bank_X, bank_Y, test_size=0.15)\n",
        "bank_X_smote_train, bank_X_smote_test, bank_Y_smote_train, bank_Y_smote_test = train_test_split(bank_X_smote, bank_Y_smote, test_size=0.15)\n",
        "bank_X_cc_train, bank_X_cc_test, bank_Y_cc_train, bank_Y_cc_test = train_test_split(bank_X_cc, bank_Y_cc, test_size=0.15)\n",
        "bank_X_smoteenn_train, bank_X_smoteenn_test, bank_Y_smoteenn_train, bank_Y_smoteenn_test = train_test_split(bank_X_smoteenn, bank_Y_smoteenn, test_size=0.15)"
      ],
      "metadata": {
        "id": "N7a-fbIgW053"
      },
      "execution_count": 57,
      "outputs": []
    },
    {
      "cell_type": "code",
      "source": [
        "%%capture\n",
        "methods = {}\n",
        "methods['LR'] = {'model': LogisticRegression(), 'results': {}}\n",
        "methods['LDA'] = {'model': LinearDiscriminantAnalysis(), 'results': {}}\n",
        "methods['KNN'] = {'model': KNeighborsClassifier(), 'results': {}}\n",
        "methods['CART'] = {'model': DecisionTreeClassifier(), 'results': {}}\n",
        "methods['RF'] = {'model': RandomForestClassifier(), 'results': {}}\n",
        "methods['NB'] = {'model': GaussianNB(), 'results': {}}\n",
        "for name, method in methods.items():\n",
        "  model = method['model']\n",
        "  kfold = KFold(n_splits=10)\n",
        "  model.fit(bank_X_train, bank_Y_train)\n",
        "  cv_results_original_train = cross_val_score(model, bank_X_train, bank_Y_train, cv=kfold, scoring='accuracy')\n",
        "  cv_results_original_test = cross_val_score(model, bank_X_test, bank_Y_test, cv=kfold, scoring='accuracy')\n",
        "\n",
        "  model.fit(bank_X_smote_train, bank_Y_smote_train)\n",
        "  cv_results_smote_train = cross_val_score(model, bank_X_smote_train, bank_Y_smote_train, cv=kfold, scoring='accuracy')\n",
        "  cv_results_smote_test = cross_val_score(model, bank_X_smote_test, bank_Y_smote_test, cv=kfold, scoring='accuracy')\n",
        "\n",
        "  model.fit(bank_X_cc_train, bank_Y_cc_train)\n",
        "  cv_results_cc_train = cross_val_score(model, bank_X_cc_train, bank_Y_cc_train, cv=kfold, scoring='accuracy')\n",
        "  cv_results_cc_test = cross_val_score(model, bank_X_cc_test, bank_Y_cc_test, cv=kfold, scoring='accuracy')\n",
        "\n",
        "  model.fit(bank_X_smoteenn_train, bank_Y_smoteenn_train)\n",
        "  cv_results_smoteenn_train = cross_val_score(model, bank_X_smoteenn_train, bank_Y_smoteenn_train, cv=kfold, scoring='accuracy')\n",
        "  cv_results_smoteenn_test = cross_val_score(model, bank_X_smoteenn_test, bank_Y_smoteenn_test, cv=kfold, scoring='accuracy')\n",
        "\n",
        "  method['results']['original'] = {'train': {'mean': cv_results_original_train.mean(), 'max': cv_results_original_train.max(), 'std': cv_results_original_train.std()}, 'test': {'mean': cv_results_original_test.mean(), 'max': cv_results_original_test.max(), 'std': cv_results_original_test.std()}}\n",
        "  method['results']['smote'] = {'train': {'mean': cv_results_smote_train.mean(), 'max': cv_results_smote_train.max(), 'std': cv_results_smote_train.std()}, 'test': {'mean': cv_results_smote_test.mean(), 'max': cv_results_smote_test.max(), 'std': cv_results_smote_test.std()}}\n",
        "  method['results']['cc'] = {'train': {'mean': cv_results_cc_train.mean(), 'max': cv_results_cc_train.max(), 'std': cv_results_cc_train.std()}, 'test': {'mean': cv_results_cc_test.mean(), 'max': cv_results_cc_test.max(), 'std': cv_results_cc_test.std()}}\n",
        "  method['results']['smoteenn'] = {'train': {'mean': cv_results_smoteenn_train.mean(), 'max': cv_results_smoteenn_train.max(), 'std': cv_results_smoteenn_train.std()}, 'test': {'mean': cv_results_smoteenn_test.mean(), 'max': cv_results_smoteenn_test.max(), 'std': cv_results_smoteenn_test.std()}}"
      ],
      "metadata": {
        "id": "thqYe4efWnC6"
      },
      "execution_count": 58,
      "outputs": []
    },
    {
      "cell_type": "code",
      "source": [
        "all_data_results = pd.DataFrame.from_dict({(i,j,k): methods[i]['results'][j][k] \n",
        "                  for i in methods.keys()\n",
        "                  for j in methods[i]['results'].keys()\n",
        "                  for k in methods[i]['results'][j].keys()},\n",
        "              orient='index')\n",
        "\n",
        "all_data_results"
      ],
      "metadata": {
        "id": "f68YOtMBWnC6",
        "colab": {
          "base_uri": "https://localhost:8080/",
          "height": 1000
        },
        "outputId": "5d0e7b74-deab-4cc6-e32b-05b983cf43ec"
      },
      "execution_count": 59,
      "outputs": [
        {
          "output_type": "execute_result",
          "data": {
            "text/html": [
              "\n",
              "  <div id=\"df-17f9e1a3-2158-49bd-bf16-e19749286cfa\">\n",
              "    <div class=\"colab-df-container\">\n",
              "      <div>\n",
              "<style scoped>\n",
              "    .dataframe tbody tr th:only-of-type {\n",
              "        vertical-align: middle;\n",
              "    }\n",
              "\n",
              "    .dataframe tbody tr th {\n",
              "        vertical-align: top;\n",
              "    }\n",
              "\n",
              "    .dataframe thead th {\n",
              "        text-align: right;\n",
              "    }\n",
              "</style>\n",
              "<table border=\"1\" class=\"dataframe\">\n",
              "  <thead>\n",
              "    <tr style=\"text-align: right;\">\n",
              "      <th></th>\n",
              "      <th></th>\n",
              "      <th></th>\n",
              "      <th>mean</th>\n",
              "      <th>max</th>\n",
              "      <th>std</th>\n",
              "    </tr>\n",
              "  </thead>\n",
              "  <tbody>\n",
              "    <tr>\n",
              "      <th rowspan=\"8\" valign=\"top\">LR</th>\n",
              "      <th rowspan=\"2\" valign=\"top\">original</th>\n",
              "      <th>train</th>\n",
              "      <td>0.742353</td>\n",
              "      <td>0.800000</td>\n",
              "      <td>0.046897</td>\n",
              "    </tr>\n",
              "    <tr>\n",
              "      <th>test</th>\n",
              "      <td>0.700000</td>\n",
              "      <td>0.800000</td>\n",
              "      <td>0.074536</td>\n",
              "    </tr>\n",
              "    <tr>\n",
              "      <th rowspan=\"2\" valign=\"top\">smote</th>\n",
              "      <th>train</th>\n",
              "      <td>0.709244</td>\n",
              "      <td>0.756303</td>\n",
              "      <td>0.031262</td>\n",
              "    </tr>\n",
              "    <tr>\n",
              "      <th>test</th>\n",
              "      <td>0.738095</td>\n",
              "      <td>0.809524</td>\n",
              "      <td>0.074536</td>\n",
              "    </tr>\n",
              "    <tr>\n",
              "      <th rowspan=\"2\" valign=\"top\">cc</th>\n",
              "      <th>train</th>\n",
              "      <td>0.678431</td>\n",
              "      <td>0.823529</td>\n",
              "      <td>0.075535</td>\n",
              "    </tr>\n",
              "    <tr>\n",
              "      <th>test</th>\n",
              "      <td>0.711111</td>\n",
              "      <td>0.888889</td>\n",
              "      <td>0.113312</td>\n",
              "    </tr>\n",
              "    <tr>\n",
              "      <th rowspan=\"2\" valign=\"top\">smoteenn</th>\n",
              "      <th>train</th>\n",
              "      <td>0.761672</td>\n",
              "      <td>0.880952</td>\n",
              "      <td>0.054380</td>\n",
              "    </tr>\n",
              "    <tr>\n",
              "      <th>test</th>\n",
              "      <td>0.708929</td>\n",
              "      <td>1.000000</td>\n",
              "      <td>0.183164</td>\n",
              "    </tr>\n",
              "    <tr>\n",
              "      <th rowspan=\"8\" valign=\"top\">LDA</th>\n",
              "      <th rowspan=\"2\" valign=\"top\">original</th>\n",
              "      <th>train</th>\n",
              "      <td>0.743529</td>\n",
              "      <td>0.811765</td>\n",
              "      <td>0.049300</td>\n",
              "    </tr>\n",
              "    <tr>\n",
              "      <th>test</th>\n",
              "      <td>0.700000</td>\n",
              "      <td>0.866667</td>\n",
              "      <td>0.080277</td>\n",
              "    </tr>\n",
              "    <tr>\n",
              "      <th rowspan=\"2\" valign=\"top\">smote</th>\n",
              "      <th>train</th>\n",
              "      <td>0.735294</td>\n",
              "      <td>0.815126</td>\n",
              "      <td>0.048602</td>\n",
              "    </tr>\n",
              "    <tr>\n",
              "      <th>test</th>\n",
              "      <td>0.723810</td>\n",
              "      <td>0.809524</td>\n",
              "      <td>0.059476</td>\n",
              "    </tr>\n",
              "    <tr>\n",
              "      <th rowspan=\"2\" valign=\"top\">cc</th>\n",
              "      <th>train</th>\n",
              "      <td>0.672549</td>\n",
              "      <td>0.803922</td>\n",
              "      <td>0.086830</td>\n",
              "    </tr>\n",
              "    <tr>\n",
              "      <th>test</th>\n",
              "      <td>0.633333</td>\n",
              "      <td>0.888889</td>\n",
              "      <td>0.186256</td>\n",
              "    </tr>\n",
              "    <tr>\n",
              "      <th rowspan=\"2\" valign=\"top\">smoteenn</th>\n",
              "      <th>train</th>\n",
              "      <td>0.778630</td>\n",
              "      <td>0.880952</td>\n",
              "      <td>0.066740</td>\n",
              "    </tr>\n",
              "    <tr>\n",
              "      <th>test</th>\n",
              "      <td>0.726786</td>\n",
              "      <td>0.875000</td>\n",
              "      <td>0.131720</td>\n",
              "    </tr>\n",
              "    <tr>\n",
              "      <th rowspan=\"8\" valign=\"top\">KNN</th>\n",
              "      <th rowspan=\"2\" valign=\"top\">original</th>\n",
              "      <th>train</th>\n",
              "      <td>0.648235</td>\n",
              "      <td>0.694118</td>\n",
              "      <td>0.035470</td>\n",
              "    </tr>\n",
              "    <tr>\n",
              "      <th>test</th>\n",
              "      <td>0.680000</td>\n",
              "      <td>0.866667</td>\n",
              "      <td>0.132665</td>\n",
              "    </tr>\n",
              "    <tr>\n",
              "      <th rowspan=\"2\" valign=\"top\">smote</th>\n",
              "      <th>train</th>\n",
              "      <td>0.642017</td>\n",
              "      <td>0.697479</td>\n",
              "      <td>0.028670</td>\n",
              "    </tr>\n",
              "    <tr>\n",
              "      <th>test</th>\n",
              "      <td>0.495238</td>\n",
              "      <td>0.714286</td>\n",
              "      <td>0.126348</td>\n",
              "    </tr>\n",
              "    <tr>\n",
              "      <th rowspan=\"2\" valign=\"top\">cc</th>\n",
              "      <th>train</th>\n",
              "      <td>0.500000</td>\n",
              "      <td>0.568627</td>\n",
              "      <td>0.057668</td>\n",
              "    </tr>\n",
              "    <tr>\n",
              "      <th>test</th>\n",
              "      <td>0.433333</td>\n",
              "      <td>0.666667</td>\n",
              "      <td>0.116003</td>\n",
              "    </tr>\n",
              "    <tr>\n",
              "      <th rowspan=\"2\" valign=\"top\">smoteenn</th>\n",
              "      <th>train</th>\n",
              "      <td>0.851742</td>\n",
              "      <td>0.926829</td>\n",
              "      <td>0.050917</td>\n",
              "    </tr>\n",
              "    <tr>\n",
              "      <th>test</th>\n",
              "      <td>0.519643</td>\n",
              "      <td>0.750000</td>\n",
              "      <td>0.138425</td>\n",
              "    </tr>\n",
              "    <tr>\n",
              "      <th rowspan=\"8\" valign=\"top\">CART</th>\n",
              "      <th rowspan=\"2\" valign=\"top\">original</th>\n",
              "      <th>train</th>\n",
              "      <td>0.716471</td>\n",
              "      <td>0.800000</td>\n",
              "      <td>0.048063</td>\n",
              "    </tr>\n",
              "    <tr>\n",
              "      <th>test</th>\n",
              "      <td>0.720000</td>\n",
              "      <td>0.866667</td>\n",
              "      <td>0.097980</td>\n",
              "    </tr>\n",
              "    <tr>\n",
              "      <th rowspan=\"2\" valign=\"top\">smote</th>\n",
              "      <th>train</th>\n",
              "      <td>0.711765</td>\n",
              "      <td>0.798319</td>\n",
              "      <td>0.042526</td>\n",
              "    </tr>\n",
              "    <tr>\n",
              "      <th>test</th>\n",
              "      <td>0.666667</td>\n",
              "      <td>0.809524</td>\n",
              "      <td>0.087805</td>\n",
              "    </tr>\n",
              "    <tr>\n",
              "      <th rowspan=\"2\" valign=\"top\">cc</th>\n",
              "      <th>train</th>\n",
              "      <td>0.725490</td>\n",
              "      <td>0.823529</td>\n",
              "      <td>0.051877</td>\n",
              "    </tr>\n",
              "    <tr>\n",
              "      <th>test</th>\n",
              "      <td>0.666667</td>\n",
              "      <td>0.888889</td>\n",
              "      <td>0.172133</td>\n",
              "    </tr>\n",
              "    <tr>\n",
              "      <th rowspan=\"2\" valign=\"top\">smoteenn</th>\n",
              "      <th>train</th>\n",
              "      <td>0.786295</td>\n",
              "      <td>0.853659</td>\n",
              "      <td>0.046389</td>\n",
              "    </tr>\n",
              "    <tr>\n",
              "      <th>test</th>\n",
              "      <td>0.767857</td>\n",
              "      <td>0.875000</td>\n",
              "      <td>0.104124</td>\n",
              "    </tr>\n",
              "    <tr>\n",
              "      <th rowspan=\"8\" valign=\"top\">RF</th>\n",
              "      <th rowspan=\"2\" valign=\"top\">original</th>\n",
              "      <th>train</th>\n",
              "      <td>0.768235</td>\n",
              "      <td>0.823529</td>\n",
              "      <td>0.040771</td>\n",
              "    </tr>\n",
              "    <tr>\n",
              "      <th>test</th>\n",
              "      <td>0.700000</td>\n",
              "      <td>0.866667</td>\n",
              "      <td>0.123828</td>\n",
              "    </tr>\n",
              "    <tr>\n",
              "      <th rowspan=\"2\" valign=\"top\">smote</th>\n",
              "      <th>train</th>\n",
              "      <td>0.816807</td>\n",
              "      <td>0.865546</td>\n",
              "      <td>0.025709</td>\n",
              "    </tr>\n",
              "    <tr>\n",
              "      <th>test</th>\n",
              "      <td>0.785714</td>\n",
              "      <td>0.904762</td>\n",
              "      <td>0.093435</td>\n",
              "    </tr>\n",
              "    <tr>\n",
              "      <th rowspan=\"2\" valign=\"top\">cc</th>\n",
              "      <th>train</th>\n",
              "      <td>0.823529</td>\n",
              "      <td>0.882353</td>\n",
              "      <td>0.039216</td>\n",
              "    </tr>\n",
              "    <tr>\n",
              "      <th>test</th>\n",
              "      <td>0.711111</td>\n",
              "      <td>1.000000</td>\n",
              "      <td>0.200000</td>\n",
              "    </tr>\n",
              "    <tr>\n",
              "      <th rowspan=\"2\" valign=\"top\">smoteenn</th>\n",
              "      <th>train</th>\n",
              "      <td>0.825029</td>\n",
              "      <td>0.880952</td>\n",
              "      <td>0.043966</td>\n",
              "    </tr>\n",
              "    <tr>\n",
              "      <th>test</th>\n",
              "      <td>0.837500</td>\n",
              "      <td>1.000000</td>\n",
              "      <td>0.095648</td>\n",
              "    </tr>\n",
              "    <tr>\n",
              "      <th rowspan=\"8\" valign=\"top\">NB</th>\n",
              "      <th rowspan=\"2\" valign=\"top\">original</th>\n",
              "      <th>train</th>\n",
              "      <td>0.720000</td>\n",
              "      <td>0.788235</td>\n",
              "      <td>0.045807</td>\n",
              "    </tr>\n",
              "    <tr>\n",
              "      <th>test</th>\n",
              "      <td>0.613333</td>\n",
              "      <td>0.733333</td>\n",
              "      <td>0.106667</td>\n",
              "    </tr>\n",
              "    <tr>\n",
              "      <th rowspan=\"2\" valign=\"top\">smote</th>\n",
              "      <th>train</th>\n",
              "      <td>0.731092</td>\n",
              "      <td>0.773109</td>\n",
              "      <td>0.025210</td>\n",
              "    </tr>\n",
              "    <tr>\n",
              "      <th>test</th>\n",
              "      <td>0.704762</td>\n",
              "      <td>0.857143</td>\n",
              "      <td>0.069985</td>\n",
              "    </tr>\n",
              "    <tr>\n",
              "      <th rowspan=\"2\" valign=\"top\">cc</th>\n",
              "      <th>train</th>\n",
              "      <td>0.713725</td>\n",
              "      <td>0.764706</td>\n",
              "      <td>0.048980</td>\n",
              "    </tr>\n",
              "    <tr>\n",
              "      <th>test</th>\n",
              "      <td>0.700000</td>\n",
              "      <td>0.888889</td>\n",
              "      <td>0.111665</td>\n",
              "    </tr>\n",
              "    <tr>\n",
              "      <th rowspan=\"2\" valign=\"top\">smoteenn</th>\n",
              "      <th>train</th>\n",
              "      <td>0.761672</td>\n",
              "      <td>0.928571</td>\n",
              "      <td>0.080509</td>\n",
              "    </tr>\n",
              "    <tr>\n",
              "      <th>test</th>\n",
              "      <td>0.860714</td>\n",
              "      <td>1.000000</td>\n",
              "      <td>0.178178</td>\n",
              "    </tr>\n",
              "  </tbody>\n",
              "</table>\n",
              "</div>\n",
              "      <button class=\"colab-df-convert\" onclick=\"convertToInteractive('df-17f9e1a3-2158-49bd-bf16-e19749286cfa')\"\n",
              "              title=\"Convert this dataframe to an interactive table.\"\n",
              "              style=\"display:none;\">\n",
              "        \n",
              "  <svg xmlns=\"http://www.w3.org/2000/svg\" height=\"24px\"viewBox=\"0 0 24 24\"\n",
              "       width=\"24px\">\n",
              "    <path d=\"M0 0h24v24H0V0z\" fill=\"none\"/>\n",
              "    <path d=\"M18.56 5.44l.94 2.06.94-2.06 2.06-.94-2.06-.94-.94-2.06-.94 2.06-2.06.94zm-11 1L8.5 8.5l.94-2.06 2.06-.94-2.06-.94L8.5 2.5l-.94 2.06-2.06.94zm10 10l.94 2.06.94-2.06 2.06-.94-2.06-.94-.94-2.06-.94 2.06-2.06.94z\"/><path d=\"M17.41 7.96l-1.37-1.37c-.4-.4-.92-.59-1.43-.59-.52 0-1.04.2-1.43.59L10.3 9.45l-7.72 7.72c-.78.78-.78 2.05 0 2.83L4 21.41c.39.39.9.59 1.41.59.51 0 1.02-.2 1.41-.59l7.78-7.78 2.81-2.81c.8-.78.8-2.07 0-2.86zM5.41 20L4 18.59l7.72-7.72 1.47 1.35L5.41 20z\"/>\n",
              "  </svg>\n",
              "      </button>\n",
              "      \n",
              "  <style>\n",
              "    .colab-df-container {\n",
              "      display:flex;\n",
              "      flex-wrap:wrap;\n",
              "      gap: 12px;\n",
              "    }\n",
              "\n",
              "    .colab-df-convert {\n",
              "      background-color: #E8F0FE;\n",
              "      border: none;\n",
              "      border-radius: 50%;\n",
              "      cursor: pointer;\n",
              "      display: none;\n",
              "      fill: #1967D2;\n",
              "      height: 32px;\n",
              "      padding: 0 0 0 0;\n",
              "      width: 32px;\n",
              "    }\n",
              "\n",
              "    .colab-df-convert:hover {\n",
              "      background-color: #E2EBFA;\n",
              "      box-shadow: 0px 1px 2px rgba(60, 64, 67, 0.3), 0px 1px 3px 1px rgba(60, 64, 67, 0.15);\n",
              "      fill: #174EA6;\n",
              "    }\n",
              "\n",
              "    [theme=dark] .colab-df-convert {\n",
              "      background-color: #3B4455;\n",
              "      fill: #D2E3FC;\n",
              "    }\n",
              "\n",
              "    [theme=dark] .colab-df-convert:hover {\n",
              "      background-color: #434B5C;\n",
              "      box-shadow: 0px 1px 3px 1px rgba(0, 0, 0, 0.15);\n",
              "      filter: drop-shadow(0px 1px 2px rgba(0, 0, 0, 0.3));\n",
              "      fill: #FFFFFF;\n",
              "    }\n",
              "  </style>\n",
              "\n",
              "      <script>\n",
              "        const buttonEl =\n",
              "          document.querySelector('#df-17f9e1a3-2158-49bd-bf16-e19749286cfa button.colab-df-convert');\n",
              "        buttonEl.style.display =\n",
              "          google.colab.kernel.accessAllowed ? 'block' : 'none';\n",
              "\n",
              "        async function convertToInteractive(key) {\n",
              "          const element = document.querySelector('#df-17f9e1a3-2158-49bd-bf16-e19749286cfa');\n",
              "          const dataTable =\n",
              "            await google.colab.kernel.invokeFunction('convertToInteractive',\n",
              "                                                     [key], {});\n",
              "          if (!dataTable) return;\n",
              "\n",
              "          const docLinkHtml = 'Like what you see? Visit the ' +\n",
              "            '<a target=\"_blank\" href=https://colab.research.google.com/notebooks/data_table.ipynb>data table notebook</a>'\n",
              "            + ' to learn more about interactive tables.';\n",
              "          element.innerHTML = '';\n",
              "          dataTable['output_type'] = 'display_data';\n",
              "          await google.colab.output.renderOutput(dataTable, element);\n",
              "          const docLink = document.createElement('div');\n",
              "          docLink.innerHTML = docLinkHtml;\n",
              "          element.appendChild(docLink);\n",
              "        }\n",
              "      </script>\n",
              "    </div>\n",
              "  </div>\n",
              "  "
            ],
            "text/plain": [
              "                         mean       max       std\n",
              "LR   original train  0.742353  0.800000  0.046897\n",
              "              test   0.700000  0.800000  0.074536\n",
              "     smote    train  0.709244  0.756303  0.031262\n",
              "              test   0.738095  0.809524  0.074536\n",
              "     cc       train  0.678431  0.823529  0.075535\n",
              "              test   0.711111  0.888889  0.113312\n",
              "     smoteenn train  0.761672  0.880952  0.054380\n",
              "              test   0.708929  1.000000  0.183164\n",
              "LDA  original train  0.743529  0.811765  0.049300\n",
              "              test   0.700000  0.866667  0.080277\n",
              "     smote    train  0.735294  0.815126  0.048602\n",
              "              test   0.723810  0.809524  0.059476\n",
              "     cc       train  0.672549  0.803922  0.086830\n",
              "              test   0.633333  0.888889  0.186256\n",
              "     smoteenn train  0.778630  0.880952  0.066740\n",
              "              test   0.726786  0.875000  0.131720\n",
              "KNN  original train  0.648235  0.694118  0.035470\n",
              "              test   0.680000  0.866667  0.132665\n",
              "     smote    train  0.642017  0.697479  0.028670\n",
              "              test   0.495238  0.714286  0.126348\n",
              "     cc       train  0.500000  0.568627  0.057668\n",
              "              test   0.433333  0.666667  0.116003\n",
              "     smoteenn train  0.851742  0.926829  0.050917\n",
              "              test   0.519643  0.750000  0.138425\n",
              "CART original train  0.716471  0.800000  0.048063\n",
              "              test   0.720000  0.866667  0.097980\n",
              "     smote    train  0.711765  0.798319  0.042526\n",
              "              test   0.666667  0.809524  0.087805\n",
              "     cc       train  0.725490  0.823529  0.051877\n",
              "              test   0.666667  0.888889  0.172133\n",
              "     smoteenn train  0.786295  0.853659  0.046389\n",
              "              test   0.767857  0.875000  0.104124\n",
              "RF   original train  0.768235  0.823529  0.040771\n",
              "              test   0.700000  0.866667  0.123828\n",
              "     smote    train  0.816807  0.865546  0.025709\n",
              "              test   0.785714  0.904762  0.093435\n",
              "     cc       train  0.823529  0.882353  0.039216\n",
              "              test   0.711111  1.000000  0.200000\n",
              "     smoteenn train  0.825029  0.880952  0.043966\n",
              "              test   0.837500  1.000000  0.095648\n",
              "NB   original train  0.720000  0.788235  0.045807\n",
              "              test   0.613333  0.733333  0.106667\n",
              "     smote    train  0.731092  0.773109  0.025210\n",
              "              test   0.704762  0.857143  0.069985\n",
              "     cc       train  0.713725  0.764706  0.048980\n",
              "              test   0.700000  0.888889  0.111665\n",
              "     smoteenn train  0.761672  0.928571  0.080509\n",
              "              test   0.860714  1.000000  0.178178"
            ]
          },
          "metadata": {},
          "execution_count": 59
        }
      ]
    },
    {
      "cell_type": "markdown",
      "source": [
        "Il semble que l'utilisation de toutes les variables à la fois n'est un choix très pratique, car on peut pas profiter des avantages des méthodes spécifiés à l'un des types de variables ( categ / num ), et donc les résultats vont être diminués en les comparants aux deux parties précédentes.\n",
        "\n",
        "Les méthodes qui peuvent utiliser les deux types de variables ont pu gardé leurs bonnes performances."
      ],
      "metadata": {
        "id": "AjZa0jWXlM1W"
      }
    },
    {
      "cell_type": "code",
      "source": [
        ""
      ],
      "metadata": {
        "id": "BNjLpAp7maPd"
      },
      "execution_count": null,
      "outputs": []
    }
  ]
}