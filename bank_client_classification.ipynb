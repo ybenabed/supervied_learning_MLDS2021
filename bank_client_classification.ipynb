{
  "nbformat": 4,
  "nbformat_minor": 0,
  "metadata": {
    "colab": {
      "name": "bank_client_classification.ipynb",
      "provenance": [],
      "collapsed_sections": [
        "U0E9jzmpDfaO",
        "V9KlDcMLDirL",
        "eFuYv0m5ih66",
        "P0qEhilpifIr",
        "L5ukoATTikt0",
        "SJpB_y2FWmTX",
        "PeDz2wtZWnC5"
      ],
      "include_colab_link": true
    },
    "kernelspec": {
      "name": "python3",
      "display_name": "Python 3"
    },
    "language_info": {
      "name": "python"
    }
  },
  "cells": [
    {
      "cell_type": "markdown",
      "metadata": {
        "id": "view-in-github",
        "colab_type": "text"
      },
      "source": [
        "<a href=\"https://colab.research.google.com/github/ybenabed/supervied_learning_MLDS2021/blob/main/bank_client_classification.ipynb\" target=\"_parent\"><img src=\"https://colab.research.google.com/assets/colab-badge.svg\" alt=\"Open In Colab\"/></a>"
      ]
    },
    {
      "cell_type": "code",
      "source": [
        "pip install imbalanced-learn"
      ],
      "metadata": {
        "id": "gWeH1AZ01csf"
      },
      "execution_count": null,
      "outputs": []
    },
    {
      "cell_type": "markdown",
      "metadata": {
        "id": "U0E9jzmpDfaO"
      },
      "source": [
        "## Chagement de donnees"
      ]
    },
    {
      "cell_type": "code",
      "metadata": {
        "id": "t6HSjdHJ8SL-"
      },
      "source": [
        "import pandas as pd\n",
        "import matplotlib.pyplot as plt\n",
        "import numpy as np"
      ],
      "execution_count": null,
      "outputs": []
    },
    {
      "cell_type": "code",
      "metadata": {
        "id": "n4rKcA7A8o2O"
      },
      "source": [
        "bank_df = pd.read_csv(\"https://raw.githubusercontent.com/jbrownlee/Datasets/master/german.csv\", names=[\"status_cce\",\n",
        "\"duree_mois\",\n",
        "\"hist_credit\",\n",
        "\"obj\",\n",
        "\"montant_credit\",\n",
        "\"compte_epargne\",\n",
        "\"emplois_depuis\",\n",
        "\"taux_vers_revenu\",\n",
        "\"status_sexe\",\n",
        "\"autres_debits\",\n",
        "\"residence_depuis\",\n",
        "\"prop\",\n",
        "\"age\",\n",
        "\"plans_vers\",\n",
        "\"log\",\n",
        "\"nbr_credits\",\n",
        "\"travail\",\n",
        "\"nbr_per_charge\",\n",
        "\"tel\",\n",
        "\"trav_etranger\",\"label\"],\n",
        "index_col=False)"
      ],
      "execution_count": null,
      "outputs": []
    },
    {
      "cell_type": "code",
      "metadata": {
        "colab": {
          "base_uri": "https://localhost:8080/"
        },
        "id": "UkaPC0px8syG",
        "outputId": "4e9a2823-dbd5-47f4-f347-f6a9f741a45e"
      },
      "source": [
        "bank_df.head()"
      ],
      "execution_count": null,
      "outputs": [
        {
          "output_type": "execute_result",
          "data": {
            "text/html": [
              "\n",
              "  <div id=\"df-a65287e8-c35d-43e3-89bb-9cd835f01ca1\">\n",
              "    <div class=\"colab-df-container\">\n",
              "      <div>\n",
              "<style scoped>\n",
              "    .dataframe tbody tr th:only-of-type {\n",
              "        vertical-align: middle;\n",
              "    }\n",
              "\n",
              "    .dataframe tbody tr th {\n",
              "        vertical-align: top;\n",
              "    }\n",
              "\n",
              "    .dataframe thead th {\n",
              "        text-align: right;\n",
              "    }\n",
              "</style>\n",
              "<table border=\"1\" class=\"dataframe\">\n",
              "  <thead>\n",
              "    <tr style=\"text-align: right;\">\n",
              "      <th></th>\n",
              "      <th>status_cce</th>\n",
              "      <th>duree_mois</th>\n",
              "      <th>hist_credit</th>\n",
              "      <th>obj</th>\n",
              "      <th>montant_credit</th>\n",
              "      <th>compte_epargne</th>\n",
              "      <th>emplois_depuis</th>\n",
              "      <th>taux_vers_revenu</th>\n",
              "      <th>status_sexe</th>\n",
              "      <th>autres_debits</th>\n",
              "      <th>residence_depuis</th>\n",
              "      <th>prop</th>\n",
              "      <th>age</th>\n",
              "      <th>plans_vers</th>\n",
              "      <th>log</th>\n",
              "      <th>nbr_credits</th>\n",
              "      <th>travail</th>\n",
              "      <th>nbr_per_charge</th>\n",
              "      <th>tel</th>\n",
              "      <th>trav_etranger</th>\n",
              "      <th>label</th>\n",
              "    </tr>\n",
              "  </thead>\n",
              "  <tbody>\n",
              "    <tr>\n",
              "      <th>0</th>\n",
              "      <td>A11</td>\n",
              "      <td>6</td>\n",
              "      <td>A34</td>\n",
              "      <td>A43</td>\n",
              "      <td>1169</td>\n",
              "      <td>A65</td>\n",
              "      <td>A75</td>\n",
              "      <td>4</td>\n",
              "      <td>A93</td>\n",
              "      <td>A101</td>\n",
              "      <td>4</td>\n",
              "      <td>A121</td>\n",
              "      <td>67</td>\n",
              "      <td>A143</td>\n",
              "      <td>A152</td>\n",
              "      <td>2</td>\n",
              "      <td>A173</td>\n",
              "      <td>1</td>\n",
              "      <td>A192</td>\n",
              "      <td>A201</td>\n",
              "      <td>1</td>\n",
              "    </tr>\n",
              "    <tr>\n",
              "      <th>1</th>\n",
              "      <td>A12</td>\n",
              "      <td>48</td>\n",
              "      <td>A32</td>\n",
              "      <td>A43</td>\n",
              "      <td>5951</td>\n",
              "      <td>A61</td>\n",
              "      <td>A73</td>\n",
              "      <td>2</td>\n",
              "      <td>A92</td>\n",
              "      <td>A101</td>\n",
              "      <td>2</td>\n",
              "      <td>A121</td>\n",
              "      <td>22</td>\n",
              "      <td>A143</td>\n",
              "      <td>A152</td>\n",
              "      <td>1</td>\n",
              "      <td>A173</td>\n",
              "      <td>1</td>\n",
              "      <td>A191</td>\n",
              "      <td>A201</td>\n",
              "      <td>2</td>\n",
              "    </tr>\n",
              "    <tr>\n",
              "      <th>2</th>\n",
              "      <td>A14</td>\n",
              "      <td>12</td>\n",
              "      <td>A34</td>\n",
              "      <td>A46</td>\n",
              "      <td>2096</td>\n",
              "      <td>A61</td>\n",
              "      <td>A74</td>\n",
              "      <td>2</td>\n",
              "      <td>A93</td>\n",
              "      <td>A101</td>\n",
              "      <td>3</td>\n",
              "      <td>A121</td>\n",
              "      <td>49</td>\n",
              "      <td>A143</td>\n",
              "      <td>A152</td>\n",
              "      <td>1</td>\n",
              "      <td>A172</td>\n",
              "      <td>2</td>\n",
              "      <td>A191</td>\n",
              "      <td>A201</td>\n",
              "      <td>1</td>\n",
              "    </tr>\n",
              "    <tr>\n",
              "      <th>3</th>\n",
              "      <td>A11</td>\n",
              "      <td>42</td>\n",
              "      <td>A32</td>\n",
              "      <td>A42</td>\n",
              "      <td>7882</td>\n",
              "      <td>A61</td>\n",
              "      <td>A74</td>\n",
              "      <td>2</td>\n",
              "      <td>A93</td>\n",
              "      <td>A103</td>\n",
              "      <td>4</td>\n",
              "      <td>A122</td>\n",
              "      <td>45</td>\n",
              "      <td>A143</td>\n",
              "      <td>A153</td>\n",
              "      <td>1</td>\n",
              "      <td>A173</td>\n",
              "      <td>2</td>\n",
              "      <td>A191</td>\n",
              "      <td>A201</td>\n",
              "      <td>1</td>\n",
              "    </tr>\n",
              "    <tr>\n",
              "      <th>4</th>\n",
              "      <td>A11</td>\n",
              "      <td>24</td>\n",
              "      <td>A33</td>\n",
              "      <td>A40</td>\n",
              "      <td>4870</td>\n",
              "      <td>A61</td>\n",
              "      <td>A73</td>\n",
              "      <td>3</td>\n",
              "      <td>A93</td>\n",
              "      <td>A101</td>\n",
              "      <td>4</td>\n",
              "      <td>A124</td>\n",
              "      <td>53</td>\n",
              "      <td>A143</td>\n",
              "      <td>A153</td>\n",
              "      <td>2</td>\n",
              "      <td>A173</td>\n",
              "      <td>2</td>\n",
              "      <td>A191</td>\n",
              "      <td>A201</td>\n",
              "      <td>2</td>\n",
              "    </tr>\n",
              "  </tbody>\n",
              "</table>\n",
              "</div>\n",
              "      <button class=\"colab-df-convert\" onclick=\"convertToInteractive('df-a65287e8-c35d-43e3-89bb-9cd835f01ca1')\"\n",
              "              title=\"Convert this dataframe to an interactive table.\"\n",
              "              style=\"display:none;\">\n",
              "        \n",
              "  <svg xmlns=\"http://www.w3.org/2000/svg\" height=\"24px\"viewBox=\"0 0 24 24\"\n",
              "       width=\"24px\">\n",
              "    <path d=\"M0 0h24v24H0V0z\" fill=\"none\"/>\n",
              "    <path d=\"M18.56 5.44l.94 2.06.94-2.06 2.06-.94-2.06-.94-.94-2.06-.94 2.06-2.06.94zm-11 1L8.5 8.5l.94-2.06 2.06-.94-2.06-.94L8.5 2.5l-.94 2.06-2.06.94zm10 10l.94 2.06.94-2.06 2.06-.94-2.06-.94-.94-2.06-.94 2.06-2.06.94z\"/><path d=\"M17.41 7.96l-1.37-1.37c-.4-.4-.92-.59-1.43-.59-.52 0-1.04.2-1.43.59L10.3 9.45l-7.72 7.72c-.78.78-.78 2.05 0 2.83L4 21.41c.39.39.9.59 1.41.59.51 0 1.02-.2 1.41-.59l7.78-7.78 2.81-2.81c.8-.78.8-2.07 0-2.86zM5.41 20L4 18.59l7.72-7.72 1.47 1.35L5.41 20z\"/>\n",
              "  </svg>\n",
              "      </button>\n",
              "      \n",
              "  <style>\n",
              "    .colab-df-container {\n",
              "      display:flex;\n",
              "      flex-wrap:wrap;\n",
              "      gap: 12px;\n",
              "    }\n",
              "\n",
              "    .colab-df-convert {\n",
              "      background-color: #E8F0FE;\n",
              "      border: none;\n",
              "      border-radius: 50%;\n",
              "      cursor: pointer;\n",
              "      display: none;\n",
              "      fill: #1967D2;\n",
              "      height: 32px;\n",
              "      padding: 0 0 0 0;\n",
              "      width: 32px;\n",
              "    }\n",
              "\n",
              "    .colab-df-convert:hover {\n",
              "      background-color: #E2EBFA;\n",
              "      box-shadow: 0px 1px 2px rgba(60, 64, 67, 0.3), 0px 1px 3px 1px rgba(60, 64, 67, 0.15);\n",
              "      fill: #174EA6;\n",
              "    }\n",
              "\n",
              "    [theme=dark] .colab-df-convert {\n",
              "      background-color: #3B4455;\n",
              "      fill: #D2E3FC;\n",
              "    }\n",
              "\n",
              "    [theme=dark] .colab-df-convert:hover {\n",
              "      background-color: #434B5C;\n",
              "      box-shadow: 0px 1px 3px 1px rgba(0, 0, 0, 0.15);\n",
              "      filter: drop-shadow(0px 1px 2px rgba(0, 0, 0, 0.3));\n",
              "      fill: #FFFFFF;\n",
              "    }\n",
              "  </style>\n",
              "\n",
              "      <script>\n",
              "        const buttonEl =\n",
              "          document.querySelector('#df-a65287e8-c35d-43e3-89bb-9cd835f01ca1 button.colab-df-convert');\n",
              "        buttonEl.style.display =\n",
              "          google.colab.kernel.accessAllowed ? 'block' : 'none';\n",
              "\n",
              "        async function convertToInteractive(key) {\n",
              "          const element = document.querySelector('#df-a65287e8-c35d-43e3-89bb-9cd835f01ca1');\n",
              "          const dataTable =\n",
              "            await google.colab.kernel.invokeFunction('convertToInteractive',\n",
              "                                                     [key], {});\n",
              "          if (!dataTable) return;\n",
              "\n",
              "          const docLinkHtml = 'Like what you see? Visit the ' +\n",
              "            '<a target=\"_blank\" href=https://colab.research.google.com/notebooks/data_table.ipynb>data table notebook</a>'\n",
              "            + ' to learn more about interactive tables.';\n",
              "          element.innerHTML = '';\n",
              "          dataTable['output_type'] = 'display_data';\n",
              "          await google.colab.output.renderOutput(dataTable, element);\n",
              "          const docLink = document.createElement('div');\n",
              "          docLink.innerHTML = docLinkHtml;\n",
              "          element.appendChild(docLink);\n",
              "        }\n",
              "      </script>\n",
              "    </div>\n",
              "  </div>\n",
              "  "
            ],
            "text/plain": [
              "  status_cce  duree_mois hist_credit  ...   tel  trav_etranger label\n",
              "0        A11           6         A34  ...  A192           A201     1\n",
              "1        A12          48         A32  ...  A191           A201     2\n",
              "2        A14          12         A34  ...  A191           A201     1\n",
              "3        A11          42         A32  ...  A191           A201     1\n",
              "4        A11          24         A33  ...  A191           A201     2\n",
              "\n",
              "[5 rows x 21 columns]"
            ]
          },
          "metadata": {},
          "execution_count": 5
        }
      ]
    },
    {
      "cell_type": "code",
      "metadata": {
        "colab": {
          "base_uri": "https://localhost:8080/"
        },
        "id": "1bcSVTa48t8n",
        "outputId": "1cfa317e-8232-4ed3-9beb-cb6ba408e885"
      },
      "source": [
        "bank_df.shape"
      ],
      "execution_count": null,
      "outputs": [
        {
          "output_type": "execute_result",
          "data": {
            "text/plain": [
              "(1000, 21)"
            ]
          },
          "metadata": {},
          "execution_count": 6
        }
      ]
    },
    {
      "cell_type": "markdown",
      "source": [
        "Cet ensemble de données comprend 1000 exemples et 20 variables, avec une variable supplémentaire \"label\" indiquant la classe correspondante à chaque individu.\n",
        "\n",
        "En visualisant le nombre de valeurs nulles qui existent dans chacune des collones, on remarque que ce jeux de données ne contient aucune valeur nulle qui peut affecter l'apprentissage."
      ],
      "metadata": {
        "id": "VsWKi8Dcv9sW"
      }
    },
    {
      "cell_type": "code",
      "metadata": {
        "colab": {
          "base_uri": "https://localhost:8080/"
        },
        "id": "Kb0SM1XtIfmC",
        "outputId": "47c41e9d-1c71-42ac-c09c-8c74df227032"
      },
      "source": [
        "bank_df.isnull().sum()"
      ],
      "execution_count": null,
      "outputs": [
        {
          "output_type": "execute_result",
          "data": {
            "text/plain": [
              "status_cce          0\n",
              "duree_mois          0\n",
              "hist_credit         0\n",
              "obj                 0\n",
              "montant_credit      0\n",
              "compte_epargne      0\n",
              "emplois_depuis      0\n",
              "taux_vers_revenu    0\n",
              "status_sexe         0\n",
              "autres_debits       0\n",
              "residence_depuis    0\n",
              "prop                0\n",
              "age                 0\n",
              "plans_vers          0\n",
              "log                 0\n",
              "nbr_credits         0\n",
              "travail             0\n",
              "nbr_per_charge      0\n",
              "tel                 0\n",
              "trav_etranger       0\n",
              "label               0\n",
              "dtype: int64"
            ]
          },
          "metadata": {},
          "execution_count": 7
        }
      ]
    },
    {
      "cell_type": "markdown",
      "metadata": {
        "id": "V9KlDcMLDirL"
      },
      "source": [
        "## Analyse Exploratoire"
      ]
    },
    {
      "cell_type": "code",
      "metadata": {
        "colab": {
          "base_uri": "https://localhost:8080/"
        },
        "id": "Cyn_ufG5qpPW",
        "outputId": "8e5a6c3f-d2c3-43cf-84ea-6aa67b721a48"
      },
      "source": [
        "bank_df.info()"
      ],
      "execution_count": null,
      "outputs": [
        {
          "output_type": "stream",
          "name": "stdout",
          "text": [
            "<class 'pandas.core.frame.DataFrame'>\n",
            "RangeIndex: 1000 entries, 0 to 999\n",
            "Data columns (total 21 columns):\n",
            " #   Column            Non-Null Count  Dtype \n",
            "---  ------            --------------  ----- \n",
            " 0   status_cce        1000 non-null   object\n",
            " 1   duree_mois        1000 non-null   int64 \n",
            " 2   hist_credit       1000 non-null   object\n",
            " 3   obj               1000 non-null   object\n",
            " 4   montant_credit    1000 non-null   int64 \n",
            " 5   compte_epargne    1000 non-null   object\n",
            " 6   emplois_depuis    1000 non-null   object\n",
            " 7   taux_vers_revenu  1000 non-null   int64 \n",
            " 8   status_sexe       1000 non-null   object\n",
            " 9   autres_debits     1000 non-null   object\n",
            " 10  residence_depuis  1000 non-null   int64 \n",
            " 11  prop              1000 non-null   object\n",
            " 12  age               1000 non-null   int64 \n",
            " 13  plans_vers        1000 non-null   object\n",
            " 14  log               1000 non-null   object\n",
            " 15  nbr_credits       1000 non-null   int64 \n",
            " 16  travail           1000 non-null   object\n",
            " 17  nbr_per_charge    1000 non-null   int64 \n",
            " 18  tel               1000 non-null   object\n",
            " 19  trav_etranger     1000 non-null   object\n",
            " 20  label             1000 non-null   int64 \n",
            "dtypes: int64(8), object(13)\n",
            "memory usage: 164.2+ KB\n"
          ]
        }
      ]
    },
    {
      "cell_type": "markdown",
      "source": [
        "### Analyse de quelques varaibles numerique particulieres"
      ],
      "metadata": {
        "id": "lwBnDvgCauP1"
      }
    },
    {
      "cell_type": "markdown",
      "source": [
        "#### Taux vers revenu"
      ],
      "metadata": {
        "id": "oF8cKsBKa6XR"
      }
    },
    {
      "cell_type": "code",
      "source": [
        "bank_df['taux_vers_revenu'].unique()"
      ],
      "metadata": {
        "colab": {
          "base_uri": "https://localhost:8080/"
        },
        "id": "d58TVSniZNvn",
        "outputId": "0d08f49f-27cc-4902-c4d0-89195a5887bd"
      },
      "execution_count": null,
      "outputs": [
        {
          "output_type": "execute_result",
          "data": {
            "text/plain": [
              "array([4, 2, 3, 1])"
            ]
          },
          "metadata": {},
          "execution_count": 9
        }
      ]
    },
    {
      "cell_type": "markdown",
      "source": [
        "La variable taux vers revenu: Taux de versement en pourcentage du revenu disponible. Elle ne contient que 4 valeurs distinctes pour tous les individus. On la considère comme une variable qualitative."
      ],
      "metadata": {
        "id": "n1mOmis-ZRMG"
      }
    },
    {
      "cell_type": "markdown",
      "source": [
        "#### Duree Mois"
      ],
      "metadata": {
        "id": "qgq0TPq6a-QN"
      }
    },
    {
      "cell_type": "code",
      "source": [
        "bank_df[\"duree_mois\"].value_counts()"
      ],
      "metadata": {
        "colab": {
          "base_uri": "https://localhost:8080/"
        },
        "id": "sTZTVjE4Zd3o",
        "outputId": "734cfbca-b251-4aa2-ec60-9d953e75b03a"
      },
      "execution_count": null,
      "outputs": [
        {
          "output_type": "execute_result",
          "data": {
            "text/plain": [
              "24    184\n",
              "12    179\n",
              "18    113\n",
              "36     83\n",
              "6      75\n",
              "15     64\n",
              "9      49\n",
              "48     48\n",
              "30     40\n",
              "21     30\n",
              "10     28\n",
              "60     13\n",
              "27     13\n",
              "42     11\n",
              "11      9\n",
              "20      8\n",
              "8       7\n",
              "4       6\n",
              "45      5\n",
              "7       5\n",
              "39      5\n",
              "14      4\n",
              "13      4\n",
              "33      3\n",
              "28      3\n",
              "54      2\n",
              "16      2\n",
              "22      2\n",
              "47      1\n",
              "5       1\n",
              "26      1\n",
              "72      1\n",
              "40      1\n",
              "Name: duree_mois, dtype: int64"
            ]
          },
          "metadata": {},
          "execution_count": 10
        }
      ]
    },
    {
      "cell_type": "code",
      "source": [
        "bank_df[\"duree_mois\"].describe()"
      ],
      "metadata": {
        "colab": {
          "base_uri": "https://localhost:8080/"
        },
        "id": "CBQebPmhZuv3",
        "outputId": "7fed70cb-f5e0-439b-92eb-9f510c4d65ad"
      },
      "execution_count": null,
      "outputs": [
        {
          "output_type": "execute_result",
          "data": {
            "text/plain": [
              "count    1000.000000\n",
              "mean       20.903000\n",
              "std        12.058814\n",
              "min         4.000000\n",
              "25%        12.000000\n",
              "50%        18.000000\n",
              "75%        24.000000\n",
              "max        72.000000\n",
              "Name: duree_mois, dtype: float64"
            ]
          },
          "metadata": {},
          "execution_count": 11
        }
      ]
    },
    {
      "cell_type": "markdown",
      "source": [
        "On peut transformer la variable duree_mois en une variable categorique en utiltisant des intervalles de coupures, les quartiles par exemple."
      ],
      "metadata": {
        "id": "PmuK1x8cZhVm"
      }
    },
    {
      "cell_type": "markdown",
      "source": [
        "#### Residence depuis"
      ],
      "metadata": {
        "id": "qZNvBIiTbAK9"
      }
    },
    {
      "cell_type": "code",
      "source": [
        "bank_df[\"residence_depuis\"].describe()"
      ],
      "metadata": {
        "colab": {
          "base_uri": "https://localhost:8080/"
        },
        "id": "0W8AVGYHZthl",
        "outputId": "8fdc7f36-9e49-4dae-f8ec-021bc7fea446"
      },
      "execution_count": null,
      "outputs": [
        {
          "output_type": "execute_result",
          "data": {
            "text/plain": [
              "count    1000.000000\n",
              "mean        2.845000\n",
              "std         1.103718\n",
              "min         1.000000\n",
              "25%         2.000000\n",
              "50%         3.000000\n",
              "75%         4.000000\n",
              "max         4.000000\n",
              "Name: residence_depuis, dtype: float64"
            ]
          },
          "metadata": {},
          "execution_count": 12
        }
      ]
    },
    {
      "cell_type": "code",
      "source": [
        "bank_df[\"residence_depuis\"].value_counts()"
      ],
      "metadata": {
        "colab": {
          "base_uri": "https://localhost:8080/"
        },
        "id": "eZRapIsTbQdl",
        "outputId": "1e9228e0-914c-4c8e-ef9f-fe12d1883a4d"
      },
      "execution_count": null,
      "outputs": [
        {
          "output_type": "execute_result",
          "data": {
            "text/plain": [
              "4    413\n",
              "2    308\n",
              "3    149\n",
              "1    130\n",
              "Name: residence_depuis, dtype: int64"
            ]
          },
          "metadata": {},
          "execution_count": 13
        }
      ]
    },
    {
      "cell_type": "markdown",
      "source": [
        "La variable residence_depuis ne contient que 4 valeurs distinctes pour tous les individus. On la considère une variable qualitative."
      ],
      "metadata": {
        "id": "dXqdvxIXbWie"
      }
    },
    {
      "cell_type": "markdown",
      "source": [
        "#### Age"
      ],
      "metadata": {
        "id": "B7sx5VKlbnCd"
      }
    },
    {
      "cell_type": "code",
      "source": [
        "bank_df[\"age\"].describe()"
      ],
      "metadata": {
        "colab": {
          "base_uri": "https://localhost:8080/"
        },
        "id": "wp68Kz0dbmW-",
        "outputId": "77e8cd17-a2aa-40df-d120-3de6cc1ff6f7"
      },
      "execution_count": null,
      "outputs": [
        {
          "output_type": "execute_result",
          "data": {
            "text/plain": [
              "count    1000.000000\n",
              "mean       35.546000\n",
              "std        11.375469\n",
              "min        19.000000\n",
              "25%        27.000000\n",
              "50%        33.000000\n",
              "75%        42.000000\n",
              "max        75.000000\n",
              "Name: age, dtype: float64"
            ]
          },
          "metadata": {},
          "execution_count": 14
        }
      ]
    },
    {
      "cell_type": "code",
      "source": [
        "bank_df[\"age\"].unique()"
      ],
      "metadata": {
        "colab": {
          "base_uri": "https://localhost:8080/"
        },
        "id": "CBuRthhabxac",
        "outputId": "9e711419-ea97-458d-daeb-d25e107d2009"
      },
      "execution_count": null,
      "outputs": [
        {
          "output_type": "execute_result",
          "data": {
            "text/plain": [
              "array([67, 22, 49, 45, 53, 35, 61, 28, 25, 24, 60, 32, 44, 31, 48, 26, 36,\n",
              "       39, 42, 34, 63, 27, 30, 57, 33, 37, 58, 23, 29, 52, 50, 46, 51, 41,\n",
              "       40, 66, 47, 56, 54, 20, 21, 38, 70, 65, 74, 68, 43, 55, 64, 75, 19,\n",
              "       62, 59])"
            ]
          },
          "metadata": {},
          "execution_count": 15
        }
      ]
    },
    {
      "cell_type": "markdown",
      "source": [
        "#### Nombre de credit"
      ],
      "metadata": {
        "id": "5f3ye1TxcChW"
      }
    },
    {
      "cell_type": "code",
      "source": [
        "bank_df[\"nbr_credits\"].unique()"
      ],
      "metadata": {
        "colab": {
          "base_uri": "https://localhost:8080/"
        },
        "id": "f82O1f7PcE3k",
        "outputId": "982e12fd-2146-4cf8-e294-cc440262aff8"
      },
      "execution_count": null,
      "outputs": [
        {
          "output_type": "execute_result",
          "data": {
            "text/plain": [
              "array([2, 1, 3, 4])"
            ]
          },
          "metadata": {},
          "execution_count": 16
        }
      ]
    },
    {
      "cell_type": "code",
      "source": [
        "bank_df[\"nbr_credits\"].value_counts()"
      ],
      "metadata": {
        "colab": {
          "base_uri": "https://localhost:8080/"
        },
        "id": "mp6MqAjccG-V",
        "outputId": "4c56c749-504b-4564-de80-73343ed42749"
      },
      "execution_count": null,
      "outputs": [
        {
          "output_type": "execute_result",
          "data": {
            "text/plain": [
              "1    633\n",
              "2    333\n",
              "3     28\n",
              "4      6\n",
              "Name: nbr_credits, dtype: int64"
            ]
          },
          "metadata": {},
          "execution_count": 17
        }
      ]
    },
    {
      "cell_type": "markdown",
      "source": [
        "La variable nbr_credits: \"Nombre de credits\" ne contient que 4 valeurs distinctes pour tous les individus. On la considère une variable qualitative."
      ],
      "metadata": {
        "id": "a2VdajBBcKx0"
      }
    },
    {
      "cell_type": "markdown",
      "source": [
        "#### Nombre de personnes en charge"
      ],
      "metadata": {
        "id": "3DgiSCK_cQpj"
      }
    },
    {
      "cell_type": "code",
      "source": [
        "bank_df[\"nbr_per_charge\"].unique()"
      ],
      "metadata": {
        "colab": {
          "base_uri": "https://localhost:8080/"
        },
        "id": "ivqs42IXcVNc",
        "outputId": "be5bb973-e01a-4c2e-c464-1e94d7b92032"
      },
      "execution_count": null,
      "outputs": [
        {
          "output_type": "execute_result",
          "data": {
            "text/plain": [
              "array([1, 2])"
            ]
          },
          "metadata": {},
          "execution_count": 18
        }
      ]
    },
    {
      "cell_type": "code",
      "source": [
        "bank_df[\"nbr_per_charge\"].value_counts()"
      ],
      "metadata": {
        "colab": {
          "base_uri": "https://localhost:8080/"
        },
        "id": "SzJHghA8cYL0",
        "outputId": "1e754c18-8693-4cd3-d29e-226e2a4d535b"
      },
      "execution_count": null,
      "outputs": [
        {
          "output_type": "execute_result",
          "data": {
            "text/plain": [
              "1    845\n",
              "2    155\n",
              "Name: nbr_per_charge, dtype: int64"
            ]
          },
          "metadata": {},
          "execution_count": 19
        }
      ]
    },
    {
      "cell_type": "markdown",
      "source": [
        "La variable nbr_per_charge: \"Nombre de personnes\" ne contient que 2 valeurs distinctes pour tous les individus. On la considère une variable qualitative."
      ],
      "metadata": {
        "id": "gjpiJ4EQccME"
      }
    },
    {
      "cell_type": "markdown",
      "source": [
        "#### Description sur les variables quantatives"
      ],
      "metadata": {
        "id": "XIAtsVeRz5PJ"
      }
    },
    {
      "cell_type": "code",
      "source": [
        "bank_numerical_variable = ['duree_mois', 'montant_credit', 'age', 'nbr_credits']\n",
        "bank_df[bank_numerical_variable].describe()"
      ],
      "metadata": {
        "colab": {
          "base_uri": "https://localhost:8080/"
        },
        "id": "IBWkiHRhYs_Z",
        "outputId": "c6652e8b-f139-4119-b522-86edd36f0fbc"
      },
      "execution_count": null,
      "outputs": [
        {
          "output_type": "execute_result",
          "data": {
            "text/html": [
              "\n",
              "  <div id=\"df-caeee8af-462f-4965-b7c9-0fec4a21ccd3\">\n",
              "    <div class=\"colab-df-container\">\n",
              "      <div>\n",
              "<style scoped>\n",
              "    .dataframe tbody tr th:only-of-type {\n",
              "        vertical-align: middle;\n",
              "    }\n",
              "\n",
              "    .dataframe tbody tr th {\n",
              "        vertical-align: top;\n",
              "    }\n",
              "\n",
              "    .dataframe thead th {\n",
              "        text-align: right;\n",
              "    }\n",
              "</style>\n",
              "<table border=\"1\" class=\"dataframe\">\n",
              "  <thead>\n",
              "    <tr style=\"text-align: right;\">\n",
              "      <th></th>\n",
              "      <th>duree_mois</th>\n",
              "      <th>montant_credit</th>\n",
              "      <th>age</th>\n",
              "      <th>nbr_credits</th>\n",
              "    </tr>\n",
              "  </thead>\n",
              "  <tbody>\n",
              "    <tr>\n",
              "      <th>count</th>\n",
              "      <td>1000.000000</td>\n",
              "      <td>1000.000000</td>\n",
              "      <td>1000.000000</td>\n",
              "      <td>1000.000000</td>\n",
              "    </tr>\n",
              "    <tr>\n",
              "      <th>mean</th>\n",
              "      <td>20.903000</td>\n",
              "      <td>3271.258000</td>\n",
              "      <td>35.546000</td>\n",
              "      <td>1.407000</td>\n",
              "    </tr>\n",
              "    <tr>\n",
              "      <th>std</th>\n",
              "      <td>12.058814</td>\n",
              "      <td>2822.736876</td>\n",
              "      <td>11.375469</td>\n",
              "      <td>0.577654</td>\n",
              "    </tr>\n",
              "    <tr>\n",
              "      <th>min</th>\n",
              "      <td>4.000000</td>\n",
              "      <td>250.000000</td>\n",
              "      <td>19.000000</td>\n",
              "      <td>1.000000</td>\n",
              "    </tr>\n",
              "    <tr>\n",
              "      <th>25%</th>\n",
              "      <td>12.000000</td>\n",
              "      <td>1365.500000</td>\n",
              "      <td>27.000000</td>\n",
              "      <td>1.000000</td>\n",
              "    </tr>\n",
              "    <tr>\n",
              "      <th>50%</th>\n",
              "      <td>18.000000</td>\n",
              "      <td>2319.500000</td>\n",
              "      <td>33.000000</td>\n",
              "      <td>1.000000</td>\n",
              "    </tr>\n",
              "    <tr>\n",
              "      <th>75%</th>\n",
              "      <td>24.000000</td>\n",
              "      <td>3972.250000</td>\n",
              "      <td>42.000000</td>\n",
              "      <td>2.000000</td>\n",
              "    </tr>\n",
              "    <tr>\n",
              "      <th>max</th>\n",
              "      <td>72.000000</td>\n",
              "      <td>18424.000000</td>\n",
              "      <td>75.000000</td>\n",
              "      <td>4.000000</td>\n",
              "    </tr>\n",
              "  </tbody>\n",
              "</table>\n",
              "</div>\n",
              "      <button class=\"colab-df-convert\" onclick=\"convertToInteractive('df-caeee8af-462f-4965-b7c9-0fec4a21ccd3')\"\n",
              "              title=\"Convert this dataframe to an interactive table.\"\n",
              "              style=\"display:none;\">\n",
              "        \n",
              "  <svg xmlns=\"http://www.w3.org/2000/svg\" height=\"24px\"viewBox=\"0 0 24 24\"\n",
              "       width=\"24px\">\n",
              "    <path d=\"M0 0h24v24H0V0z\" fill=\"none\"/>\n",
              "    <path d=\"M18.56 5.44l.94 2.06.94-2.06 2.06-.94-2.06-.94-.94-2.06-.94 2.06-2.06.94zm-11 1L8.5 8.5l.94-2.06 2.06-.94-2.06-.94L8.5 2.5l-.94 2.06-2.06.94zm10 10l.94 2.06.94-2.06 2.06-.94-2.06-.94-.94-2.06-.94 2.06-2.06.94z\"/><path d=\"M17.41 7.96l-1.37-1.37c-.4-.4-.92-.59-1.43-.59-.52 0-1.04.2-1.43.59L10.3 9.45l-7.72 7.72c-.78.78-.78 2.05 0 2.83L4 21.41c.39.39.9.59 1.41.59.51 0 1.02-.2 1.41-.59l7.78-7.78 2.81-2.81c.8-.78.8-2.07 0-2.86zM5.41 20L4 18.59l7.72-7.72 1.47 1.35L5.41 20z\"/>\n",
              "  </svg>\n",
              "      </button>\n",
              "      \n",
              "  <style>\n",
              "    .colab-df-container {\n",
              "      display:flex;\n",
              "      flex-wrap:wrap;\n",
              "      gap: 12px;\n",
              "    }\n",
              "\n",
              "    .colab-df-convert {\n",
              "      background-color: #E8F0FE;\n",
              "      border: none;\n",
              "      border-radius: 50%;\n",
              "      cursor: pointer;\n",
              "      display: none;\n",
              "      fill: #1967D2;\n",
              "      height: 32px;\n",
              "      padding: 0 0 0 0;\n",
              "      width: 32px;\n",
              "    }\n",
              "\n",
              "    .colab-df-convert:hover {\n",
              "      background-color: #E2EBFA;\n",
              "      box-shadow: 0px 1px 2px rgba(60, 64, 67, 0.3), 0px 1px 3px 1px rgba(60, 64, 67, 0.15);\n",
              "      fill: #174EA6;\n",
              "    }\n",
              "\n",
              "    [theme=dark] .colab-df-convert {\n",
              "      background-color: #3B4455;\n",
              "      fill: #D2E3FC;\n",
              "    }\n",
              "\n",
              "    [theme=dark] .colab-df-convert:hover {\n",
              "      background-color: #434B5C;\n",
              "      box-shadow: 0px 1px 3px 1px rgba(0, 0, 0, 0.15);\n",
              "      filter: drop-shadow(0px 1px 2px rgba(0, 0, 0, 0.3));\n",
              "      fill: #FFFFFF;\n",
              "    }\n",
              "  </style>\n",
              "\n",
              "      <script>\n",
              "        const buttonEl =\n",
              "          document.querySelector('#df-caeee8af-462f-4965-b7c9-0fec4a21ccd3 button.colab-df-convert');\n",
              "        buttonEl.style.display =\n",
              "          google.colab.kernel.accessAllowed ? 'block' : 'none';\n",
              "\n",
              "        async function convertToInteractive(key) {\n",
              "          const element = document.querySelector('#df-caeee8af-462f-4965-b7c9-0fec4a21ccd3');\n",
              "          const dataTable =\n",
              "            await google.colab.kernel.invokeFunction('convertToInteractive',\n",
              "                                                     [key], {});\n",
              "          if (!dataTable) return;\n",
              "\n",
              "          const docLinkHtml = 'Like what you see? Visit the ' +\n",
              "            '<a target=\"_blank\" href=https://colab.research.google.com/notebooks/data_table.ipynb>data table notebook</a>'\n",
              "            + ' to learn more about interactive tables.';\n",
              "          element.innerHTML = '';\n",
              "          dataTable['output_type'] = 'display_data';\n",
              "          await google.colab.output.renderOutput(dataTable, element);\n",
              "          const docLink = document.createElement('div');\n",
              "          docLink.innerHTML = docLinkHtml;\n",
              "          element.appendChild(docLink);\n",
              "        }\n",
              "      </script>\n",
              "    </div>\n",
              "  </div>\n",
              "  "
            ],
            "text/plain": [
              "        duree_mois  montant_credit          age  nbr_credits\n",
              "count  1000.000000     1000.000000  1000.000000  1000.000000\n",
              "mean     20.903000     3271.258000    35.546000     1.407000\n",
              "std      12.058814     2822.736876    11.375469     0.577654\n",
              "min       4.000000      250.000000    19.000000     1.000000\n",
              "25%      12.000000     1365.500000    27.000000     1.000000\n",
              "50%      18.000000     2319.500000    33.000000     1.000000\n",
              "75%      24.000000     3972.250000    42.000000     2.000000\n",
              "max      72.000000    18424.000000    75.000000     4.000000"
            ]
          },
          "metadata": {},
          "execution_count": 20
        }
      ]
    },
    {
      "cell_type": "markdown",
      "metadata": {
        "id": "TQF06io_mN6Y"
      },
      "source": [
        "### Variables Qualitative"
      ]
    },
    {
      "cell_type": "markdown",
      "source": [
        "Ajouter les variables jugées qualitatives à l'ensemble de variables qualitatives."
      ],
      "metadata": {
        "id": "fGBFN6nd1XTc"
      }
    },
    {
      "cell_type": "code",
      "source": [
        "bank_int_as_categ = [\"taux_vers_revenu\", \"residence_depuis\", \"nbr_per_charge\"]"
      ],
      "metadata": {
        "id": "31tRpPw6c_YT"
      },
      "execution_count": null,
      "outputs": []
    },
    {
      "cell_type": "code",
      "source": [
        "bank_int_as_categ"
      ],
      "metadata": {
        "colab": {
          "base_uri": "https://localhost:8080/"
        },
        "id": "M3u_HZSldMeM",
        "outputId": "8bf72696-f02a-475e-c063-9e8cf664e7b7"
      },
      "execution_count": null,
      "outputs": [
        {
          "output_type": "execute_result",
          "data": {
            "text/plain": [
              "['taux_vers_revenu', 'residence_depuis', 'nbr_per_charge']"
            ]
          },
          "metadata": {},
          "execution_count": 22
        }
      ]
    },
    {
      "cell_type": "code",
      "source": [
        "bank_categorical = bank_df.select_dtypes(include=['object']).columns.to_list()\n",
        "bank_categorical.extend(bank_int_as_categ)\n",
        "bank_numerical = list(set(bank_df.select_dtypes(include=['int']).columns.to_list()) - set(bank_categorical))"
      ],
      "metadata": {
        "id": "1bAFwtqkci2U"
      },
      "execution_count": null,
      "outputs": []
    },
    {
      "cell_type": "code",
      "source": [
        "len(bank_categorical)"
      ],
      "metadata": {
        "colab": {
          "base_uri": "https://localhost:8080/"
        },
        "id": "pNRy9Ib_dKRD",
        "outputId": "806e4c99-eaaf-4ae0-bc6b-7b20488c47d5"
      },
      "execution_count": null,
      "outputs": [
        {
          "output_type": "execute_result",
          "data": {
            "text/plain": [
              "16"
            ]
          },
          "metadata": {},
          "execution_count": 24
        }
      ]
    },
    {
      "cell_type": "code",
      "metadata": {
        "colab": {
          "base_uri": "https://localhost:8080/"
        },
        "id": "IINlMhnWhiDc",
        "outputId": "f69fe9e2-9810-4410-9f47-15e56ed40981"
      },
      "source": [
        "fig, axes = plt.subplots(nrows=6, ncols=3, figsize=(25, 30))\n",
        "for xcol, ax in zip(bank_categorical, [x for v in axes for x in v]):\n",
        "    bank_df.groupby([xcol, 'label']).size().unstack(\"label\").plot.bar(ax=ax,stacked=True)"
      ],
      "execution_count": null,
      "outputs": [
        {
          "output_type": "display_data",
          "data": {
            "image/png": "[encoded data removed]",
            "text/plain": [
              "<Figure size 1800x2160 with 18 Axes>"
            ]
          },
          "metadata": {
            "needs_background": "light"
          }
        }
      ]
    },
    {
      "cell_type": "markdown",
      "metadata": {
        "id": "nmjP6v70lQkx"
      },
      "source": [
        "### Variables Quantitaive"
      ]
    },
    {
      "cell_type": "code",
      "metadata": {
        "colab": {
          "base_uri": "https://localhost:8080/"
        },
        "id": "oLzaWGCckuO6",
        "outputId": "5b9c177a-ca5f-4f28-8575-59840ade0972"
      },
      "source": [
        "print(bank_numerical)\n",
        "fig, axes = plt.subplots(nrows=2, ncols=2, figsize=(18, 20))\n",
        "for xcol, ax in zip(bank_numerical, [x for v in axes for x in v]):\n",
        "    # bank_df.groupby([xcol, 'label']).size().unstack(\"label\").plot.bar(ax=ax,stacked=True)\n",
        "    bank_df.boxplot(ax=ax, column=[xcol])"
      ],
      "execution_count": null,
      "outputs": [
        {
          "output_type": "stream",
          "name": "stdout",
          "text": [
            "['duree_mois', 'nbr_credits', 'age', 'label', 'montant_credit']\n"
          ]
        },
        {
          "output_type": "display_data",
          "data": {
            "image/png": "[encoded data removed]",
            "text/plain": [
              "<Figure size 1296x1440 with 4 Axes>"
            ]
          },
          "metadata": {
            "needs_background": "light"
          }
        }
      ]
    },
    {
      "cell_type": "code",
      "metadata": {
        "colab": {
          "base_uri": "https://localhost:8080/"
        },
        "id": "HYm8eaqHNZhm",
        "outputId": "570a950d-a054-4dc8-83af-2241f2f90994"
      },
      "source": [
        "bins = [0,12,24,36,75]\n",
        "bank_df1 = bank_df[[\"duree_mois\", \"label\"]].copy()\n",
        "bank_df1[\"duree_mois\"] = pd.cut(bank_df['duree_mois'], bins)\n",
        "bank_df1.groupby(['duree_mois', 'label']).size().unstack(\"label\").plot.bar(stacked=True)"
      ],
      "execution_count": null,
      "outputs": [
        {
          "output_type": "execute_result",
          "data": {
            "text/plain": [
              "<matplotlib.axes._subplots.AxesSubplot at 0x7f769e295610>"
            ]
          },
          "metadata": {},
          "execution_count": 27
        },
        {
          "output_type": "display_data",
          "data": {
            "image/png": "[encoded data removed]",
            "text/plain": [
              "<Figure size 432x288 with 1 Axes>"
            ]
          },
          "metadata": {
            "needs_background": "light"
          }
        }
      ]
    },
    {
      "cell_type": "code",
      "metadata": {
        "colab": {
          "base_uri": "https://localhost:8080/"
        },
        "id": "u6rDFt-hpnsm",
        "outputId": "7e8ab9ab-8278-441b-aad2-5ab7fef73a88"
      },
      "source": [
        "bins = [0,2000,4000,6000,10000, 20000]\n",
        "bank_df1 = bank_df[[\"montant_credit\", \"label\"]].copy()\n",
        "bank_df1[\"montant_credit\"] = pd.cut(bank_df['montant_credit'], bins)\n",
        "bank_df1.groupby(['montant_credit', 'label']).size().unstack(\"label\").plot.bar(stacked=True)"
      ],
      "execution_count": null,
      "outputs": [
        {
          "output_type": "execute_result",
          "data": {
            "text/plain": [
              "<matplotlib.axes._subplots.AxesSubplot at 0x7f769cad5fd0>"
            ]
          },
          "metadata": {},
          "execution_count": 28
        },
        {
          "output_type": "display_data",
          "data": {
            "image/png": "[encoded data removed]",
            "text/plain": [
              "<Figure size 432x288 with 1 Axes>"
            ]
          },
          "metadata": {
            "needs_background": "light"
          }
        }
      ]
    },
    {
      "cell_type": "markdown",
      "source": [
        "### Réprtition des classes"
      ],
      "metadata": {
        "id": "cM_mdTsi3Q22"
      }
    },
    {
      "cell_type": "code",
      "source": [
        "print(bank_df['label'].value_counts())\n",
        "bank_df['label'].value_counts().plot.pie()"
      ],
      "metadata": {
        "colab": {
          "base_uri": "https://localhost:8080/"
        },
        "id": "Io2wtqqX3dTO",
        "outputId": "5a6389dd-be33-45a5-8cf3-a359b49bcf21"
      },
      "execution_count": null,
      "outputs": [
        {
          "output_type": "stream",
          "name": "stdout",
          "text": [
            "1    700\n",
            "2    300\n",
            "Name: label, dtype: int64\n"
          ]
        },
        {
          "output_type": "execute_result",
          "data": {
            "text/plain": [
              "<matplotlib.axes._subplots.AxesSubplot at 0x7f769c9f3390>"
            ]
          },
          "metadata": {},
          "execution_count": 29
        },
        {
          "output_type": "display_data",
          "data": {
            "image/png": "[encoded data removed]",
            "text/plain": [
              "<Figure size 432x288 with 1 Axes>"
            ]
          },
          "metadata": {}
        }
      ]
    },
    {
      "cell_type": "markdown",
      "source": [
        "Les individus appartenant à classe 1 représentent 70% de la population. L'autre portion d'individus (30%) est dédiée à la classe 2. "
      ],
      "metadata": {
        "id": "n8WC4dqP37jk"
      }
    },
    {
      "cell_type": "markdown",
      "source": [
        "## Data Preprocessing"
      ],
      "metadata": {
        "id": "uQERKIaBeznS"
      }
    },
    {
      "cell_type": "code",
      "source": [
        "from sklearn.preprocessing import OneHotEncoder"
      ],
      "metadata": {
        "id": "F2Md2kDue1gk"
      },
      "execution_count": null,
      "outputs": []
    },
    {
      "cell_type": "code",
      "source": [
        "bank_df1 = bank_df.copy()\n",
        "for column in bank_df.select_dtypes(include=['object']).columns.to_list():\n",
        "  bank_df1[column] = pd.factorize(bank_df[column])[0]"
      ],
      "metadata": {
        "id": "8owf5JJ4nNPM"
      },
      "execution_count": null,
      "outputs": []
    },
    {
      "cell_type": "code",
      "source": [
        "bank_df1"
      ],
      "metadata": {
        "id": "5GMRV3KEqBdV",
        "colab": {
          "base_uri": "https://localhost:8080/",
          "height": 488
        },
        "outputId": "01a10ba9-0294-4fe9-c3a6-41d523c2ac01"
      },
      "execution_count": null,
      "outputs": [
        {
          "output_type": "execute_result",
          "data": {
            "text/html": [
              "\n",
              "  <div id=\"df-5e6708a9-fb4f-4c08-954f-fcaea3e9f35d\">\n",
              "    <div class=\"colab-df-container\">\n",
              "      <div>\n",
              "<style scoped>\n",
              "    .dataframe tbody tr th:only-of-type {\n",
              "        vertical-align: middle;\n",
              "    }\n",
              "\n",
              "    .dataframe tbody tr th {\n",
              "        vertical-align: top;\n",
              "    }\n",
              "\n",
              "    .dataframe thead th {\n",
              "        text-align: right;\n",
              "    }\n",
              "</style>\n",
              "<table border=\"1\" class=\"dataframe\">\n",
              "  <thead>\n",
              "    <tr style=\"text-align: right;\">\n",
              "      <th></th>\n",
              "      <th>status_cce</th>\n",
              "      <th>duree_mois</th>\n",
              "      <th>hist_credit</th>\n",
              "      <th>obj</th>\n",
              "      <th>montant_credit</th>\n",
              "      <th>compte_epargne</th>\n",
              "      <th>emplois_depuis</th>\n",
              "      <th>taux_vers_revenu</th>\n",
              "      <th>status_sexe</th>\n",
              "      <th>autres_debits</th>\n",
              "      <th>residence_depuis</th>\n",
              "      <th>prop</th>\n",
              "      <th>age</th>\n",
              "      <th>plans_vers</th>\n",
              "      <th>log</th>\n",
              "      <th>nbr_credits</th>\n",
              "      <th>travail</th>\n",
              "      <th>nbr_per_charge</th>\n",
              "      <th>tel</th>\n",
              "      <th>trav_etranger</th>\n",
              "      <th>label</th>\n",
              "    </tr>\n",
              "  </thead>\n",
              "  <tbody>\n",
              "    <tr>\n",
              "      <th>0</th>\n",
              "      <td>0</td>\n",
              "      <td>6</td>\n",
              "      <td>0</td>\n",
              "      <td>0</td>\n",
              "      <td>1169</td>\n",
              "      <td>0</td>\n",
              "      <td>0</td>\n",
              "      <td>4</td>\n",
              "      <td>0</td>\n",
              "      <td>0</td>\n",
              "      <td>4</td>\n",
              "      <td>0</td>\n",
              "      <td>67</td>\n",
              "      <td>0</td>\n",
              "      <td>0</td>\n",
              "      <td>2</td>\n",
              "      <td>0</td>\n",
              "      <td>1</td>\n",
              "      <td>0</td>\n",
              "      <td>0</td>\n",
              "      <td>1</td>\n",
              "    </tr>\n",
              "    <tr>\n",
              "      <th>1</th>\n",
              "      <td>1</td>\n",
              "      <td>48</td>\n",
              "      <td>1</td>\n",
              "      <td>0</td>\n",
              "      <td>5951</td>\n",
              "      <td>1</td>\n",
              "      <td>1</td>\n",
              "      <td>2</td>\n",
              "      <td>1</td>\n",
              "      <td>0</td>\n",
              "      <td>2</td>\n",
              "      <td>0</td>\n",
              "      <td>22</td>\n",
              "      <td>0</td>\n",
              "      <td>0</td>\n",
              "      <td>1</td>\n",
              "      <td>0</td>\n",
              "      <td>1</td>\n",
              "      <td>1</td>\n",
              "      <td>0</td>\n",
              "      <td>2</td>\n",
              "    </tr>\n",
              "    <tr>\n",
              "      <th>2</th>\n",
              "      <td>2</td>\n",
              "      <td>12</td>\n",
              "      <td>0</td>\n",
              "      <td>1</td>\n",
              "      <td>2096</td>\n",
              "      <td>1</td>\n",
              "      <td>2</td>\n",
              "      <td>2</td>\n",
              "      <td>0</td>\n",
              "      <td>0</td>\n",
              "      <td>3</td>\n",
              "      <td>0</td>\n",
              "      <td>49</td>\n",
              "      <td>0</td>\n",
              "      <td>0</td>\n",
              "      <td>1</td>\n",
              "      <td>1</td>\n",
              "      <td>2</td>\n",
              "      <td>1</td>\n",
              "      <td>0</td>\n",
              "      <td>1</td>\n",
              "    </tr>\n",
              "    <tr>\n",
              "      <th>3</th>\n",
              "      <td>0</td>\n",
              "      <td>42</td>\n",
              "      <td>1</td>\n",
              "      <td>2</td>\n",
              "      <td>7882</td>\n",
              "      <td>1</td>\n",
              "      <td>2</td>\n",
              "      <td>2</td>\n",
              "      <td>0</td>\n",
              "      <td>1</td>\n",
              "      <td>4</td>\n",
              "      <td>1</td>\n",
              "      <td>45</td>\n",
              "      <td>0</td>\n",
              "      <td>1</td>\n",
              "      <td>1</td>\n",
              "      <td>0</td>\n",
              "      <td>2</td>\n",
              "      <td>1</td>\n",
              "      <td>0</td>\n",
              "      <td>1</td>\n",
              "    </tr>\n",
              "    <tr>\n",
              "      <th>4</th>\n",
              "      <td>0</td>\n",
              "      <td>24</td>\n",
              "      <td>2</td>\n",
              "      <td>3</td>\n",
              "      <td>4870</td>\n",
              "      <td>1</td>\n",
              "      <td>1</td>\n",
              "      <td>3</td>\n",
              "      <td>0</td>\n",
              "      <td>0</td>\n",
              "      <td>4</td>\n",
              "      <td>2</td>\n",
              "      <td>53</td>\n",
              "      <td>0</td>\n",
              "      <td>1</td>\n",
              "      <td>2</td>\n",
              "      <td>0</td>\n",
              "      <td>2</td>\n",
              "      <td>1</td>\n",
              "      <td>0</td>\n",
              "      <td>2</td>\n",
              "    </tr>\n",
              "    <tr>\n",
              "      <th>...</th>\n",
              "      <td>...</td>\n",
              "      <td>...</td>\n",
              "      <td>...</td>\n",
              "      <td>...</td>\n",
              "      <td>...</td>\n",
              "      <td>...</td>\n",
              "      <td>...</td>\n",
              "      <td>...</td>\n",
              "      <td>...</td>\n",
              "      <td>...</td>\n",
              "      <td>...</td>\n",
              "      <td>...</td>\n",
              "      <td>...</td>\n",
              "      <td>...</td>\n",
              "      <td>...</td>\n",
              "      <td>...</td>\n",
              "      <td>...</td>\n",
              "      <td>...</td>\n",
              "      <td>...</td>\n",
              "      <td>...</td>\n",
              "      <td>...</td>\n",
              "    </tr>\n",
              "    <tr>\n",
              "      <th>995</th>\n",
              "      <td>2</td>\n",
              "      <td>12</td>\n",
              "      <td>1</td>\n",
              "      <td>2</td>\n",
              "      <td>1736</td>\n",
              "      <td>1</td>\n",
              "      <td>2</td>\n",
              "      <td>3</td>\n",
              "      <td>1</td>\n",
              "      <td>0</td>\n",
              "      <td>4</td>\n",
              "      <td>0</td>\n",
              "      <td>31</td>\n",
              "      <td>0</td>\n",
              "      <td>0</td>\n",
              "      <td>1</td>\n",
              "      <td>1</td>\n",
              "      <td>1</td>\n",
              "      <td>1</td>\n",
              "      <td>0</td>\n",
              "      <td>1</td>\n",
              "    </tr>\n",
              "    <tr>\n",
              "      <th>996</th>\n",
              "      <td>0</td>\n",
              "      <td>30</td>\n",
              "      <td>1</td>\n",
              "      <td>4</td>\n",
              "      <td>3857</td>\n",
              "      <td>1</td>\n",
              "      <td>1</td>\n",
              "      <td>4</td>\n",
              "      <td>2</td>\n",
              "      <td>0</td>\n",
              "      <td>4</td>\n",
              "      <td>1</td>\n",
              "      <td>40</td>\n",
              "      <td>0</td>\n",
              "      <td>0</td>\n",
              "      <td>1</td>\n",
              "      <td>2</td>\n",
              "      <td>1</td>\n",
              "      <td>0</td>\n",
              "      <td>0</td>\n",
              "      <td>1</td>\n",
              "    </tr>\n",
              "    <tr>\n",
              "      <th>997</th>\n",
              "      <td>2</td>\n",
              "      <td>12</td>\n",
              "      <td>1</td>\n",
              "      <td>0</td>\n",
              "      <td>804</td>\n",
              "      <td>1</td>\n",
              "      <td>0</td>\n",
              "      <td>4</td>\n",
              "      <td>0</td>\n",
              "      <td>0</td>\n",
              "      <td>4</td>\n",
              "      <td>3</td>\n",
              "      <td>38</td>\n",
              "      <td>0</td>\n",
              "      <td>0</td>\n",
              "      <td>1</td>\n",
              "      <td>0</td>\n",
              "      <td>1</td>\n",
              "      <td>1</td>\n",
              "      <td>0</td>\n",
              "      <td>1</td>\n",
              "    </tr>\n",
              "    <tr>\n",
              "      <th>998</th>\n",
              "      <td>0</td>\n",
              "      <td>45</td>\n",
              "      <td>1</td>\n",
              "      <td>0</td>\n",
              "      <td>1845</td>\n",
              "      <td>1</td>\n",
              "      <td>1</td>\n",
              "      <td>4</td>\n",
              "      <td>0</td>\n",
              "      <td>0</td>\n",
              "      <td>4</td>\n",
              "      <td>2</td>\n",
              "      <td>23</td>\n",
              "      <td>0</td>\n",
              "      <td>1</td>\n",
              "      <td>1</td>\n",
              "      <td>0</td>\n",
              "      <td>1</td>\n",
              "      <td>0</td>\n",
              "      <td>0</td>\n",
              "      <td>2</td>\n",
              "    </tr>\n",
              "    <tr>\n",
              "      <th>999</th>\n",
              "      <td>1</td>\n",
              "      <td>45</td>\n",
              "      <td>0</td>\n",
              "      <td>4</td>\n",
              "      <td>4576</td>\n",
              "      <td>4</td>\n",
              "      <td>3</td>\n",
              "      <td>3</td>\n",
              "      <td>0</td>\n",
              "      <td>0</td>\n",
              "      <td>4</td>\n",
              "      <td>3</td>\n",
              "      <td>27</td>\n",
              "      <td>0</td>\n",
              "      <td>0</td>\n",
              "      <td>1</td>\n",
              "      <td>0</td>\n",
              "      <td>1</td>\n",
              "      <td>1</td>\n",
              "      <td>0</td>\n",
              "      <td>1</td>\n",
              "    </tr>\n",
              "  </tbody>\n",
              "</table>\n",
              "<p>1000 rows × 21 columns</p>\n",
              "</div>\n",
              "      <button class=\"colab-df-convert\" onclick=\"convertToInteractive('df-5e6708a9-fb4f-4c08-954f-fcaea3e9f35d')\"\n",
              "              title=\"Convert this dataframe to an interactive table.\"\n",
              "              style=\"display:none;\">\n",
              "        \n",
              "  <svg xmlns=\"http://www.w3.org/2000/svg\" height=\"24px\"viewBox=\"0 0 24 24\"\n",
              "       width=\"24px\">\n",
              "    <path d=\"M0 0h24v24H0V0z\" fill=\"none\"/>\n",
              "    <path d=\"M18.56 5.44l.94 2.06.94-2.06 2.06-.94-2.06-.94-.94-2.06-.94 2.06-2.06.94zm-11 1L8.5 8.5l.94-2.06 2.06-.94-2.06-.94L8.5 2.5l-.94 2.06-2.06.94zm10 10l.94 2.06.94-2.06 2.06-.94-2.06-.94-.94-2.06-.94 2.06-2.06.94z\"/><path d=\"M17.41 7.96l-1.37-1.37c-.4-.4-.92-.59-1.43-.59-.52 0-1.04.2-1.43.59L10.3 9.45l-7.72 7.72c-.78.78-.78 2.05 0 2.83L4 21.41c.39.39.9.59 1.41.59.51 0 1.02-.2 1.41-.59l7.78-7.78 2.81-2.81c.8-.78.8-2.07 0-2.86zM5.41 20L4 18.59l7.72-7.72 1.47 1.35L5.41 20z\"/>\n",
              "  </svg>\n",
              "      </button>\n",
              "      \n",
              "  <style>\n",
              "    .colab-df-container {\n",
              "      display:flex;\n",
              "      flex-wrap:wrap;\n",
              "      gap: 12px;\n",
              "    }\n",
              "\n",
              "    .colab-df-convert {\n",
              "      background-color: #E8F0FE;\n",
              "      border: none;\n",
              "      border-radius: 50%;\n",
              "      cursor: pointer;\n",
              "      display: none;\n",
              "      fill: #1967D2;\n",
              "      height: 32px;\n",
              "      padding: 0 0 0 0;\n",
              "      width: 32px;\n",
              "    }\n",
              "\n",
              "    .colab-df-convert:hover {\n",
              "      background-color: #E2EBFA;\n",
              "      box-shadow: 0px 1px 2px rgba(60, 64, 67, 0.3), 0px 1px 3px 1px rgba(60, 64, 67, 0.15);\n",
              "      fill: #174EA6;\n",
              "    }\n",
              "\n",
              "    [theme=dark] .colab-df-convert {\n",
              "      background-color: #3B4455;\n",
              "      fill: #D2E3FC;\n",
              "    }\n",
              "\n",
              "    [theme=dark] .colab-df-convert:hover {\n",
              "      background-color: #434B5C;\n",
              "      box-shadow: 0px 1px 3px 1px rgba(0, 0, 0, 0.15);\n",
              "      filter: drop-shadow(0px 1px 2px rgba(0, 0, 0, 0.3));\n",
              "      fill: #FFFFFF;\n",
              "    }\n",
              "  </style>\n",
              "\n",
              "      <script>\n",
              "        const buttonEl =\n",
              "          document.querySelector('#df-5e6708a9-fb4f-4c08-954f-fcaea3e9f35d button.colab-df-convert');\n",
              "        buttonEl.style.display =\n",
              "          google.colab.kernel.accessAllowed ? 'block' : 'none';\n",
              "\n",
              "        async function convertToInteractive(key) {\n",
              "          const element = document.querySelector('#df-5e6708a9-fb4f-4c08-954f-fcaea3e9f35d');\n",
              "          const dataTable =\n",
              "            await google.colab.kernel.invokeFunction('convertToInteractive',\n",
              "                                                     [key], {});\n",
              "          if (!dataTable) return;\n",
              "\n",
              "          const docLinkHtml = 'Like what you see? Visit the ' +\n",
              "            '<a target=\"_blank\" href=https://colab.research.google.com/notebooks/data_table.ipynb>data table notebook</a>'\n",
              "            + ' to learn more about interactive tables.';\n",
              "          element.innerHTML = '';\n",
              "          dataTable['output_type'] = 'display_data';\n",
              "          await google.colab.output.renderOutput(dataTable, element);\n",
              "          const docLink = document.createElement('div');\n",
              "          docLink.innerHTML = docLinkHtml;\n",
              "          element.appendChild(docLink);\n",
              "        }\n",
              "      </script>\n",
              "    </div>\n",
              "  </div>\n",
              "  "
            ],
            "text/plain": [
              "     status_cce  duree_mois  hist_credit  ...  tel  trav_etranger  label\n",
              "0             0           6            0  ...    0              0      1\n",
              "1             1          48            1  ...    1              0      2\n",
              "2             2          12            0  ...    1              0      1\n",
              "3             0          42            1  ...    1              0      1\n",
              "4             0          24            2  ...    1              0      2\n",
              "..          ...         ...          ...  ...  ...            ...    ...\n",
              "995           2          12            1  ...    1              0      1\n",
              "996           0          30            1  ...    0              0      1\n",
              "997           2          12            1  ...    1              0      1\n",
              "998           0          45            1  ...    0              0      2\n",
              "999           1          45            0  ...    1              0      1\n",
              "\n",
              "[1000 rows x 21 columns]"
            ]
          },
          "metadata": {},
          "execution_count": 32
        }
      ]
    },
    {
      "cell_type": "code",
      "source": [
        "bank_df1.to_numpy()"
      ],
      "metadata": {
        "colab": {
          "base_uri": "https://localhost:8080/"
        },
        "id": "_HYIIBCuiyfq",
        "outputId": "ad17f26b-cae1-4081-a73d-349b53663094"
      },
      "execution_count": null,
      "outputs": [
        {
          "output_type": "execute_result",
          "data": {
            "text/plain": [
              "array([[ 0,  6,  0, ...,  0,  0,  1],\n",
              "       [ 1, 48,  1, ...,  1,  0,  2],\n",
              "       [ 2, 12,  0, ...,  1,  0,  1],\n",
              "       ...,\n",
              "       [ 2, 12,  1, ...,  1,  0,  1],\n",
              "       [ 0, 45,  1, ...,  0,  0,  2],\n",
              "       [ 1, 45,  0, ...,  1,  0,  1]])"
            ]
          },
          "metadata": {},
          "execution_count": 33
        }
      ]
    },
    {
      "cell_type": "code",
      "source": [
        "bank_X_numerical = bank_df1[bank_numerical].to_numpy()\n",
        "bank_X_numerical"
      ],
      "metadata": {
        "colab": {
          "base_uri": "https://localhost:8080/"
        },
        "id": "HndZjRJhiNTS",
        "outputId": "b5b71ae5-4cc9-4c2a-9032-e782c2fe5d5a"
      },
      "execution_count": null,
      "outputs": [
        {
          "output_type": "execute_result",
          "data": {
            "text/plain": [
              "array([[   6,    2,   67,    1, 1169],\n",
              "       [  48,    1,   22,    2, 5951],\n",
              "       [  12,    1,   49,    1, 2096],\n",
              "       ...,\n",
              "       [  12,    1,   38,    1,  804],\n",
              "       [  45,    1,   23,    2, 1845],\n",
              "       [  45,    1,   27,    1, 4576]])"
            ]
          },
          "metadata": {},
          "execution_count": 34
        }
      ]
    },
    {
      "cell_type": "code",
      "source": [
        "bank_X_categorical = bank_df1[bank_categorical].to_numpy()\n",
        "bank_X_categorical"
      ],
      "metadata": {
        "colab": {
          "base_uri": "https://localhost:8080/"
        },
        "id": "VQp-UdzCqoEw",
        "outputId": "9ee612a1-66b9-466a-f5e1-f0a8bbb4ea3b"
      },
      "execution_count": null,
      "outputs": [
        {
          "output_type": "execute_result",
          "data": {
            "text/plain": [
              "array([[0, 0, 0, ..., 4, 4, 1],\n",
              "       [1, 1, 0, ..., 2, 2, 1],\n",
              "       [2, 0, 1, ..., 2, 3, 2],\n",
              "       ...,\n",
              "       [2, 1, 0, ..., 4, 4, 1],\n",
              "       [0, 1, 0, ..., 4, 4, 1],\n",
              "       [1, 0, 4, ..., 3, 4, 1]])"
            ]
          },
          "metadata": {},
          "execution_count": 35
        }
      ]
    },
    {
      "cell_type": "code",
      "source": [
        "bank_X = bank_df1.loc[:, bank_df1.columns != 'label'].to_numpy()\n",
        "bank_Y = bank_df1['label'].to_numpy()"
      ],
      "metadata": {
        "id": "RYRmvME5qulj"
      },
      "execution_count": null,
      "outputs": []
    },
    {
      "cell_type": "markdown",
      "source": [
        "Jusqu'à ce point on a bank_X, la matrice qui contient tous les individus et variables. bank_X_numerical contenant que les variables numériques. Ainsi que bank_X_categorical qui contient les variables catégorielles."
      ],
      "metadata": {
        "id": "67hKhpgsALU2"
      }
    },
    {
      "cell_type": "markdown",
      "source": [
        "### Balancer les données"
      ],
      "metadata": {
        "id": "8ka6su2kTcSD"
      }
    },
    {
      "cell_type": "markdown",
      "source": [
        "Comme constaté précédemment, les données de ce jeu de données ne sont pas équilibrées, et qu'il y avait une classe majoritaire avec 70% des individus. On a pensé à balancer nos données avec les trois familles de méthodes de balancement de données. \n",
        "Over Balancing avec SMOTE, Under Balancing avec Cluster Centroids, et la combinaison des deux avec SMOTEENN"
      ],
      "metadata": {
        "id": "pmAPF4ha65QO"
      }
    },
    {
      "cell_type": "code",
      "source": [
        "from imblearn.over_sampling import SMOTE\n",
        "from imblearn.under_sampling import ClusterCentroids\n",
        "from imblearn.combine import SMOTEENN"
      ],
      "metadata": {
        "id": "M0f8j7wbTdr0"
      },
      "execution_count": null,
      "outputs": []
    },
    {
      "cell_type": "markdown",
      "source": [
        "#### Toutes les données"
      ],
      "metadata": {
        "id": "eFuYv0m5ih66"
      }
    },
    {
      "cell_type": "code",
      "source": [
        "smoteImbOver = SMOTE()\n",
        "bank_X_smote, bank_Y_smote = smoteImbOver.fit_resample(bank_X, bank_Y)\n",
        "bank_X_smote.shape, bank_Y_smote.shape"
      ],
      "metadata": {
        "colab": {
          "base_uri": "https://localhost:8080/"
        },
        "outputId": "00ef45f8-8949-4f3b-f46d-aedc7de96234",
        "id": "moKIa0ztl2-2"
      },
      "execution_count": null,
      "outputs": [
        {
          "output_type": "execute_result",
          "data": {
            "text/plain": [
              "((1400, 20), (1400,))"
            ]
          },
          "metadata": {},
          "execution_count": 97
        }
      ]
    },
    {
      "cell_type": "code",
      "source": [
        "ccImbUnder = ClusterCentroids(random_state=42)\n",
        "bank_X_cc, bank_Y_cc = ccImbUnder.fit_resample(bank_X, bank_Y)\n",
        "bank_X_cc.shape, bank_Y_cc.shape"
      ],
      "metadata": {
        "colab": {
          "base_uri": "https://localhost:8080/"
        },
        "outputId": "72c06806-d9c1-45c2-9ecf-8a9d60fbe01f",
        "id": "ULceNfQql2_C"
      },
      "execution_count": null,
      "outputs": [
        {
          "output_type": "execute_result",
          "data": {
            "text/plain": [
              "((600, 20), (600,))"
            ]
          },
          "metadata": {},
          "execution_count": 98
        }
      ]
    },
    {
      "cell_type": "code",
      "source": [
        "smoteImbCombine = SMOTEENN()\n",
        "bank_X_smoteenn, bank_Y_smoteenn = smoteImbCombine.fit_resample(bank_X, bank_Y)\n",
        "bank_X_smoteenn.shape, bank_Y_smoteenn.shape"
      ],
      "metadata": {
        "colab": {
          "base_uri": "https://localhost:8080/"
        },
        "outputId": "802b444e-d7e2-4490-e372-74e6808f2095",
        "id": "4c7F7FWRl2_C"
      },
      "execution_count": null,
      "outputs": [
        {
          "output_type": "execute_result",
          "data": {
            "text/plain": [
              "((512, 20), (512,))"
            ]
          },
          "metadata": {},
          "execution_count": 99
        }
      ]
    },
    {
      "cell_type": "markdown",
      "source": [
        "#### Données numériques"
      ],
      "metadata": {
        "id": "P0qEhilpifIr"
      }
    },
    {
      "cell_type": "code",
      "source": [
        "smoteImbOver = SMOTE()\n",
        "bank_X_numerical_smote, bank_Y_smote = smoteImbOver.fit_resample(bank_X_numerical, bank_Y)\n",
        "bank_X_numerical_smote.shape, bank_Y_smote.shape"
      ],
      "metadata": {
        "colab": {
          "base_uri": "https://localhost:8080/"
        },
        "id": "qcA0_zuAThz_",
        "outputId": "f4b5dbf8-2937-4c87-c49f-7ad8ecdee8b9"
      },
      "execution_count": null,
      "outputs": [
        {
          "output_type": "execute_result",
          "data": {
            "text/plain": [
              "((1400, 5), (1400,))"
            ]
          },
          "metadata": {},
          "execution_count": 41
        }
      ]
    },
    {
      "cell_type": "code",
      "source": [
        "ccImbUnder = ClusterCentroids(random_state=42)\n",
        "bank_X_numerical_cc, bank_Y_cc = ccImbUnder.fit_resample(bank_X_numerical, bank_Y)\n",
        "bank_X_numerical_cc.shape, bank_Y_cc.shape"
      ],
      "metadata": {
        "colab": {
          "base_uri": "https://localhost:8080/"
        },
        "id": "qGBYx3a8Tj7Z",
        "outputId": "3cbc05b2-875c-4b95-b47f-8ae84880ccdf"
      },
      "execution_count": null,
      "outputs": [
        {
          "output_type": "execute_result",
          "data": {
            "text/plain": [
              "((600, 5), (600,))"
            ]
          },
          "metadata": {},
          "execution_count": 42
        }
      ]
    },
    {
      "cell_type": "code",
      "source": [
        "smoteImbCombine = SMOTEENN()\n",
        "bank_X_numerical_smoteenn, bank_Y_smoteenn = smoteImbCombine.fit_resample(bank_X_numerical, bank_Y)\n",
        "bank_X_numerical_smoteenn.shape, bank_Y_smoteenn.shape"
      ],
      "metadata": {
        "colab": {
          "base_uri": "https://localhost:8080/"
        },
        "id": "kQ0SccoBTeOu",
        "outputId": "a6773f29-5073-43e0-a389-dd99d0cdd6f3"
      },
      "execution_count": null,
      "outputs": [
        {
          "output_type": "execute_result",
          "data": {
            "text/plain": [
              "((514, 5), (514,))"
            ]
          },
          "metadata": {},
          "execution_count": 66
        }
      ]
    },
    {
      "cell_type": "markdown",
      "source": [
        "#### Données catégorielles"
      ],
      "metadata": {
        "id": "L5ukoATTikt0"
      }
    },
    {
      "cell_type": "code",
      "source": [
        "smoteImbOver = SMOTE()\n",
        "bank_X_categorical_smote, bank_Y_smote = smoteImbOver.fit_resample(bank_X_categorical, bank_Y)\n",
        "bank_X_categorical_smote.shape, bank_Y_smote.shape"
      ],
      "metadata": {
        "colab": {
          "base_uri": "https://localhost:8080/"
        },
        "outputId": "7f4ca4a8-05e8-4f78-a902-60bb100dc272",
        "id": "LQGf5aaGipoe"
      },
      "execution_count": null,
      "outputs": [
        {
          "output_type": "execute_result",
          "data": {
            "text/plain": [
              "((1400, 16), (1400,))"
            ]
          },
          "metadata": {},
          "execution_count": 94
        }
      ]
    },
    {
      "cell_type": "code",
      "source": [
        "ccImbUnder = ClusterCentroids(random_state=42)\n",
        "bank_X_categorical_cc, bank_Y_cc = ccImbUnder.fit_resample(bank_X_categorical, bank_Y)\n",
        "bank_X_categorical_cc.shape, bank_Y_cc.shape"
      ],
      "metadata": {
        "colab": {
          "base_uri": "https://localhost:8080/"
        },
        "outputId": "a0e7ac94-abcc-413e-9715-712076fb91ef",
        "id": "le3Q1RGCipog"
      },
      "execution_count": null,
      "outputs": [
        {
          "output_type": "execute_result",
          "data": {
            "text/plain": [
              "((600, 16), (600,))"
            ]
          },
          "metadata": {},
          "execution_count": 95
        }
      ]
    },
    {
      "cell_type": "code",
      "source": [
        "smoteImbCombine = SMOTEENN()\n",
        "bank_X_categorical_smoteenn, bank_Y_smoteenn = smoteImbCombine.fit_resample(bank_X_categorical, bank_Y)\n",
        "bank_X_categorical_smoteenn.shape, bank_Y_smoteenn.shape"
      ],
      "metadata": {
        "colab": {
          "base_uri": "https://localhost:8080/"
        },
        "outputId": "0c233de0-2b3e-491f-d4ee-85fa797b2b8d",
        "id": "f75WUytOipoh"
      },
      "execution_count": null,
      "outputs": [
        {
          "output_type": "execute_result",
          "data": {
            "text/plain": [
              "((744, 16), (744,))"
            ]
          },
          "metadata": {},
          "execution_count": 96
        }
      ]
    },
    {
      "cell_type": "markdown",
      "source": [
        "## Classification"
      ],
      "metadata": {
        "id": "qs-moOkMXXpa"
      }
    },
    {
      "cell_type": "code",
      "source": [
        "from sklearn.discriminant_analysis import LinearDiscriminantAnalysis\n",
        "from sklearn.linear_model import LogisticRegression\n",
        "from sklearn.tree import DecisionTreeClassifier\n",
        "from sklearn.ensemble import RandomForestClassifier\n",
        "from sklearn.neighbors import KNeighborsClassifier\n",
        "from sklearn.naive_bayes import GaussianNB\n",
        "from sklearn.preprocessing import StandardScaler\n",
        "from sklearn.model_selection import cross_val_score\n",
        "from sklearn.model_selection import RepeatedStratifiedKFold, KFold"
      ],
      "metadata": {
        "id": "qxKtGOJGmJjO"
      },
      "execution_count": null,
      "outputs": []
    },
    {
      "cell_type": "markdown",
      "source": [
        "Les méthodes de classification qu'on va utiliser sont: \n",
        "- La regression logistique.\n",
        "- Arbre de classification et de regression (CART).\n",
        "- Forets Aléatoires.\n",
        "- Classifieur de Naives Bayes.\n",
        "- K Nearest Neighbors.\n",
        "\n",
        "On essaiera de classifier les individus selon chacun des 3 jeux de données (Toutes les variables, Variables numériques, Variables catégorielles.) avec ses variants de balancement."
      ],
      "metadata": {
        "id": "1ZXveSe-Anud"
      }
    },
    {
      "cell_type": "markdown",
      "source": [
        "### Numerical Data"
      ],
      "metadata": {
        "id": "-GTxW-MdPPbf"
      }
    },
    {
      "cell_type": "code",
      "source": [
        "%%capture\n",
        "methods = {}\n",
        "methods['LR'] = {'model': LogisticRegression(), 'results': {}}\n",
        "methods['LDA'] = {'model': LinearDiscriminantAnalysis(), 'results': {}}\n",
        "methods['KNN'] = {'model': KNeighborsClassifier(), 'results': {}}\n",
        "methods['CART'] = {'model': DecisionTreeClassifier(), 'results': {}}\n",
        "methods['RF'] = {'model': RandomForestClassifier(), 'results': {}}\n",
        "methods['NB'] = {'model': GaussianNB(), 'results': {}}\n",
        "for name, method in methods.items():\n",
        "  model = method['model']\n",
        "  kfold = KFold(n_splits=10)\n",
        "  cv_results_original = cross_val_score(model, bank_X_numerical, bank_Y, cv=kfold, scoring='accuracy')\n",
        "  cv_results_smote = cross_val_score(model, bank_X_numerical_smote, bank_Y_smote, cv=kfold, scoring='accuracy')\n",
        "  cv_results_cc = cross_val_score(model, bank_X_numerical_cc, bank_Y_cc, cv=kfold, scoring='accuracy')\n",
        "  cv_results_smoteenn = cross_val_score(model, bank_X_numerical_smoteenn, bank_Y_smoteenn, cv=kfold, scoring='accuracy')\n",
        "  method['results']['original'] = {'mean': cv_results_original.mean(), 'max': cv_results_original.max(), 'std': cv_results_original.std()}\n",
        "  method['results']['smote'] = {'mean': cv_results_smote.mean(), 'max': cv_results_smote.max(), 'std': cv_results_smote.std()}\n",
        "  method['results']['cc'] = {'mean': cv_results_cc.mean(), 'max': cv_results_cc.max(), 'std': cv_results_cc.std()}\n",
        "  method['results']['smoteenn'] = {'mean': cv_results_smoteenn.mean(), 'max': cv_results_smoteenn.max(), 'std': cv_results_smoteenn.std()}"
      ],
      "metadata": {
        "id": "RWKHF7KkPPbg"
      },
      "execution_count": null,
      "outputs": []
    },
    {
      "cell_type": "code",
      "source": [
        "numerical_data_results = pd.DataFrame.from_dict({(i,j): methods[i]['results'][j] \n",
        "                  for i in methods.keys()\n",
        "                  for j in methods[i]['results'].keys()},\n",
        "              orient='index')"
      ],
      "metadata": {
        "id": "51JgIQTXUBCJ"
      },
      "execution_count": null,
      "outputs": []
    },
    {
      "cell_type": "code",
      "source": [
        "numerical_data_results"
      ],
      "metadata": {
        "colab": {
          "base_uri": "https://localhost:8080/",
          "height": 802
        },
        "id": "d8M2-1WJUtgv",
        "outputId": "b76d6e83-8473-4bc9-c673-eb006f27a5c8"
      },
      "execution_count": null,
      "outputs": [
        {
          "output_type": "execute_result",
          "data": {
            "text/html": [
              "\n",
              "  <div id=\"df-030b00af-2ffb-4a10-83fa-3641c049ccd7\">\n",
              "    <div class=\"colab-df-container\">\n",
              "      <div>\n",
              "<style scoped>\n",
              "    .dataframe tbody tr th:only-of-type {\n",
              "        vertical-align: middle;\n",
              "    }\n",
              "\n",
              "    .dataframe tbody tr th {\n",
              "        vertical-align: top;\n",
              "    }\n",
              "\n",
              "    .dataframe thead th {\n",
              "        text-align: right;\n",
              "    }\n",
              "</style>\n",
              "<table border=\"1\" class=\"dataframe\">\n",
              "  <thead>\n",
              "    <tr style=\"text-align: right;\">\n",
              "      <th></th>\n",
              "      <th></th>\n",
              "      <th>mean</th>\n",
              "      <th>max</th>\n",
              "      <th>std</th>\n",
              "    </tr>\n",
              "  </thead>\n",
              "  <tbody>\n",
              "    <tr>\n",
              "      <th rowspan=\"4\" valign=\"top\">LR</th>\n",
              "      <th>original</th>\n",
              "      <td>0.990000</td>\n",
              "      <td>1.000000</td>\n",
              "      <td>0.010000</td>\n",
              "    </tr>\n",
              "    <tr>\n",
              "      <th>smote</th>\n",
              "      <td>0.987143</td>\n",
              "      <td>1.000000</td>\n",
              "      <td>0.010973</td>\n",
              "    </tr>\n",
              "    <tr>\n",
              "      <th>cc</th>\n",
              "      <td>0.986667</td>\n",
              "      <td>1.000000</td>\n",
              "      <td>0.029627</td>\n",
              "    </tr>\n",
              "    <tr>\n",
              "      <th>smoteenn</th>\n",
              "      <td>0.988235</td>\n",
              "      <td>1.000000</td>\n",
              "      <td>0.023529</td>\n",
              "    </tr>\n",
              "    <tr>\n",
              "      <th rowspan=\"4\" valign=\"top\">LDA</th>\n",
              "      <th>original</th>\n",
              "      <td>0.705000</td>\n",
              "      <td>0.780000</td>\n",
              "      <td>0.047381</td>\n",
              "    </tr>\n",
              "    <tr>\n",
              "      <th>smote</th>\n",
              "      <td>0.555714</td>\n",
              "      <td>0.657143</td>\n",
              "      <td>0.054192</td>\n",
              "    </tr>\n",
              "    <tr>\n",
              "      <th>cc</th>\n",
              "      <td>0.355000</td>\n",
              "      <td>0.450000</td>\n",
              "      <td>0.099736</td>\n",
              "    </tr>\n",
              "    <tr>\n",
              "      <th>smoteenn</th>\n",
              "      <td>0.611501</td>\n",
              "      <td>0.725490</td>\n",
              "      <td>0.084045</td>\n",
              "    </tr>\n",
              "    <tr>\n",
              "      <th rowspan=\"4\" valign=\"top\">KNN</th>\n",
              "      <th>original</th>\n",
              "      <td>0.662000</td>\n",
              "      <td>0.740000</td>\n",
              "      <td>0.055642</td>\n",
              "    </tr>\n",
              "    <tr>\n",
              "      <th>smote</th>\n",
              "      <td>0.633571</td>\n",
              "      <td>0.721429</td>\n",
              "      <td>0.057592</td>\n",
              "    </tr>\n",
              "    <tr>\n",
              "      <th>cc</th>\n",
              "      <td>0.401667</td>\n",
              "      <td>0.500000</td>\n",
              "      <td>0.076540</td>\n",
              "    </tr>\n",
              "    <tr>\n",
              "      <th>smoteenn</th>\n",
              "      <td>0.889894</td>\n",
              "      <td>1.000000</td>\n",
              "      <td>0.090383</td>\n",
              "    </tr>\n",
              "    <tr>\n",
              "      <th rowspan=\"4\" valign=\"top\">CART</th>\n",
              "      <th>original</th>\n",
              "      <td>1.000000</td>\n",
              "      <td>1.000000</td>\n",
              "      <td>0.000000</td>\n",
              "    </tr>\n",
              "    <tr>\n",
              "      <th>smote</th>\n",
              "      <td>1.000000</td>\n",
              "      <td>1.000000</td>\n",
              "      <td>0.000000</td>\n",
              "    </tr>\n",
              "    <tr>\n",
              "      <th>cc</th>\n",
              "      <td>1.000000</td>\n",
              "      <td>1.000000</td>\n",
              "      <td>0.000000</td>\n",
              "    </tr>\n",
              "    <tr>\n",
              "      <th>smoteenn</th>\n",
              "      <td>1.000000</td>\n",
              "      <td>1.000000</td>\n",
              "      <td>0.000000</td>\n",
              "    </tr>\n",
              "    <tr>\n",
              "      <th rowspan=\"4\" valign=\"top\">RF</th>\n",
              "      <th>original</th>\n",
              "      <td>1.000000</td>\n",
              "      <td>1.000000</td>\n",
              "      <td>0.000000</td>\n",
              "    </tr>\n",
              "    <tr>\n",
              "      <th>smote</th>\n",
              "      <td>1.000000</td>\n",
              "      <td>1.000000</td>\n",
              "      <td>0.000000</td>\n",
              "    </tr>\n",
              "    <tr>\n",
              "      <th>cc</th>\n",
              "      <td>1.000000</td>\n",
              "      <td>1.000000</td>\n",
              "      <td>0.000000</td>\n",
              "    </tr>\n",
              "    <tr>\n",
              "      <th>smoteenn</th>\n",
              "      <td>1.000000</td>\n",
              "      <td>1.000000</td>\n",
              "      <td>0.000000</td>\n",
              "    </tr>\n",
              "    <tr>\n",
              "      <th rowspan=\"4\" valign=\"top\">NB</th>\n",
              "      <th>original</th>\n",
              "      <td>1.000000</td>\n",
              "      <td>1.000000</td>\n",
              "      <td>0.000000</td>\n",
              "    </tr>\n",
              "    <tr>\n",
              "      <th>smote</th>\n",
              "      <td>1.000000</td>\n",
              "      <td>1.000000</td>\n",
              "      <td>0.000000</td>\n",
              "    </tr>\n",
              "    <tr>\n",
              "      <th>cc</th>\n",
              "      <td>1.000000</td>\n",
              "      <td>1.000000</td>\n",
              "      <td>0.000000</td>\n",
              "    </tr>\n",
              "    <tr>\n",
              "      <th>smoteenn</th>\n",
              "      <td>1.000000</td>\n",
              "      <td>1.000000</td>\n",
              "      <td>0.000000</td>\n",
              "    </tr>\n",
              "  </tbody>\n",
              "</table>\n",
              "</div>\n",
              "      <button class=\"colab-df-convert\" onclick=\"convertToInteractive('df-030b00af-2ffb-4a10-83fa-3641c049ccd7')\"\n",
              "              title=\"Convert this dataframe to an interactive table.\"\n",
              "              style=\"display:none;\">\n",
              "        \n",
              "  <svg xmlns=\"http://www.w3.org/2000/svg\" height=\"24px\"viewBox=\"0 0 24 24\"\n",
              "       width=\"24px\">\n",
              "    <path d=\"M0 0h24v24H0V0z\" fill=\"none\"/>\n",
              "    <path d=\"M18.56 5.44l.94 2.06.94-2.06 2.06-.94-2.06-.94-.94-2.06-.94 2.06-2.06.94zm-11 1L8.5 8.5l.94-2.06 2.06-.94-2.06-.94L8.5 2.5l-.94 2.06-2.06.94zm10 10l.94 2.06.94-2.06 2.06-.94-2.06-.94-.94-2.06-.94 2.06-2.06.94z\"/><path d=\"M17.41 7.96l-1.37-1.37c-.4-.4-.92-.59-1.43-.59-.52 0-1.04.2-1.43.59L10.3 9.45l-7.72 7.72c-.78.78-.78 2.05 0 2.83L4 21.41c.39.39.9.59 1.41.59.51 0 1.02-.2 1.41-.59l7.78-7.78 2.81-2.81c.8-.78.8-2.07 0-2.86zM5.41 20L4 18.59l7.72-7.72 1.47 1.35L5.41 20z\"/>\n",
              "  </svg>\n",
              "      </button>\n",
              "      \n",
              "  <style>\n",
              "    .colab-df-container {\n",
              "      display:flex;\n",
              "      flex-wrap:wrap;\n",
              "      gap: 12px;\n",
              "    }\n",
              "\n",
              "    .colab-df-convert {\n",
              "      background-color: #E8F0FE;\n",
              "      border: none;\n",
              "      border-radius: 50%;\n",
              "      cursor: pointer;\n",
              "      display: none;\n",
              "      fill: #1967D2;\n",
              "      height: 32px;\n",
              "      padding: 0 0 0 0;\n",
              "      width: 32px;\n",
              "    }\n",
              "\n",
              "    .colab-df-convert:hover {\n",
              "      background-color: #E2EBFA;\n",
              "      box-shadow: 0px 1px 2px rgba(60, 64, 67, 0.3), 0px 1px 3px 1px rgba(60, 64, 67, 0.15);\n",
              "      fill: #174EA6;\n",
              "    }\n",
              "\n",
              "    [theme=dark] .colab-df-convert {\n",
              "      background-color: #3B4455;\n",
              "      fill: #D2E3FC;\n",
              "    }\n",
              "\n",
              "    [theme=dark] .colab-df-convert:hover {\n",
              "      background-color: #434B5C;\n",
              "      box-shadow: 0px 1px 3px 1px rgba(0, 0, 0, 0.15);\n",
              "      filter: drop-shadow(0px 1px 2px rgba(0, 0, 0, 0.3));\n",
              "      fill: #FFFFFF;\n",
              "    }\n",
              "  </style>\n",
              "\n",
              "      <script>\n",
              "        const buttonEl =\n",
              "          document.querySelector('#df-030b00af-2ffb-4a10-83fa-3641c049ccd7 button.colab-df-convert');\n",
              "        buttonEl.style.display =\n",
              "          google.colab.kernel.accessAllowed ? 'block' : 'none';\n",
              "\n",
              "        async function convertToInteractive(key) {\n",
              "          const element = document.querySelector('#df-030b00af-2ffb-4a10-83fa-3641c049ccd7');\n",
              "          const dataTable =\n",
              "            await google.colab.kernel.invokeFunction('convertToInteractive',\n",
              "                                                     [key], {});\n",
              "          if (!dataTable) return;\n",
              "\n",
              "          const docLinkHtml = 'Like what you see? Visit the ' +\n",
              "            '<a target=\"_blank\" href=https://colab.research.google.com/notebooks/data_table.ipynb>data table notebook</a>'\n",
              "            + ' to learn more about interactive tables.';\n",
              "          element.innerHTML = '';\n",
              "          dataTable['output_type'] = 'display_data';\n",
              "          await google.colab.output.renderOutput(dataTable, element);\n",
              "          const docLink = document.createElement('div');\n",
              "          docLink.innerHTML = docLinkHtml;\n",
              "          element.appendChild(docLink);\n",
              "        }\n",
              "      </script>\n",
              "    </div>\n",
              "  </div>\n",
              "  "
            ],
            "text/plain": [
              "                   mean       max       std\n",
              "LR   original  0.990000  1.000000  0.010000\n",
              "     smote     0.987143  1.000000  0.010973\n",
              "     cc        0.986667  1.000000  0.029627\n",
              "     smoteenn  0.988235  1.000000  0.023529\n",
              "LDA  original  0.705000  0.780000  0.047381\n",
              "     smote     0.555714  0.657143  0.054192\n",
              "     cc        0.355000  0.450000  0.099736\n",
              "     smoteenn  0.611501  0.725490  0.084045\n",
              "KNN  original  0.662000  0.740000  0.055642\n",
              "     smote     0.633571  0.721429  0.057592\n",
              "     cc        0.401667  0.500000  0.076540\n",
              "     smoteenn  0.889894  1.000000  0.090383\n",
              "CART original  1.000000  1.000000  0.000000\n",
              "     smote     1.000000  1.000000  0.000000\n",
              "     cc        1.000000  1.000000  0.000000\n",
              "     smoteenn  1.000000  1.000000  0.000000\n",
              "RF   original  1.000000  1.000000  0.000000\n",
              "     smote     1.000000  1.000000  0.000000\n",
              "     cc        1.000000  1.000000  0.000000\n",
              "     smoteenn  1.000000  1.000000  0.000000\n",
              "NB   original  1.000000  1.000000  0.000000\n",
              "     smote     1.000000  1.000000  0.000000\n",
              "     cc        1.000000  1.000000  0.000000\n",
              "     smoteenn  1.000000  1.000000  0.000000"
            ]
          },
          "metadata": {},
          "execution_count": 80
        }
      ]
    },
    {
      "cell_type": "markdown",
      "source": [
        "Sur les données numériques, on a pu arriver à de bonne performances en terme de la métrique d'Accuracy, en constatant que le balancement de données n'a pas toujours aidé à améliorer les performances, et parfois il a même conduit à des dégradation en performances.\n",
        "\n",
        "Ceci peut se justifier par le fait que l'inéquilibre n'est pas très significatif (70% face à 30%). Ainsi, le nombre d'individus étant pas très grand, certaines méthdoes de balancement de données font réduire encre plus ce nombre d'individus ce qui ramène à des jeux de données moins riches en termes de données.\n",
        "\n",
        "Le classifieur Naives Bayes étant l'un des meilleurs algorithme pour ce jeu de données, vu qu'il propose des séparation qui peuvent être quadratiques et donc plus adéquate aux différentes formes de données. Et c'est la raison pour laquelle la LDA n'a pas bien perofrmé vu la non-égalité entre les volumes et les formes des deux classes.\n",
        "\n",
        "Les arbres de classification ont également donnée de bons résultats, "
      ],
      "metadata": {
        "id": "ZxqXsUOlBmnX"
      }
    },
    {
      "cell_type": "markdown",
      "source": [
        "### Cateogircal Data"
      ],
      "metadata": {
        "id": "SJpB_y2FWmTX"
      }
    },
    {
      "cell_type": "code",
      "source": [
        "%%capture\n",
        "methods = {}\n",
        "methods['LR'] = {'model': LogisticRegression(), 'results': {}}\n",
        "methods['LDA'] = {'model': LinearDiscriminantAnalysis(), 'results': {}}\n",
        "methods['KNN'] = {'model': KNeighborsClassifier(), 'results': {}}\n",
        "methods['CART'] = {'model': DecisionTreeClassifier(), 'results': {}}\n",
        "methods['RF'] = {'model': RandomForestClassifier(), 'results': {}}\n",
        "methods['NB'] = {'model': GaussianNB(), 'results': {}}\n",
        "for name, method in methods.items():\n",
        "  model = method['model']\n",
        "  kfold = KFold(n_splits=10)\n",
        "  cv_results_original = cross_val_score(model, bank_X_categorical, bank_Y, cv=kfold, scoring='accuracy')\n",
        "  cv_results_smote = cross_val_score(model, bank_X_categorical_smote, bank_Y_smote, cv=kfold, scoring='accuracy')\n",
        "  cv_results_cc = cross_val_score(model, bank_X_categorical_cc, bank_Y_cc, cv=kfold, scoring='accuracy')\n",
        "  cv_results_smoteenn = cross_val_score(model, bank_X_categorical_smoteenn, bank_Y_smoteenn, cv=kfold, scoring='accuracy')\n",
        "  method['results']['original'] = {'mean': cv_results_original.mean(), 'max': cv_results_original.max(), 'std': cv_results_original.std()}\n",
        "  method['results']['smote'] = {'mean': cv_results_smote.mean(), 'max': cv_results_smote.max(), 'std': cv_results_smote.std()}\n",
        "  method['results']['cc'] = {'mean': cv_results_cc.mean(), 'max': cv_results_cc.max(), 'std': cv_results_cc.std()}\n",
        "  method['results']['smoteenn'] = {'mean': cv_results_smoteenn.mean(), 'max': cv_results_smoteenn.max(), 'std': cv_results_smoteenn.std()}"
      ],
      "metadata": {
        "id": "n08J1wF7WmTh"
      },
      "execution_count": null,
      "outputs": []
    },
    {
      "cell_type": "code",
      "source": [
        "categorical_data_results = pd.DataFrame.from_dict({(i,j): methods[i]['results'][j] \n",
        "                  for i in methods.keys()\n",
        "                  for j in methods[i]['results'].keys()},\n",
        "              orient='index')"
      ],
      "metadata": {
        "id": "-dTlERkjWmTh"
      },
      "execution_count": null,
      "outputs": []
    },
    {
      "cell_type": "code",
      "source": [
        "categorical_data_results"
      ],
      "metadata": {
        "colab": {
          "base_uri": "https://localhost:8080/",
          "height": 802
        },
        "outputId": "54beb2c6-d8a4-4cdf-c62d-9d922e8526dc",
        "id": "HCJjE4YDWmTh"
      },
      "execution_count": null,
      "outputs": [
        {
          "output_type": "execute_result",
          "data": {
            "text/html": [
              "\n",
              "  <div id=\"df-5d768f4b-e113-46f6-9844-17b3ab7f00bc\">\n",
              "    <div class=\"colab-df-container\">\n",
              "      <div>\n",
              "<style scoped>\n",
              "    .dataframe tbody tr th:only-of-type {\n",
              "        vertical-align: middle;\n",
              "    }\n",
              "\n",
              "    .dataframe tbody tr th {\n",
              "        vertical-align: top;\n",
              "    }\n",
              "\n",
              "    .dataframe thead th {\n",
              "        text-align: right;\n",
              "    }\n",
              "</style>\n",
              "<table border=\"1\" class=\"dataframe\">\n",
              "  <thead>\n",
              "    <tr style=\"text-align: right;\">\n",
              "      <th></th>\n",
              "      <th></th>\n",
              "      <th>mean</th>\n",
              "      <th>max</th>\n",
              "      <th>std</th>\n",
              "    </tr>\n",
              "  </thead>\n",
              "  <tbody>\n",
              "    <tr>\n",
              "      <th rowspan=\"4\" valign=\"top\">LR</th>\n",
              "      <th>original</th>\n",
              "      <td>0.736000</td>\n",
              "      <td>0.790000</td>\n",
              "      <td>0.034409</td>\n",
              "    </tr>\n",
              "    <tr>\n",
              "      <th>smote</th>\n",
              "      <td>0.695714</td>\n",
              "      <td>0.735714</td>\n",
              "      <td>0.036169</td>\n",
              "    </tr>\n",
              "    <tr>\n",
              "      <th>cc</th>\n",
              "      <td>0.556667</td>\n",
              "      <td>0.650000</td>\n",
              "      <td>0.065064</td>\n",
              "    </tr>\n",
              "    <tr>\n",
              "      <th>smoteenn</th>\n",
              "      <td>0.842324</td>\n",
              "      <td>0.959459</td>\n",
              "      <td>0.105917</td>\n",
              "    </tr>\n",
              "    <tr>\n",
              "      <th rowspan=\"4\" valign=\"top\">LDA</th>\n",
              "      <th>original</th>\n",
              "      <td>0.732000</td>\n",
              "      <td>0.790000</td>\n",
              "      <td>0.031875</td>\n",
              "    </tr>\n",
              "    <tr>\n",
              "      <th>smote</th>\n",
              "      <td>0.697857</td>\n",
              "      <td>0.742857</td>\n",
              "      <td>0.042022</td>\n",
              "    </tr>\n",
              "    <tr>\n",
              "      <th>cc</th>\n",
              "      <td>0.566667</td>\n",
              "      <td>0.650000</td>\n",
              "      <td>0.062805</td>\n",
              "    </tr>\n",
              "    <tr>\n",
              "      <th>smoteenn</th>\n",
              "      <td>0.858468</td>\n",
              "      <td>0.972973</td>\n",
              "      <td>0.095124</td>\n",
              "    </tr>\n",
              "    <tr>\n",
              "      <th rowspan=\"4\" valign=\"top\">KNN</th>\n",
              "      <th>original</th>\n",
              "      <td>0.719000</td>\n",
              "      <td>0.770000</td>\n",
              "      <td>0.037000</td>\n",
              "    </tr>\n",
              "    <tr>\n",
              "      <th>smote</th>\n",
              "      <td>0.753571</td>\n",
              "      <td>0.928571</td>\n",
              "      <td>0.106964</td>\n",
              "    </tr>\n",
              "    <tr>\n",
              "      <th>cc</th>\n",
              "      <td>0.491667</td>\n",
              "      <td>0.650000</td>\n",
              "      <td>0.060668</td>\n",
              "    </tr>\n",
              "    <tr>\n",
              "      <th>smoteenn</th>\n",
              "      <td>0.901694</td>\n",
              "      <td>1.000000</td>\n",
              "      <td>0.114684</td>\n",
              "    </tr>\n",
              "    <tr>\n",
              "      <th rowspan=\"4\" valign=\"top\">CART</th>\n",
              "      <th>original</th>\n",
              "      <td>0.666000</td>\n",
              "      <td>0.740000</td>\n",
              "      <td>0.043863</td>\n",
              "    </tr>\n",
              "    <tr>\n",
              "      <th>smote</th>\n",
              "      <td>0.716429</td>\n",
              "      <td>0.885714</td>\n",
              "      <td>0.087485</td>\n",
              "    </tr>\n",
              "    <tr>\n",
              "      <th>cc</th>\n",
              "      <td>0.638333</td>\n",
              "      <td>0.816667</td>\n",
              "      <td>0.096047</td>\n",
              "    </tr>\n",
              "    <tr>\n",
              "      <th>smoteenn</th>\n",
              "      <td>0.875946</td>\n",
              "      <td>0.959459</td>\n",
              "      <td>0.073187</td>\n",
              "    </tr>\n",
              "    <tr>\n",
              "      <th rowspan=\"4\" valign=\"top\">RF</th>\n",
              "      <th>original</th>\n",
              "      <td>0.743000</td>\n",
              "      <td>0.820000</td>\n",
              "      <td>0.037961</td>\n",
              "    </tr>\n",
              "    <tr>\n",
              "      <th>smote</th>\n",
              "      <td>0.799286</td>\n",
              "      <td>0.957143</td>\n",
              "      <td>0.086923</td>\n",
              "    </tr>\n",
              "    <tr>\n",
              "      <th>cc</th>\n",
              "      <td>0.683333</td>\n",
              "      <td>0.850000</td>\n",
              "      <td>0.118322</td>\n",
              "    </tr>\n",
              "    <tr>\n",
              "      <th>smoteenn</th>\n",
              "      <td>0.916505</td>\n",
              "      <td>1.000000</td>\n",
              "      <td>0.078269</td>\n",
              "    </tr>\n",
              "    <tr>\n",
              "      <th rowspan=\"4\" valign=\"top\">NB</th>\n",
              "      <th>original</th>\n",
              "      <td>0.699000</td>\n",
              "      <td>0.760000</td>\n",
              "      <td>0.041821</td>\n",
              "    </tr>\n",
              "    <tr>\n",
              "      <th>smote</th>\n",
              "      <td>0.626429</td>\n",
              "      <td>0.900000</td>\n",
              "      <td>0.176850</td>\n",
              "    </tr>\n",
              "    <tr>\n",
              "      <th>cc</th>\n",
              "      <td>0.566667</td>\n",
              "      <td>0.800000</td>\n",
              "      <td>0.123153</td>\n",
              "    </tr>\n",
              "    <tr>\n",
              "      <th>smoteenn</th>\n",
              "      <td>0.853189</td>\n",
              "      <td>0.986486</td>\n",
              "      <td>0.151172</td>\n",
              "    </tr>\n",
              "  </tbody>\n",
              "</table>\n",
              "</div>\n",
              "      <button class=\"colab-df-convert\" onclick=\"convertToInteractive('df-5d768f4b-e113-46f6-9844-17b3ab7f00bc')\"\n",
              "              title=\"Convert this dataframe to an interactive table.\"\n",
              "              style=\"display:none;\">\n",
              "        \n",
              "  <svg xmlns=\"http://www.w3.org/2000/svg\" height=\"24px\"viewBox=\"0 0 24 24\"\n",
              "       width=\"24px\">\n",
              "    <path d=\"M0 0h24v24H0V0z\" fill=\"none\"/>\n",
              "    <path d=\"M18.56 5.44l.94 2.06.94-2.06 2.06-.94-2.06-.94-.94-2.06-.94 2.06-2.06.94zm-11 1L8.5 8.5l.94-2.06 2.06-.94-2.06-.94L8.5 2.5l-.94 2.06-2.06.94zm10 10l.94 2.06.94-2.06 2.06-.94-2.06-.94-.94-2.06-.94 2.06-2.06.94z\"/><path d=\"M17.41 7.96l-1.37-1.37c-.4-.4-.92-.59-1.43-.59-.52 0-1.04.2-1.43.59L10.3 9.45l-7.72 7.72c-.78.78-.78 2.05 0 2.83L4 21.41c.39.39.9.59 1.41.59.51 0 1.02-.2 1.41-.59l7.78-7.78 2.81-2.81c.8-.78.8-2.07 0-2.86zM5.41 20L4 18.59l7.72-7.72 1.47 1.35L5.41 20z\"/>\n",
              "  </svg>\n",
              "      </button>\n",
              "      \n",
              "  <style>\n",
              "    .colab-df-container {\n",
              "      display:flex;\n",
              "      flex-wrap:wrap;\n",
              "      gap: 12px;\n",
              "    }\n",
              "\n",
              "    .colab-df-convert {\n",
              "      background-color: #E8F0FE;\n",
              "      border: none;\n",
              "      border-radius: 50%;\n",
              "      cursor: pointer;\n",
              "      display: none;\n",
              "      fill: #1967D2;\n",
              "      height: 32px;\n",
              "      padding: 0 0 0 0;\n",
              "      width: 32px;\n",
              "    }\n",
              "\n",
              "    .colab-df-convert:hover {\n",
              "      background-color: #E2EBFA;\n",
              "      box-shadow: 0px 1px 2px rgba(60, 64, 67, 0.3), 0px 1px 3px 1px rgba(60, 64, 67, 0.15);\n",
              "      fill: #174EA6;\n",
              "    }\n",
              "\n",
              "    [theme=dark] .colab-df-convert {\n",
              "      background-color: #3B4455;\n",
              "      fill: #D2E3FC;\n",
              "    }\n",
              "\n",
              "    [theme=dark] .colab-df-convert:hover {\n",
              "      background-color: #434B5C;\n",
              "      box-shadow: 0px 1px 3px 1px rgba(0, 0, 0, 0.15);\n",
              "      filter: drop-shadow(0px 1px 2px rgba(0, 0, 0, 0.3));\n",
              "      fill: #FFFFFF;\n",
              "    }\n",
              "  </style>\n",
              "\n",
              "      <script>\n",
              "        const buttonEl =\n",
              "          document.querySelector('#df-5d768f4b-e113-46f6-9844-17b3ab7f00bc button.colab-df-convert');\n",
              "        buttonEl.style.display =\n",
              "          google.colab.kernel.accessAllowed ? 'block' : 'none';\n",
              "\n",
              "        async function convertToInteractive(key) {\n",
              "          const element = document.querySelector('#df-5d768f4b-e113-46f6-9844-17b3ab7f00bc');\n",
              "          const dataTable =\n",
              "            await google.colab.kernel.invokeFunction('convertToInteractive',\n",
              "                                                     [key], {});\n",
              "          if (!dataTable) return;\n",
              "\n",
              "          const docLinkHtml = 'Like what you see? Visit the ' +\n",
              "            '<a target=\"_blank\" href=https://colab.research.google.com/notebooks/data_table.ipynb>data table notebook</a>'\n",
              "            + ' to learn more about interactive tables.';\n",
              "          element.innerHTML = '';\n",
              "          dataTable['output_type'] = 'display_data';\n",
              "          await google.colab.output.renderOutput(dataTable, element);\n",
              "          const docLink = document.createElement('div');\n",
              "          docLink.innerHTML = docLinkHtml;\n",
              "          element.appendChild(docLink);\n",
              "        }\n",
              "      </script>\n",
              "    </div>\n",
              "  </div>\n",
              "  "
            ],
            "text/plain": [
              "                   mean       max       std\n",
              "LR   original  0.736000  0.790000  0.034409\n",
              "     smote     0.695714  0.735714  0.036169\n",
              "     cc        0.556667  0.650000  0.065064\n",
              "     smoteenn  0.842324  0.959459  0.105917\n",
              "LDA  original  0.732000  0.790000  0.031875\n",
              "     smote     0.697857  0.742857  0.042022\n",
              "     cc        0.566667  0.650000  0.062805\n",
              "     smoteenn  0.858468  0.972973  0.095124\n",
              "KNN  original  0.719000  0.770000  0.037000\n",
              "     smote     0.753571  0.928571  0.106964\n",
              "     cc        0.491667  0.650000  0.060668\n",
              "     smoteenn  0.901694  1.000000  0.114684\n",
              "CART original  0.666000  0.740000  0.043863\n",
              "     smote     0.716429  0.885714  0.087485\n",
              "     cc        0.638333  0.816667  0.096047\n",
              "     smoteenn  0.875946  0.959459  0.073187\n",
              "RF   original  0.743000  0.820000  0.037961\n",
              "     smote     0.799286  0.957143  0.086923\n",
              "     cc        0.683333  0.850000  0.118322\n",
              "     smoteenn  0.916505  1.000000  0.078269\n",
              "NB   original  0.699000  0.760000  0.041821\n",
              "     smote     0.626429  0.900000  0.176850\n",
              "     cc        0.566667  0.800000  0.123153\n",
              "     smoteenn  0.853189  0.986486  0.151172"
            ]
          },
          "metadata": {},
          "execution_count": 90
        }
      ]
    },
    {
      "cell_type": "markdown",
      "source": [
        "### All Data"
      ],
      "metadata": {
        "id": "PeDz2wtZWnC5"
      }
    },
    {
      "cell_type": "code",
      "source": [
        "%%capture\n",
        "methods = {}\n",
        "methods['LR'] = {'model': LogisticRegression(), 'results': {}}\n",
        "methods['LDA'] = {'model': LinearDiscriminantAnalysis(), 'results': {}}\n",
        "methods['KNN'] = {'model': KNeighborsClassifier(), 'results': {}}\n",
        "methods['CART'] = {'model': DecisionTreeClassifier(), 'results': {}}\n",
        "methods['RF'] = {'model': RandomForestClassifier(), 'results': {}}\n",
        "methods['NB'] = {'model': GaussianNB(), 'results': {}}\n",
        "for name, method in methods.items():\n",
        "  model = method['model']\n",
        "  kfold = KFold(n_splits=10)\n",
        "  cv_results_original = cross_val_score(model, bank_X, bank_Y, cv=kfold, scoring='accuracy')\n",
        "  cv_results_smote = cross_val_score(model, bank_X_smote, bank_Y_smote, cv=kfold, scoring='accuracy')\n",
        "  cv_results_cc = cross_val_score(model, bank_X_cc, bank_Y_cc, cv=kfold, scoring='accuracy')\n",
        "  cv_results_smoteenn = cross_val_score(model, bank_X_smoteenn, bank_Y_smoteenn, cv=kfold, scoring='accuracy')\n",
        "  method['results']['original'] = {'mean': cv_results_original.mean(), 'max': cv_results_original.max(), 'std': cv_results_original.std()}\n",
        "  method['results']['smote'] = {'mean': cv_results_smote.mean(), 'max': cv_results_smote.max(), 'std': cv_results_smote.std()}\n",
        "  method['results']['cc'] = {'mean': cv_results_cc.mean(), 'max': cv_results_cc.max(), 'std': cv_results_cc.std()}\n",
        "  method['results']['smoteenn'] = {'mean': cv_results_smoteenn.mean(), 'max': cv_results_smoteenn.max(), 'std': cv_results_smoteenn.std()}"
      ],
      "metadata": {
        "id": "thqYe4efWnC6"
      },
      "execution_count": null,
      "outputs": []
    },
    {
      "cell_type": "code",
      "source": [
        "all_data_results = pd.DataFrame.from_dict({(i,j): methods[i]['results'][j] \n",
        "                  for i in methods.keys()\n",
        "                  for j in methods[i]['results'].keys()},\n",
        "              orient='index')"
      ],
      "metadata": {
        "id": "f68YOtMBWnC6"
      },
      "execution_count": null,
      "outputs": []
    },
    {
      "cell_type": "code",
      "source": [
        "all_data_results"
      ],
      "metadata": {
        "colab": {
          "base_uri": "https://localhost:8080/",
          "height": 802
        },
        "outputId": "a5600985-8464-4ce6-90fc-8655f340a0ee",
        "id": "DPPw_H0QWnC7"
      },
      "execution_count": null,
      "outputs": [
        {
          "output_type": "execute_result",
          "data": {
            "text/html": [
              "\n",
              "  <div id=\"df-d4d80541-51be-4f7a-abc7-3774c24aa3c1\">\n",
              "    <div class=\"colab-df-container\">\n",
              "      <div>\n",
              "<style scoped>\n",
              "    .dataframe tbody tr th:only-of-type {\n",
              "        vertical-align: middle;\n",
              "    }\n",
              "\n",
              "    .dataframe tbody tr th {\n",
              "        vertical-align: top;\n",
              "    }\n",
              "\n",
              "    .dataframe thead th {\n",
              "        text-align: right;\n",
              "    }\n",
              "</style>\n",
              "<table border=\"1\" class=\"dataframe\">\n",
              "  <thead>\n",
              "    <tr style=\"text-align: right;\">\n",
              "      <th></th>\n",
              "      <th></th>\n",
              "      <th>mean</th>\n",
              "      <th>max</th>\n",
              "      <th>std</th>\n",
              "    </tr>\n",
              "  </thead>\n",
              "  <tbody>\n",
              "    <tr>\n",
              "      <th rowspan=\"4\" valign=\"top\">LR</th>\n",
              "      <th>original</th>\n",
              "      <td>0.734000</td>\n",
              "      <td>0.790000</td>\n",
              "      <td>0.050040</td>\n",
              "    </tr>\n",
              "    <tr>\n",
              "      <th>smote</th>\n",
              "      <td>0.707857</td>\n",
              "      <td>0.771429</td>\n",
              "      <td>0.034912</td>\n",
              "    </tr>\n",
              "    <tr>\n",
              "      <th>cc</th>\n",
              "      <td>0.611667</td>\n",
              "      <td>0.716667</td>\n",
              "      <td>0.074554</td>\n",
              "    </tr>\n",
              "    <tr>\n",
              "      <th>smoteenn</th>\n",
              "      <td>0.711199</td>\n",
              "      <td>0.901961</td>\n",
              "      <td>0.103766</td>\n",
              "    </tr>\n",
              "    <tr>\n",
              "      <th rowspan=\"4\" valign=\"top\">LDA</th>\n",
              "      <th>original</th>\n",
              "      <td>0.738000</td>\n",
              "      <td>0.790000</td>\n",
              "      <td>0.042849</td>\n",
              "    </tr>\n",
              "    <tr>\n",
              "      <th>smote</th>\n",
              "      <td>0.721429</td>\n",
              "      <td>0.814286</td>\n",
              "      <td>0.058815</td>\n",
              "    </tr>\n",
              "    <tr>\n",
              "      <th>cc</th>\n",
              "      <td>0.616667</td>\n",
              "      <td>0.733333</td>\n",
              "      <td>0.064550</td>\n",
              "    </tr>\n",
              "    <tr>\n",
              "      <th>smoteenn</th>\n",
              "      <td>0.723115</td>\n",
              "      <td>0.921569</td>\n",
              "      <td>0.118606</td>\n",
              "    </tr>\n",
              "    <tr>\n",
              "      <th rowspan=\"4\" valign=\"top\">KNN</th>\n",
              "      <th>original</th>\n",
              "      <td>0.660000</td>\n",
              "      <td>0.740000</td>\n",
              "      <td>0.054222</td>\n",
              "    </tr>\n",
              "    <tr>\n",
              "      <th>smote</th>\n",
              "      <td>0.667143</td>\n",
              "      <td>0.757143</td>\n",
              "      <td>0.062532</td>\n",
              "    </tr>\n",
              "    <tr>\n",
              "      <th>cc</th>\n",
              "      <td>0.406667</td>\n",
              "      <td>0.483333</td>\n",
              "      <td>0.054365</td>\n",
              "    </tr>\n",
              "    <tr>\n",
              "      <th>smoteenn</th>\n",
              "      <td>0.813122</td>\n",
              "      <td>0.941176</td>\n",
              "      <td>0.102385</td>\n",
              "    </tr>\n",
              "    <tr>\n",
              "      <th rowspan=\"4\" valign=\"top\">CART</th>\n",
              "      <th>original</th>\n",
              "      <td>0.687000</td>\n",
              "      <td>0.730000</td>\n",
              "      <td>0.029682</td>\n",
              "    </tr>\n",
              "    <tr>\n",
              "      <th>smote</th>\n",
              "      <td>0.735000</td>\n",
              "      <td>0.842857</td>\n",
              "      <td>0.070959</td>\n",
              "    </tr>\n",
              "    <tr>\n",
              "      <th>cc</th>\n",
              "      <td>0.745000</td>\n",
              "      <td>0.816667</td>\n",
              "      <td>0.055302</td>\n",
              "    </tr>\n",
              "    <tr>\n",
              "      <th>smoteenn</th>\n",
              "      <td>0.764027</td>\n",
              "      <td>0.941176</td>\n",
              "      <td>0.143601</td>\n",
              "    </tr>\n",
              "    <tr>\n",
              "      <th rowspan=\"4\" valign=\"top\">RF</th>\n",
              "      <th>original</th>\n",
              "      <td>0.766000</td>\n",
              "      <td>0.850000</td>\n",
              "      <td>0.057306</td>\n",
              "    </tr>\n",
              "    <tr>\n",
              "      <th>smote</th>\n",
              "      <td>0.816429</td>\n",
              "      <td>0.957143</td>\n",
              "      <td>0.073056</td>\n",
              "    </tr>\n",
              "    <tr>\n",
              "      <th>cc</th>\n",
              "      <td>0.786667</td>\n",
              "      <td>0.866667</td>\n",
              "      <td>0.062716</td>\n",
              "    </tr>\n",
              "    <tr>\n",
              "      <th>smoteenn</th>\n",
              "      <td>0.822775</td>\n",
              "      <td>0.980392</td>\n",
              "      <td>0.108510</td>\n",
              "    </tr>\n",
              "    <tr>\n",
              "      <th rowspan=\"4\" valign=\"top\">NB</th>\n",
              "      <th>original</th>\n",
              "      <td>0.726000</td>\n",
              "      <td>0.760000</td>\n",
              "      <td>0.032619</td>\n",
              "    </tr>\n",
              "    <tr>\n",
              "      <th>smote</th>\n",
              "      <td>0.724286</td>\n",
              "      <td>0.892857</td>\n",
              "      <td>0.107009</td>\n",
              "    </tr>\n",
              "    <tr>\n",
              "      <th>cc</th>\n",
              "      <td>0.675000</td>\n",
              "      <td>0.833333</td>\n",
              "      <td>0.081735</td>\n",
              "    </tr>\n",
              "    <tr>\n",
              "      <th>smoteenn</th>\n",
              "      <td>0.731033</td>\n",
              "      <td>0.941176</td>\n",
              "      <td>0.157865</td>\n",
              "    </tr>\n",
              "  </tbody>\n",
              "</table>\n",
              "</div>\n",
              "      <button class=\"colab-df-convert\" onclick=\"convertToInteractive('df-d4d80541-51be-4f7a-abc7-3774c24aa3c1')\"\n",
              "              title=\"Convert this dataframe to an interactive table.\"\n",
              "              style=\"display:none;\">\n",
              "        \n",
              "  <svg xmlns=\"http://www.w3.org/2000/svg\" height=\"24px\"viewBox=\"0 0 24 24\"\n",
              "       width=\"24px\">\n",
              "    <path d=\"M0 0h24v24H0V0z\" fill=\"none\"/>\n",
              "    <path d=\"M18.56 5.44l.94 2.06.94-2.06 2.06-.94-2.06-.94-.94-2.06-.94 2.06-2.06.94zm-11 1L8.5 8.5l.94-2.06 2.06-.94-2.06-.94L8.5 2.5l-.94 2.06-2.06.94zm10 10l.94 2.06.94-2.06 2.06-.94-2.06-.94-.94-2.06-.94 2.06-2.06.94z\"/><path d=\"M17.41 7.96l-1.37-1.37c-.4-.4-.92-.59-1.43-.59-.52 0-1.04.2-1.43.59L10.3 9.45l-7.72 7.72c-.78.78-.78 2.05 0 2.83L4 21.41c.39.39.9.59 1.41.59.51 0 1.02-.2 1.41-.59l7.78-7.78 2.81-2.81c.8-.78.8-2.07 0-2.86zM5.41 20L4 18.59l7.72-7.72 1.47 1.35L5.41 20z\"/>\n",
              "  </svg>\n",
              "      </button>\n",
              "      \n",
              "  <style>\n",
              "    .colab-df-container {\n",
              "      display:flex;\n",
              "      flex-wrap:wrap;\n",
              "      gap: 12px;\n",
              "    }\n",
              "\n",
              "    .colab-df-convert {\n",
              "      background-color: #E8F0FE;\n",
              "      border: none;\n",
              "      border-radius: 50%;\n",
              "      cursor: pointer;\n",
              "      display: none;\n",
              "      fill: #1967D2;\n",
              "      height: 32px;\n",
              "      padding: 0 0 0 0;\n",
              "      width: 32px;\n",
              "    }\n",
              "\n",
              "    .colab-df-convert:hover {\n",
              "      background-color: #E2EBFA;\n",
              "      box-shadow: 0px 1px 2px rgba(60, 64, 67, 0.3), 0px 1px 3px 1px rgba(60, 64, 67, 0.15);\n",
              "      fill: #174EA6;\n",
              "    }\n",
              "\n",
              "    [theme=dark] .colab-df-convert {\n",
              "      background-color: #3B4455;\n",
              "      fill: #D2E3FC;\n",
              "    }\n",
              "\n",
              "    [theme=dark] .colab-df-convert:hover {\n",
              "      background-color: #434B5C;\n",
              "      box-shadow: 0px 1px 3px 1px rgba(0, 0, 0, 0.15);\n",
              "      filter: drop-shadow(0px 1px 2px rgba(0, 0, 0, 0.3));\n",
              "      fill: #FFFFFF;\n",
              "    }\n",
              "  </style>\n",
              "\n",
              "      <script>\n",
              "        const buttonEl =\n",
              "          document.querySelector('#df-d4d80541-51be-4f7a-abc7-3774c24aa3c1 button.colab-df-convert');\n",
              "        buttonEl.style.display =\n",
              "          google.colab.kernel.accessAllowed ? 'block' : 'none';\n",
              "\n",
              "        async function convertToInteractive(key) {\n",
              "          const element = document.querySelector('#df-d4d80541-51be-4f7a-abc7-3774c24aa3c1');\n",
              "          const dataTable =\n",
              "            await google.colab.kernel.invokeFunction('convertToInteractive',\n",
              "                                                     [key], {});\n",
              "          if (!dataTable) return;\n",
              "\n",
              "          const docLinkHtml = 'Like what you see? Visit the ' +\n",
              "            '<a target=\"_blank\" href=https://colab.research.google.com/notebooks/data_table.ipynb>data table notebook</a>'\n",
              "            + ' to learn more about interactive tables.';\n",
              "          element.innerHTML = '';\n",
              "          dataTable['output_type'] = 'display_data';\n",
              "          await google.colab.output.renderOutput(dataTable, element);\n",
              "          const docLink = document.createElement('div');\n",
              "          docLink.innerHTML = docLinkHtml;\n",
              "          element.appendChild(docLink);\n",
              "        }\n",
              "      </script>\n",
              "    </div>\n",
              "  </div>\n",
              "  "
            ],
            "text/plain": [
              "                   mean       max       std\n",
              "LR   original  0.734000  0.790000  0.050040\n",
              "     smote     0.707857  0.771429  0.034912\n",
              "     cc        0.611667  0.716667  0.074554\n",
              "     smoteenn  0.711199  0.901961  0.103766\n",
              "LDA  original  0.738000  0.790000  0.042849\n",
              "     smote     0.721429  0.814286  0.058815\n",
              "     cc        0.616667  0.733333  0.064550\n",
              "     smoteenn  0.723115  0.921569  0.118606\n",
              "KNN  original  0.660000  0.740000  0.054222\n",
              "     smote     0.667143  0.757143  0.062532\n",
              "     cc        0.406667  0.483333  0.054365\n",
              "     smoteenn  0.813122  0.941176  0.102385\n",
              "CART original  0.687000  0.730000  0.029682\n",
              "     smote     0.735000  0.842857  0.070959\n",
              "     cc        0.745000  0.816667  0.055302\n",
              "     smoteenn  0.764027  0.941176  0.143601\n",
              "RF   original  0.766000  0.850000  0.057306\n",
              "     smote     0.816429  0.957143  0.073056\n",
              "     cc        0.786667  0.866667  0.062716\n",
              "     smoteenn  0.822775  0.980392  0.108510\n",
              "NB   original  0.726000  0.760000  0.032619\n",
              "     smote     0.724286  0.892857  0.107009\n",
              "     cc        0.675000  0.833333  0.081735\n",
              "     smoteenn  0.731033  0.941176  0.157865"
            ]
          },
          "metadata": {},
          "execution_count": 102
        }
      ]
    }
  ]
}