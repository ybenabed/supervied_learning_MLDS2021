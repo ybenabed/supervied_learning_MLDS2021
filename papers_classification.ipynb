{
  "nbformat": 4,
  "nbformat_minor": 0,
  "metadata": {
    "colab": {
      "name": "papers_classification.ipynb",
      "provenance": [],
      "collapsed_sections": [],
      "authorship_tag": "ABX9TyNmOnaJhRlmab2c9MAHNbms",
      "include_colab_link": true
    },
    "kernelspec": {
      "name": "python3",
      "display_name": "Python 3"
    },
    "language_info": {
      "name": "python"
    }
  },
  "cells": [
    {
      "cell_type": "markdown",
      "metadata": {
        "id": "view-in-github",
        "colab_type": "text"
      },
      "source": [
        "<a href=\"https://colab.research.google.com/github/ybenabed/supervied_learning_MLDS2021/blob/main/papers_classification.ipynb\" target=\"_parent\"><img src=\"https://colab.research.google.com/assets/colab-badge.svg\" alt=\"Open In Colab\"/></a>"
      ]
    },
    {
      "cell_type": "code",
      "execution_count": null,
      "metadata": {
        "id": "M4jNSwzhNhXR"
      },
      "outputs": [],
      "source": [
        "pip install imbalanced-learn"
      ]
    },
    {
      "cell_type": "code",
      "source": [
        "%%capture\n",
        "! gdown https://drive.google.com/uc?id=1P4P90pb2JhMF1VjAqLmI9M2OyUzXzn2f\n",
        "! gdown https://drive.google.com/uc?id=1Xr26j1CcYHCxwQpNytDt7z6YbW4Qvx3q\n",
        "! gdown https://drive.google.com/uc?id=1xhjWvPp38-q6Lf8aMIbltBYOrcU4T4pt"
      ],
      "metadata": {
        "id": "8qw00TJqaxMl"
      },
      "execution_count": 1,
      "outputs": []
    },
    {
      "cell_type": "code",
      "source": [
        "np.identity(4) * np.array([1, 2, 3, 4])"
      ],
      "metadata": {
        "colab": {
          "base_uri": "https://localhost:8080/"
        },
        "id": "RbJe7ocaBLZk",
        "outputId": "0918e61e-bd5b-4c1f-d80f-5a2f3f48cced"
      },
      "execution_count": 6,
      "outputs": [
        {
          "output_type": "execute_result",
          "data": {
            "text/plain": [
              "array([[1., 0., 0., 0.],\n",
              "       [0., 2., 0., 0.],\n",
              "       [0., 0., 3., 0.],\n",
              "       [0., 0., 0., 4.]])"
            ]
          },
          "metadata": {},
          "execution_count": 6
        }
      ]
    },
    {
      "cell_type": "markdown",
      "metadata": {
        "id": "U0E9jzmpDfaO"
      },
      "source": [
        "## Chagement de donnees"
      ]
    },
    {
      "cell_type": "code",
      "metadata": {
        "id": "t6HSjdHJ8SL-"
      },
      "source": [
        "import pandas as pd\n",
        "import matplotlib.pyplot as plt\n",
        "import numpy as np\n",
        "from scipy.io import loadmat"
      ],
      "execution_count": 2,
      "outputs": []
    },
    {
      "cell_type": "code",
      "metadata": {
        "id": "n4rKcA7A8o2O",
        "colab": {
          "base_uri": "https://localhost:8080/"
        },
        "outputId": "fe3a72c5-0ee0-45ca-b0eb-9cdd2625646c"
      },
      "source": [
        "# Citeseer Dataset\n",
        "citeseer_mat = loadmat('citeseer.mat')\n",
        "citeseer_X = citeseer_mat['fea']\n",
        "citeseer_W = citeseer_mat['W']\n",
        "citeseer_D_inv = np.identity(citeseer_W.shape[0]) * (1 / citeseer_W.sum(axis = 1))\n",
        "citeseer_M = (citeseer_D_inv.dot(citeseer_W)).dot(citeseer_X)\n",
        "citeseer_labels = citeseer_mat['gnd']\n",
        "citeseer_X.shape, citeseer_W.shape, citeseer_labels.shape, citeseer_M.shape"
      ],
      "execution_count": 10,
      "outputs": [
        {
          "output_type": "execute_result",
          "data": {
            "text/plain": [
              "((3327, 3703), (3327, 3327), (3327, 1), (3327, 3703))"
            ]
          },
          "metadata": {},
          "execution_count": 10
        }
      ]
    },
    {
      "cell_type": "code",
      "source": [
        "# Cora Dataset\n",
        "cora_mat = loadmat('cora.mat')\n",
        "cora_X = cora_mat['fea']\n",
        "cora_W = cora_mat['W']\n",
        "cora_D_inv = np.identity(cora_W.shape[0]) * (1 / cora_W.sum(axis = 1))\n",
        "cora_M = (cora_D_inv.dot(cora_W)).dot(cora_X)\n",
        "cora_labels = cora_mat['gnd']\n",
        "cora_X.shape, cora_W.shape, cora_labels.shape, cora_M.shape"
      ],
      "metadata": {
        "colab": {
          "base_uri": "https://localhost:8080/"
        },
        "id": "dsjDgAxHP9iu",
        "outputId": "7794db0d-1968-40f8-e32b-4017a88da67c"
      },
      "execution_count": 11,
      "outputs": [
        {
          "output_type": "execute_result",
          "data": {
            "text/plain": [
              "((2708, 1433), (2708, 2708), (2708, 1), (2708, 1433))"
            ]
          },
          "metadata": {},
          "execution_count": 11
        }
      ]
    },
    {
      "cell_type": "code",
      "metadata": {
        "colab": {
          "base_uri": "https://localhost:8080/"
        },
        "id": "UkaPC0px8syG",
        "outputId": "95dd5b68-5e60-4427-86bb-c27dcd1532ab"
      },
      "source": [
        "# PubMed Dataset\n",
        "pubmed_mat = loadmat('pubmed.mat')\n",
        "pubmed_X = pubmed_mat['fea']\n",
        "pubmed_W = pubmed_mat['W']\n",
        "pubmed_D_inv = np.identity(pubmed_W.shape[0]) * (1 / pubmed_W.toarray().sum(axis=1))\n",
        "pubmed_M = sparse.csr_matrix(pubmed_D_inv).dot(sparse.csr_matrix(pubmed_W)).dot(pubmed_X)\n",
        "pubmed_labels = pubmed_mat['gnd']\n",
        "pubmed_X.shape, pubmed_W.shape, pubmed_labels.shape, pubmed_M.shape"
      ],
      "execution_count": 8,
      "outputs": [
        {
          "output_type": "execute_result",
          "data": {
            "text/plain": [
              "((19717, 500), (19717, 19717), (19717, 1), (19717, 500))"
            ]
          },
          "metadata": {},
          "execution_count": 8
        }
      ]
    },
    {
      "cell_type": "code",
      "metadata": {
        "colab": {
          "base_uri": "https://localhost:8080/",
          "height": 250
        },
        "id": "1bcSVTa48t8n",
        "outputId": "4b029b50-8d3f-4afe-bd50-cc8ba8772199"
      },
      "source": [
        "sizes = [np.count_nonzero(citeseer_labels == label) for label in np.unique(citeseer_labels)]\n",
        "fig1, ax1 = plt.subplots()\n",
        "ax1.pie(sizes, labels=np.unique(citeseer_labels), autopct='%1.1f%%', shadow=True, startangle=90)\n",
        "ax1.axis('equal')\n",
        "plt.show()"
      ],
      "execution_count": 14,
      "outputs": [
        {
          "output_type": "display_data",
          "data": {
            "image/png": "[encoded data removed]",
            "text/plain": [
              "<Figure size 432x288 with 1 Axes>"
            ]
          },
          "metadata": {}
        }
      ]
    },
    {
      "cell_type": "code",
      "source": [
        "sizes = [np.count_nonzero(cora_labels == label) for label in np.unique(cora_labels)]\n",
        "fig1, ax1 = plt.subplots()\n",
        "ax1.pie(sizes, labels=np.unique(cora_labels), autopct='%1.1f%%', shadow=True, startangle=90)\n",
        "ax1.axis('equal')\n",
        "plt.show()"
      ],
      "metadata": {
        "id": "6G5-9hikNwoY",
        "colab": {
          "base_uri": "https://localhost:8080/",
          "height": 254
        },
        "outputId": "2a632e82-9386-40dd-e674-5c57a3aa0691"
      },
      "execution_count": 12,
      "outputs": [
        {
          "output_type": "display_data",
          "data": {
            "image/png": "[encoded data removed]",
            "text/plain": [
              "<Figure size 432x288 with 1 Axes>"
            ]
          },
          "metadata": {}
        }
      ]
    },
    {
      "cell_type": "code",
      "source": [
        "sizes = [np.count_nonzero(pubmed_labels == label) for label in np.unique(pubmed_labels)]\n",
        "fig1, ax1 = plt.subplots()\n",
        "ax1.pie(sizes, labels=np.unique(pubmed_labels), autopct='%1.1f%%', shadow=True, startangle=90)\n",
        "ax1.axis('equal')\n",
        "plt.show()"
      ],
      "metadata": {
        "id": "ITi0Z9VTNxQ3",
        "colab": {
          "base_uri": "https://localhost:8080/",
          "height": 248
        },
        "outputId": "212da42e-2a62-4926-e9cd-b400763052de"
      },
      "execution_count": 13,
      "outputs": [
        {
          "output_type": "display_data",
          "data": {
            "image/png": "[encoded data removed]",
            "text/plain": [
              "<Figure size 432x288 with 1 Axes>"
            ]
          },
          "metadata": {}
        }
      ]
    },
    {
      "cell_type": "markdown",
      "source": [
        "## Data Preprocessing"
      ],
      "metadata": {
        "id": "mQzcinYAQoM-"
      }
    },
    {
      "cell_type": "markdown",
      "source": [
        "### Balancer les données"
      ],
      "metadata": {
        "id": "KtTR8NsdQ6cB"
      }
    },
    {
      "cell_type": "code",
      "source": [
        "from imblearn.over_sampling import SMOTE\n",
        "from imblearn.under_sampling import ClusterCentroids\n",
        "from imblearn.combine import SMOTEENN"
      ],
      "metadata": {
        "id": "1p7V3-_hQ7_d"
      },
      "execution_count": 15,
      "outputs": []
    },
    {
      "cell_type": "code",
      "source": [
        "smoteImbOver = SMOTE()\n",
        "\n",
        "citeseer_X_smote, citeseer_labels_smote = smoteImbOver.fit_resample(citeseer_X, citeseer_labels)\n",
        "citeseer_M_smote, citeseer_labels_Msmote = smoteImbOver.fit_resample(citeseer_M, citeseer_labels)\n",
        "\n",
        "cora_X_smote, cora_labels_smote = smoteImbOver.fit_resample(cora_X, cora_labels)\n",
        "cora_M_smote, cora_labels_Msmote = smoteImbOver.fit_resample(cora_M, cora_labels)\n",
        "\n",
        "pubmed_X_smote, pubmed_labels_smote = smoteImbOver.fit_resample(pubmed_X, pubmed_labels)\n",
        "pubmed_M_smote, pubmed_labels_Msmote = smoteImbOver.fit_resample(pubmed_M, pubmed_labels)\n",
        "\n",
        "(citeseer_X_smote.shape ,citeseer_labels_smote.shape), (cora_X_smote.shape ,cora_labels_smote.shape), (pubmed_X_smote.shape ,pubmed_labels_smote.shape)"
      ],
      "metadata": {
        "id": "kxU91fC7Q-Kd"
      },
      "execution_count": 21,
      "outputs": []
    },
    {
      "cell_type": "code",
      "source": [
        "ccImbUnder = ClusterCentroids(random_state=42)\n",
        "\n",
        "citeseer_X_cc, citeseer_labels_cc = ccImbUnder.fit_resample(citeseer_X, citeseer_labels)\n",
        "citeseer_M_cc, citeseer_labels_Mcc = ccImbUnder.fit_resample(citeseer_M, citeseer_labels)\n",
        "\n",
        "cora_X_cc, cora_labels_cc = ccImbUnder.fit_resample(cora_X, cora_labels)\n",
        "cora_M_cc, cora_labels_Mcc = ccImbUnder.fit_resample(cora_M, cora_labels)\n",
        "\n",
        "pubmed_X_cc, pubmed_labels_cc = ccImbUnder.fit_resample(pubmed_X, pubmed_labels)\n",
        "pubmed_M_cc, pubmed_labels_Mcc = ccImbUnder.fit_resample(pubmed_M, pubmed_labels)\n",
        "\n",
        "(citeseer_X_cc.shape ,citeseer_labels_cc.shape), (cora_X_cc.shape ,cora_labels_cc.shape), (pubmed_X_cc.shape ,pubmed_labels_cc.shape)"
      ],
      "metadata": {
        "id": "xT4FI4fYR2Ph"
      },
      "execution_count": 22,
      "outputs": []
    },
    {
      "cell_type": "code",
      "source": [
        "smoteImbCombine = SMOTEENN()\n",
        "\n",
        "citeseer_X_smoteenn, citeseer_labels_smoteenn = smoteImbCombine.fit_resample(citeseer_X, citeseer_labels)\n",
        "citeseer_M_smoteenn, citeseer_labels_Msmoteenn = smoteImbCombine.fit_resample(citeseer_M, citeseer_labels)\n",
        "\n",
        "cora_X_smoteenn, cora_labels_smoteenn = smoteImbCombine.fit_resample(cora_X, cora_labels)\n",
        "cora_M_smoteenn, cora_labels_Msmoteenn = smoteImbCombine.fit_resample(cora_M, cora_labels)\n",
        "\n",
        "pubmed_X_smoteenn, pubmed_labels_smoteenn = smoteImbCombine.fit_resample(pubmed_X, pubmed_labels)\n",
        "pubmed_M_smoteenn, pubmed_labels_Msmoteenn = smoteImbCombine.fit_resample(pubmed_M, pubmed_labels)\n",
        "\n",
        "(citeseer_X_smoteenn.shape ,citeseer_labels_smoteenn.shape), (cora_X_smoteenn.shape ,cora_labels_smoteenn.shape), (pubmed_X_smoteenn.shape ,pubmed_labels_smoteenn.shape)"
      ],
      "metadata": {
        "id": "oGSvclEfSFhC"
      },
      "execution_count": 23,
      "outputs": []
    },
    {
      "cell_type": "markdown",
      "source": [
        "## Classification"
      ],
      "metadata": {
        "id": "zgxm0NsKJ4aQ"
      }
    },
    {
      "cell_type": "code",
      "source": [
        "from sklearn.discriminant_analysis import LinearDiscriminantAnalysis\n",
        "from sklearn.linear_model import LogisticRegression\n",
        "from sklearn.tree import DecisionTreeClassifier\n",
        "from sklearn.ensemble import RandomForestClassifier\n",
        "from sklearn.neighbors import KNeighborsClassifier\n",
        "from sklearn.naive_bayes import GaussianNB\n",
        "from sklearn.preprocessing import StandardScaler\n",
        "from sklearn.model_selection import cross_val_score\n",
        "from sklearn.model_selection import RepeatedStratifiedKFold, KFold"
      ],
      "metadata": {
        "id": "V3Ne070ISrM5"
      },
      "execution_count": null,
      "outputs": []
    },
    {
      "cell_type": "markdown",
      "source": [
        "### CiteSeer"
      ],
      "metadata": {
        "id": "RkE-xdSQKLqD"
      }
    },
    {
      "cell_type": "markdown",
      "source": [
        "#### Avec la matrice de données X (fea)"
      ],
      "metadata": {
        "id": "vIxW8uqkO2bn"
      }
    },
    {
      "cell_type": "code",
      "source": [
        "%%capture\n",
        "X_data, Y_data = citeseer_X, citeseer_labels\n",
        "X_smote, Y_smote = citeseer_X_smote, citeseer_labels_smote\n",
        "X_cc, Y_cc = citeseer_X_cc, citeseer_labels_cc\n",
        "X_smoteenn, Y_smoteenn = citeseer_X_smoteenn, citeseer_labels_smoteenn\n",
        "methods = {}\n",
        "methods['LR'] = {'model': LogisticRegression(), 'results': {}}\n",
        "methods['LDA'] = {'model': LinearDiscriminantAnalysis(), 'results': {}}\n",
        "methods['KNN'] = {'model': KNeighborsClassifier(), 'results': {}}\n",
        "methods['CART'] = {'model': DecisionTreeClassifier(), 'results': {}}\n",
        "methods['RF'] = {'model': RandomForestClassifier(), 'results': {}}\n",
        "methods['NB'] = {'model': GaussianNB(), 'results': {}}\n",
        "for name, method in methods.items():\n",
        "  model = method['model']\n",
        "  kfold = KFold(n_splits=10)\n",
        "  cv_results_original = cross_val_score(model, X_data, Y_data, cv=kfold, scoring='accuracy')\n",
        "  cv_results_smote = cross_val_score(model, X_smote, Y_smote, cv=kfold, scoring='accuracy')\n",
        "  cv_results_cc = cross_val_score(model, X_cc, Y_cc, cv=kfold, scoring='accuracy')\n",
        "  cv_results_smoteenn = cross_val_score(model, X_smoteenn, Y_smoteenn, cv=kfold, scoring='accuracy')\n",
        "  method['results']['original'] = {'mean': cv_results_original.mean(), 'max': cv_results_original.max(), 'std': cv_results_original.std()}\n",
        "  method['results']['smote'] = {'mean': cv_results_smote.mean(), 'max': cv_results_smote.max(), 'std': cv_results_smote.std()}\n",
        "  method['results']['cc'] = {'mean': cv_results_cc.mean(), 'max': cv_results_cc.max(), 'std': cv_results_cc.std()}\n",
        "  method['results']['smoteenn'] = {'mean': cv_results_smoteenn.mean(), 'max': cv_results_smoteenn.max(), 'std': cv_results_smoteenn.std()}"
      ],
      "metadata": {
        "id": "XNOcOyoaKTRF"
      },
      "execution_count": null,
      "outputs": []
    },
    {
      "cell_type": "code",
      "source": [
        "citeseer_X_results = pd.DataFrame.from_dict({(i,j): methods[i]['results'][j] \n",
        "                  for i in methods.keys()\n",
        "                  for j in methods[i]['results'].keys()},\n",
        "              orient='index')\n",
        "citeseer_X_results"
      ],
      "metadata": {
        "id": "FRNtSuVaQv-0"
      },
      "execution_count": null,
      "outputs": []
    },
    {
      "cell_type": "markdown",
      "source": [
        "#### Avec la matrice $M = D^{-1} W X $"
      ],
      "metadata": {
        "id": "49FcXwSZO6tU"
      }
    },
    {
      "cell_type": "code",
      "source": [
        "%%capture\n",
        "X_data, Y_data = citeseer_X, citeseer_labels\n",
        "X_smote, Y_smote = citeseer_M_smote, citeseer_labels_Msmote\n",
        "X_cc, Y_cc = citeseer_M_cc, citeseer_labels_Mcc\n",
        "X_smoteenn, Y_smoteenn = citeseer_M_smoteenn, citeseer_labels_Msmoteenn\n",
        "methods = {}\n",
        "methods['LR'] = {'model': LogisticRegression(), 'results': {}}\n",
        "methods['LDA'] = {'model': LinearDiscriminantAnalysis(), 'results': {}}\n",
        "methods['KNN'] = {'model': KNeighborsClassifier(), 'results': {}}\n",
        "methods['CART'] = {'model': DecisionTreeClassifier(), 'results': {}}\n",
        "methods['RF'] = {'model': RandomForestClassifier(), 'results': {}}\n",
        "methods['NB'] = {'model': GaussianNB(), 'results': {}}\n",
        "for name, method in methods.items():\n",
        "  model = method['model']\n",
        "  kfold = KFold(n_splits=10)\n",
        "  cv_results_original = cross_val_score(model, X_data, Y_data, cv=kfold, scoring='accuracy')\n",
        "  cv_results_smote = cross_val_score(model, X_smote, Y_smote, cv=kfold, scoring='accuracy')\n",
        "  cv_results_cc = cross_val_score(model, X_cc, Y_cc, cv=kfold, scoring='accuracy')\n",
        "  cv_results_smoteenn = cross_val_score(model, X_smoteenn, Y_smoteenn, cv=kfold, scoring='accuracy')\n",
        "  method['results']['original'] = {'mean': cv_results_original.mean(), 'max': cv_results_original.max(), 'std': cv_results_original.std()}\n",
        "  method['results']['smote'] = {'mean': cv_results_smote.mean(), 'max': cv_results_smote.max(), 'std': cv_results_smote.std()}\n",
        "  method['results']['cc'] = {'mean': cv_results_cc.mean(), 'max': cv_results_cc.max(), 'std': cv_results_cc.std()}\n",
        "  method['results']['smoteenn'] = {'mean': cv_results_smoteenn.mean(), 'max': cv_results_smoteenn.max(), 'std': cv_results_smoteenn.std()}"
      ],
      "metadata": {
        "id": "ptbgK_3zT-LQ"
      },
      "execution_count": null,
      "outputs": []
    },
    {
      "cell_type": "code",
      "source": [
        "citeseer_M_results = pd.DataFrame.from_dict({(i,j): methods[i]['results'][j] \n",
        "                  for i in methods.keys()\n",
        "                  for j in methods[i]['results'].keys()},\n",
        "              orient='index')\n",
        "citeseer_M_results"
      ],
      "metadata": {
        "id": "X14iG-uMT-LS"
      },
      "execution_count": null,
      "outputs": []
    },
    {
      "cell_type": "markdown",
      "source": [
        "### Cora"
      ],
      "metadata": {
        "id": "C5Hqi27QKPsQ"
      }
    },
    {
      "cell_type": "markdown",
      "source": [
        "#### Avec la matrice de données X (fea)"
      ],
      "metadata": {
        "id": "OGCr0idjW9Bq"
      }
    },
    {
      "cell_type": "code",
      "source": [
        "%%capture\n",
        "X_data, Y_data = citeseer_X, citeseer_labels\n",
        "X_smote, Y_smote = citeseer_X_smote, citeseer_labels_smote\n",
        "X_cc, Y_cc = citeseer_X_cc, citeseer_labels_cc\n",
        "X_smoteenn, Y_smoteenn = citeseer_X_smoteenn, citeseer_labels_smoteenn\n",
        "methods = {}\n",
        "methods['LR'] = {'model': LogisticRegression(), 'results': {}}\n",
        "methods['LDA'] = {'model': LinearDiscriminantAnalysis(), 'results': {}}\n",
        "methods['KNN'] = {'model': KNeighborsClassifier(), 'results': {}}\n",
        "methods['CART'] = {'model': DecisionTreeClassifier(), 'results': {}}\n",
        "methods['RF'] = {'model': RandomForestClassifier(), 'results': {}}\n",
        "methods['NB'] = {'model': GaussianNB(), 'results': {}}\n",
        "for name, method in methods.items():\n",
        "  model = method['model']\n",
        "  kfold = KFold(n_splits=10)\n",
        "  cv_results_original = cross_val_score(model, X_data, Y_data, cv=kfold, scoring='accuracy')\n",
        "  cv_results_smote = cross_val_score(model, X_smote, Y_smote, cv=kfold, scoring='accuracy')\n",
        "  cv_results_cc = cross_val_score(model, X_cc, Y_cc, cv=kfold, scoring='accuracy')\n",
        "  cv_results_smoteenn = cross_val_score(model, X_smoteenn, Y_smoteenn, cv=kfold, scoring='accuracy')\n",
        "  method['results']['original'] = {'mean': cv_results_original.mean(), 'max': cv_results_original.max(), 'std': cv_results_original.std()}\n",
        "  method['results']['smote'] = {'mean': cv_results_smote.mean(), 'max': cv_results_smote.max(), 'std': cv_results_smote.std()}\n",
        "  method['results']['cc'] = {'mean': cv_results_cc.mean(), 'max': cv_results_cc.max(), 'std': cv_results_cc.std()}\n",
        "  method['results']['smoteenn'] = {'mean': cv_results_smoteenn.mean(), 'max': cv_results_smoteenn.max(), 'std': cv_results_smoteenn.std()}"
      ],
      "metadata": {
        "id": "O-guLopXW9Bz"
      },
      "execution_count": null,
      "outputs": []
    },
    {
      "cell_type": "code",
      "source": [
        "citeseer_X_results = pd.DataFrame.from_dict({(i,j): methods[i]['results'][j] \n",
        "                  for i in methods.keys()\n",
        "                  for j in methods[i]['results'].keys()},\n",
        "              orient='index')\n",
        "citeseer_X_results"
      ],
      "metadata": {
        "id": "jxnro3HIW9Bz"
      },
      "execution_count": null,
      "outputs": []
    },
    {
      "cell_type": "markdown",
      "source": [
        "#### Avec la matrice $M = D^{-1} W X $"
      ],
      "metadata": {
        "id": "JxO9V3VyW9Bz"
      }
    },
    {
      "cell_type": "code",
      "source": [
        "%%capture\n",
        "X_data, Y_data = citeseer_X, citeseer_labels\n",
        "X_smote, Y_smote = citeseer_M_smote, citeseer_labels_Msmote\n",
        "X_cc, Y_cc = citeseer_M_cc, citeseer_labels_Mcc\n",
        "X_smoteenn, Y_smoteenn = citeseer_M_smoteenn, citeseer_labels_Msmoteenn\n",
        "methods = {}\n",
        "methods['LR'] = {'model': LogisticRegression(), 'results': {}}\n",
        "methods['LDA'] = {'model': LinearDiscriminantAnalysis(), 'results': {}}\n",
        "methods['KNN'] = {'model': KNeighborsClassifier(), 'results': {}}\n",
        "methods['CART'] = {'model': DecisionTreeClassifier(), 'results': {}}\n",
        "methods['RF'] = {'model': RandomForestClassifier(), 'results': {}}\n",
        "methods['NB'] = {'model': GaussianNB(), 'results': {}}\n",
        "for name, method in methods.items():\n",
        "  model = method['model']\n",
        "  kfold = KFold(n_splits=10)\n",
        "  cv_results_original = cross_val_score(model, X_data, Y_data, cv=kfold, scoring='accuracy')\n",
        "  cv_results_smote = cross_val_score(model, X_smote, Y_smote, cv=kfold, scoring='accuracy')\n",
        "  cv_results_cc = cross_val_score(model, X_cc, Y_cc, cv=kfold, scoring='accuracy')\n",
        "  cv_results_smoteenn = cross_val_score(model, X_smoteenn, Y_smoteenn, cv=kfold, scoring='accuracy')\n",
        "  method['results']['original'] = {'mean': cv_results_original.mean(), 'max': cv_results_original.max(), 'std': cv_results_original.std()}\n",
        "  method['results']['smote'] = {'mean': cv_results_smote.mean(), 'max': cv_results_smote.max(), 'std': cv_results_smote.std()}\n",
        "  method['results']['cc'] = {'mean': cv_results_cc.mean(), 'max': cv_results_cc.max(), 'std': cv_results_cc.std()}\n",
        "  method['results']['smoteenn'] = {'mean': cv_results_smoteenn.mean(), 'max': cv_results_smoteenn.max(), 'std': cv_results_smoteenn.std()}"
      ],
      "metadata": {
        "id": "LxAM1hBAW9Bz"
      },
      "execution_count": null,
      "outputs": []
    },
    {
      "cell_type": "code",
      "source": [
        "citeseer_M_results = pd.DataFrame.from_dict({(i,j): methods[i]['results'][j] \n",
        "                  for i in methods.keys()\n",
        "                  for j in methods[i]['results'].keys()},\n",
        "              orient='index')\n",
        "citeseer_M_results"
      ],
      "metadata": {
        "id": "2kZCDoYuW9B0"
      },
      "execution_count": null,
      "outputs": []
    },
    {
      "cell_type": "markdown",
      "source": [
        "### Pubmed"
      ],
      "metadata": {
        "id": "H7digur4KQzZ"
      }
    },
    {
      "cell_type": "markdown",
      "source": [
        "#### Avec la matrice de données X (fea)"
      ],
      "metadata": {
        "id": "_HAOVExYW9iR"
      }
    },
    {
      "cell_type": "code",
      "source": [
        "%%capture\n",
        "X_data, Y_data = citeseer_X, citeseer_labels\n",
        "X_smote, Y_smote = citeseer_X_smote, citeseer_labels_smote\n",
        "X_cc, Y_cc = citeseer_X_cc, citeseer_labels_cc\n",
        "X_smoteenn, Y_smoteenn = citeseer_X_smoteenn, citeseer_labels_smoteenn\n",
        "methods = {}\n",
        "methods['LR'] = {'model': LogisticRegression(), 'results': {}}\n",
        "methods['LDA'] = {'model': LinearDiscriminantAnalysis(), 'results': {}}\n",
        "methods['KNN'] = {'model': KNeighborsClassifier(), 'results': {}}\n",
        "methods['CART'] = {'model': DecisionTreeClassifier(), 'results': {}}\n",
        "methods['RF'] = {'model': RandomForestClassifier(), 'results': {}}\n",
        "methods['NB'] = {'model': GaussianNB(), 'results': {}}\n",
        "for name, method in methods.items():\n",
        "  model = method['model']\n",
        "  kfold = KFold(n_splits=10)\n",
        "  cv_results_original = cross_val_score(model, X_data, Y_data, cv=kfold, scoring='accuracy')\n",
        "  cv_results_smote = cross_val_score(model, X_smote, Y_smote, cv=kfold, scoring='accuracy')\n",
        "  cv_results_cc = cross_val_score(model, X_cc, Y_cc, cv=kfold, scoring='accuracy')\n",
        "  cv_results_smoteenn = cross_val_score(model, X_smoteenn, Y_smoteenn, cv=kfold, scoring='accuracy')\n",
        "  method['results']['original'] = {'mean': cv_results_original.mean(), 'max': cv_results_original.max(), 'std': cv_results_original.std()}\n",
        "  method['results']['smote'] = {'mean': cv_results_smote.mean(), 'max': cv_results_smote.max(), 'std': cv_results_smote.std()}\n",
        "  method['results']['cc'] = {'mean': cv_results_cc.mean(), 'max': cv_results_cc.max(), 'std': cv_results_cc.std()}\n",
        "  method['results']['smoteenn'] = {'mean': cv_results_smoteenn.mean(), 'max': cv_results_smoteenn.max(), 'std': cv_results_smoteenn.std()}"
      ],
      "metadata": {
        "id": "3vya_OMtW9iT"
      },
      "execution_count": null,
      "outputs": []
    },
    {
      "cell_type": "code",
      "source": [
        "citeseer_X_results = pd.DataFrame.from_dict({(i,j): methods[i]['results'][j] \n",
        "                  for i in methods.keys()\n",
        "                  for j in methods[i]['results'].keys()},\n",
        "              orient='index')\n",
        "citeseer_X_results"
      ],
      "metadata": {
        "id": "Zfji7_7vW9iV"
      },
      "execution_count": null,
      "outputs": []
    },
    {
      "cell_type": "markdown",
      "source": [
        "#### Avec la matrice $M = D^{-1} W X $"
      ],
      "metadata": {
        "id": "Qtw7yBUnW9iW"
      }
    },
    {
      "cell_type": "code",
      "source": [
        "%%capture\n",
        "X_data, Y_data = citeseer_X, citeseer_labels\n",
        "X_smote, Y_smote = citeseer_M_smote, citeseer_labels_Msmote\n",
        "X_cc, Y_cc = citeseer_M_cc, citeseer_labels_Mcc\n",
        "X_smoteenn, Y_smoteenn = citeseer_M_smoteenn, citeseer_labels_Msmoteenn\n",
        "methods = {}\n",
        "methods['LR'] = {'model': LogisticRegression(), 'results': {}}\n",
        "methods['LDA'] = {'model': LinearDiscriminantAnalysis(), 'results': {}}\n",
        "methods['KNN'] = {'model': KNeighborsClassifier(), 'results': {}}\n",
        "methods['CART'] = {'model': DecisionTreeClassifier(), 'results': {}}\n",
        "methods['RF'] = {'model': RandomForestClassifier(), 'results': {}}\n",
        "methods['NB'] = {'model': GaussianNB(), 'results': {}}\n",
        "for name, method in methods.items():\n",
        "  model = method['model']\n",
        "  kfold = KFold(n_splits=10)\n",
        "  cv_results_original = cross_val_score(model, X_data, Y_data, cv=kfold, scoring='accuracy')\n",
        "  cv_results_smote = cross_val_score(model, X_smote, Y_smote, cv=kfold, scoring='accuracy')\n",
        "  cv_results_cc = cross_val_score(model, X_cc, Y_cc, cv=kfold, scoring='accuracy')\n",
        "  cv_results_smoteenn = cross_val_score(model, X_smoteenn, Y_smoteenn, cv=kfold, scoring='accuracy')\n",
        "  method['results']['original'] = {'mean': cv_results_original.mean(), 'max': cv_results_original.max(), 'std': cv_results_original.std()}\n",
        "  method['results']['smote'] = {'mean': cv_results_smote.mean(), 'max': cv_results_smote.max(), 'std': cv_results_smote.std()}\n",
        "  method['results']['cc'] = {'mean': cv_results_cc.mean(), 'max': cv_results_cc.max(), 'std': cv_results_cc.std()}\n",
        "  method['results']['smoteenn'] = {'mean': cv_results_smoteenn.mean(), 'max': cv_results_smoteenn.max(), 'std': cv_results_smoteenn.std()}"
      ],
      "metadata": {
        "id": "hAdR4CLiW9iX"
      },
      "execution_count": null,
      "outputs": []
    },
    {
      "cell_type": "code",
      "source": [
        "citeseer_M_results = pd.DataFrame.from_dict({(i,j): methods[i]['results'][j] \n",
        "                  for i in methods.keys()\n",
        "                  for j in methods[i]['results'].keys()},\n",
        "              orient='index')\n",
        "citeseer_M_results"
      ],
      "metadata": {
        "id": "h5e5l54qW9iZ"
      },
      "execution_count": null,
      "outputs": []
    }
  ]
}