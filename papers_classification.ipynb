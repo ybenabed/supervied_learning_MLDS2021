{
  "nbformat": 4,
  "nbformat_minor": 0,
  "metadata": {
    "colab": {
      "name": "papers_classification.ipynb",
      "provenance": [],
      "collapsed_sections": [],
      "authorship_tag": "ABX9TyPmEPEsUHJ8MxQWNjRoWjfk",
      "include_colab_link": true
    },
    "kernelspec": {
      "name": "python3",
      "display_name": "Python 3"
    },
    "language_info": {
      "name": "python"
    }
  },
  "cells": [
    {
      "cell_type": "markdown",
      "metadata": {
        "id": "view-in-github",
        "colab_type": "text"
      },
      "source": [
        "<a href=\"https://colab.research.google.com/github/ybenabed/supervied_learning_MLDS2021/blob/main/papers_classification.ipynb\" target=\"_parent\"><img src=\"https://colab.research.google.com/assets/colab-badge.svg\" alt=\"Open In Colab\"/></a>"
      ]
    },
    {
      "cell_type": "code",
      "execution_count": null,
      "metadata": {
        "id": "M4jNSwzhNhXR"
      },
      "outputs": [],
      "source": [
        "pip install imbalanced-learn"
      ]
    },
    {
      "cell_type": "code",
      "source": [
        "%%capture\n",
        "! gdown https://drive.google.com/uc?id=1P4P90pb2JhMF1VjAqLmI9M2OyUzXzn2f\n",
        "! gdown https://drive.google.com/uc?id=1Xr26j1CcYHCxwQpNytDt7z6YbW4Qvx3q\n",
        "! gdown https://drive.google.com/uc?id=1xhjWvPp38-q6Lf8aMIbltBYOrcU4T4pt"
      ],
      "metadata": {
        "id": "8qw00TJqaxMl"
      },
      "execution_count": null,
      "outputs": []
    },
    {
      "cell_type": "markdown",
      "metadata": {
        "id": "U0E9jzmpDfaO"
      },
      "source": [
        "## Chagement de donnees"
      ]
    },
    {
      "cell_type": "code",
      "metadata": {
        "id": "t6HSjdHJ8SL-"
      },
      "source": [
        "import pandas as pd\n",
        "import matplotlib.pyplot as plt\n",
        "import numpy as np\n",
        "from scipy.io import loadmat"
      ],
      "execution_count": null,
      "outputs": []
    },
    {
      "cell_type": "code",
      "metadata": {
        "id": "n4rKcA7A8o2O",
        "colab": {
          "base_uri": "https://localhost:8080/"
        },
        "outputId": "dd946199-1146-493d-d7c8-ea9dfdbe039a"
      },
      "source": [
        "# Citeseer Dataset\n",
        "citeseer_mat = loadmat('citeseer.mat')\n",
        "citeseer_X = citeseer_mat['fea']\n",
        "citeseer_W = citeseer_mat['W']\n",
        "citeseer_labels = citeseer_mat['gnd']\n",
        "citeseer_X.shape, citeseer_W.shape, citeseer_labels.shape"
      ],
      "execution_count": null,
      "outputs": [
        {
          "output_type": "execute_result",
          "data": {
            "text/plain": [
              "((3327, 3703), (3327, 3327), (3327, 1))"
            ]
          },
          "metadata": {},
          "execution_count": 9
        }
      ]
    },
    {
      "cell_type": "code",
      "source": [
        "# Cora Dataset\n",
        "cora_mat = loadmat('cora.mat')\n",
        "cora_X = cora_mat['fea']\n",
        "cora_W = cora_mat['W']\n",
        "cora_labels = cora_mat['gnd']\n",
        "cora_X.shape, cora_W.shape, cora_labels.shape"
      ],
      "metadata": {
        "colab": {
          "base_uri": "https://localhost:8080/"
        },
        "id": "dsjDgAxHP9iu",
        "outputId": "805f0a34-6ca1-4dfc-bec6-21e0d119b36f"
      },
      "execution_count": null,
      "outputs": [
        {
          "output_type": "execute_result",
          "data": {
            "text/plain": [
              "((2708, 1433), (2708, 2708), (2708, 1))"
            ]
          },
          "metadata": {},
          "execution_count": 10
        }
      ]
    },
    {
      "cell_type": "code",
      "metadata": {
        "colab": {
          "base_uri": "https://localhost:8080/"
        },
        "id": "UkaPC0px8syG",
        "outputId": "3fecce1b-f5c2-45c1-b49f-0a1943ed528f"
      },
      "source": [
        "# PubMed Dataset\n",
        "pubmed_mat = loadmat('pubmed.mat')\n",
        "pubmed_X = pubmed_mat['fea']\n",
        "pubmed_W = pubmed_mat['W']\n",
        "pubmed_labels = pubmed_mat['gnd']\n",
        "pubmed_X.shape, pubmed_W.shape, pubmed_labels.shape"
      ],
      "execution_count": null,
      "outputs": [
        {
          "output_type": "execute_result",
          "data": {
            "text/plain": [
              "((19717, 500), (19717, 19717), (19717, 1))"
            ]
          },
          "metadata": {},
          "execution_count": 11
        }
      ]
    },
    {
      "cell_type": "code",
      "metadata": {
        "colab": {
          "base_uri": "https://localhost:8080/",
          "height": 248
        },
        "id": "1bcSVTa48t8n",
        "outputId": "711fdf81-8d84-48e3-ecc8-b71778c427da"
      },
      "source": [
        "sizes = [np.count_nonzero(citeseer_labels == label) for label in np.unique(citeseer_labels)]\n",
        "fig1, ax1 = plt.subplots()\n",
        "ax1.pie(sizes, labels=np.unique(citeseer_labels), autopct='%1.1f%%', shadow=True, startangle=90)\n",
        "ax1.axis('equal')\n",
        "plt.show()"
      ],
      "execution_count": null,
      "outputs": [
        {
          "output_type": "display_data",
          "data": {
            "image/png": "[encoded data removed]",
            "text/plain": [
              "<Figure size 432x288 with 1 Axes>"
            ]
          },
          "metadata": {}
        }
      ]
    },
    {
      "cell_type": "markdown",
      "source": [
        "Cet ensemble de données comprend 1000 exemples et 20 variables, avec une variable supplémentaire \"label\" indiquant la classe correspondante à chaque individu.\n",
        "\n",
        "En visualisant le nombre de valeurs nulles qui existent dans chacune des collones, on remarque que ce jeux de données ne contient aucune valeur nulle qui peut affecter l'apprentissage."
      ],
      "metadata": {
        "id": "VsWKi8Dcv9sW"
      }
    },
    {
      "cell_type": "code",
      "source": [
        "sizes = [np.count_nonzero(cora_labels == label) for label in np.unique(cora_labels)]\n",
        "fig1, ax1 = plt.subplots()\n",
        "ax1.pie(sizes, labels=np.unique(cora_labels), autopct='%1.1f%%', shadow=True, startangle=90)\n",
        "ax1.axis('equal')\n",
        "plt.show()"
      ],
      "metadata": {
        "id": "6G5-9hikNwoY"
      },
      "execution_count": null,
      "outputs": []
    },
    {
      "cell_type": "code",
      "source": [
        "sizes = [np.count_nonzero(pubmed_labels == label) for label in np.unique(pubmed_labels)]\n",
        "fig1, ax1 = plt.subplots()\n",
        "ax1.pie(sizes, labels=np.unique(pubmed_labels), autopct='%1.1f%%', shadow=True, startangle=90)\n",
        "ax1.axis('equal')\n",
        "plt.show()"
      ],
      "metadata": {
        "id": "ITi0Z9VTNxQ3"
      },
      "execution_count": null,
      "outputs": []
    },
    {
      "cell_type": "code",
      "metadata": {
        "colab": {
          "base_uri": "https://localhost:8080/"
        },
        "id": "Kb0SM1XtIfmC",
        "outputId": "47c41e9d-1c71-42ac-c09c-8c74df227032"
      },
      "source": [
        "bank_df.isnull().sum()"
      ],
      "execution_count": null,
      "outputs": [
        {
          "output_type": "execute_result",
          "data": {
            "text/plain": [
              "status_cce          0\n",
              "duree_mois          0\n",
              "hist_credit         0\n",
              "obj                 0\n",
              "montant_credit      0\n",
              "compte_epargne      0\n",
              "emplois_depuis      0\n",
              "taux_vers_revenu    0\n",
              "status_sexe         0\n",
              "autres_debits       0\n",
              "residence_depuis    0\n",
              "prop                0\n",
              "age                 0\n",
              "plans_vers          0\n",
              "log                 0\n",
              "nbr_credits         0\n",
              "travail             0\n",
              "nbr_per_charge      0\n",
              "tel                 0\n",
              "trav_etranger       0\n",
              "label               0\n",
              "dtype: int64"
            ]
          },
          "metadata": {},
          "execution_count": 7
        }
      ]
    }
  ]
}